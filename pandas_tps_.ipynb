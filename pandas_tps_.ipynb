{
  "nbformat": 4,
  "nbformat_minor": 0,
  "metadata": {
    "colab": {
      "name": "pandas tps .ipynb",
      "provenance": [],
      "authorship_tag": "ABX9TyPB62j0J0qQ/Mfio6KGYZW0",
      "include_colab_link": true
    },
    "kernelspec": {
      "name": "python3",
      "display_name": "Python 3"
    },
    "language_info": {
      "name": "python"
    }
  },
  "cells": [
    {
      "cell_type": "markdown",
      "metadata": {
        "id": "view-in-github",
        "colab_type": "text"
      },
      "source": [
        "<a href=\"https://colab.research.google.com/github/SUDHANSHU4497/practice/blob/main/pandas_tps_.ipynb\" target=\"_parent\"><img src=\"https://colab.research.google.com/assets/colab-badge.svg\" alt=\"Open In Colab\"/></a>"
      ]
    },
    {
      "cell_type": "code",
      "execution_count": 3,
      "metadata": {
        "colab": {
          "base_uri": "https://localhost:8080/"
        },
        "id": "Po2dgLXswyiC",
        "outputId": "668904a4-13ed-437e-ec9d-e1c7635c5544"
      },
      "outputs": [
        {
          "output_type": "stream",
          "name": "stdout",
          "text": [
            "0   -1.397458\n",
            "1    1.411545\n",
            "2    0.990013\n",
            "3   -0.703577\n",
            "4    0.831539\n",
            "5   -0.062813\n",
            "6    0.450629\n",
            "7    0.505450\n",
            "8    1.150131\n",
            "9    1.453679\n",
            "dtype: float64\n"
          ]
        }
      ],
      "source": [
        "import pandas as pd \n",
        "import numpy as np \n",
        " \n",
        "#Create a series with 100 random numbers \n",
        "s = pd.Series(np.random.randn(10)) \n",
        "print (s )"
      ]
    },
    {
      "cell_type": "code",
      "source": [
        ""
      ],
      "metadata": {
        "id": "kctcf257xSXe"
      },
      "execution_count": null,
      "outputs": []
    }
  ]
}