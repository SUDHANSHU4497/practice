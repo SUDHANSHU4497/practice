{
  "nbformat": 4,
  "nbformat_minor": 0,
  "metadata": {
    "colab": {
      "name": "pandas tps .ipynb",
      "provenance": [],
      "collapsed_sections": [],
      "authorship_tag": "ABX9TyN6DMufAHtcAATnv3re09sY",
      "include_colab_link": true
    },
    "kernelspec": {
      "name": "python3",
      "display_name": "Python 3"
    },
    "language_info": {
      "name": "python"
    }
  },
  "cells": [
    {
      "cell_type": "markdown",
      "metadata": {
        "id": "view-in-github",
        "colab_type": "text"
      },
      "source": [
        "<a href=\"https://colab.research.google.com/github/SUDHANSHU4497/practice/blob/main/pandas_tps_.ipynb\" target=\"_parent\"><img src=\"https://colab.research.google.com/assets/colab-badge.svg\" alt=\"Open In Colab\"/></a>"
      ]
    },
    {
      "cell_type": "code",
      "execution_count": null,
      "metadata": {
        "colab": {
          "base_uri": "https://localhost:8080/"
        },
        "id": "Po2dgLXswyiC",
        "outputId": "668904a4-13ed-437e-ec9d-e1c7635c5544"
      },
      "outputs": [
        {
          "output_type": "stream",
          "name": "stdout",
          "text": [
            "0   -1.397458\n",
            "1    1.411545\n",
            "2    0.990013\n",
            "3   -0.703577\n",
            "4    0.831539\n",
            "5   -0.062813\n",
            "6    0.450629\n",
            "7    0.505450\n",
            "8    1.150131\n",
            "9    1.453679\n",
            "dtype: float64\n"
          ]
        }
      ],
      "source": [
        "import pandas as pd \n",
        "import numpy as np \n",
        " \n",
        "#Create a series with 100 random numbers \n",
        "s = pd.Series(np.random.randn(10)) \n",
        "print (s )"
      ]
    },
    {
      "cell_type": "code",
      "source": [
        "import pandas as pd \n",
        "import numpy as np \n",
        " \n",
        "#Create a series with 4 random numbers \n",
        "s = pd.Series(np.random.randn(4)) \n",
        "print (\"The original series is:\") \n",
        "print( s )"
      ],
      "metadata": {
        "colab": {
          "base_uri": "https://localhost:8080/"
        },
        "id": "kctcf257xSXe",
        "outputId": "1b83656d-6131-44b4-ea8d-1becf074ea09"
      },
      "execution_count": null,
      "outputs": [
        {
          "output_type": "stream",
          "name": "stdout",
          "text": [
            "The original series is:\n",
            "0   -1.094140\n",
            "1   -1.326303\n",
            "2   -0.712353\n",
            "3    1.427964\n",
            "dtype: float64\n"
          ]
        }
      ]
    },
    {
      "cell_type": "code",
      "source": [
        " \n",
        "#Create a series with 4 random numbers \n",
        "s = pd.Series(np.random.randn(4)) \n",
        "print (\"The original series is:\") \n",
        "print (s )\n",
        " \n",
        "print (\"The last two rows of the data series:\") \n",
        "print (s.tail(2)) "
      ],
      "metadata": {
        "colab": {
          "base_uri": "https://localhost:8080/"
        },
        "id": "8tVieG1CA-TS",
        "outputId": "8c461ee1-7a9e-4646-f149-3dc35fd2c3bc"
      },
      "execution_count": null,
      "outputs": [
        {
          "output_type": "stream",
          "name": "stdout",
          "text": [
            "The original series is:\n",
            "0    0.487291\n",
            "1   -0.376901\n",
            "2   -0.243060\n",
            "3   -2.336873\n",
            "dtype: float64\n",
            "The last two rows of the data series:\n",
            "2   -0.243060\n",
            "3   -2.336873\n",
            "dtype: float64\n"
          ]
        }
      ]
    },
    {
      "cell_type": "code",
      "source": [
        " \n",
        "#Create a Dictionary of series \n",
        "d={'Name':pd.Series(['Tom','James','Ricky','Vin','Steve','Smith','Jack']), \n",
        "'Age':pd.Series([25,26,25,23,30,29,23]), \n",
        "'Rating':pd.Series([4.23,3.24,3.98,2.56,3.20,4.6,3.8])} \n",
        "#Create a DataFrame \n",
        "df = pd.DataFrame(d) \n",
        "print (\"Our data series is:\") \n",
        "print (df )"
      ],
      "metadata": {
        "colab": {
          "base_uri": "https://localhost:8080/"
        },
        "id": "WbiWOuN9BJAS",
        "outputId": "61aa405b-4da9-40df-8b72-c08af21115c8"
      },
      "execution_count": null,
      "outputs": [
        {
          "output_type": "stream",
          "name": "stdout",
          "text": [
            "Our data series is:\n",
            "    Name  Age  Rating\n",
            "0    Tom   25    4.23\n",
            "1  James   26    3.24\n",
            "2  Ricky   25    3.98\n",
            "3    Vin   23    2.56\n",
            "4  Steve   30    3.20\n",
            "5  Smith   29    4.60\n",
            "6   Jack   23    3.80\n"
          ]
        }
      ]
    },
    {
      "cell_type": "code",
      "source": [
        " \n",
        "# Create a Dictionary of series \n",
        "d={'Name':pd.Series(['Tom','James','Ricky','Vin','Steve','Smith','Jack']), \n",
        "'Age':pd.Series([25,26,25,23,30,29,23]), \n",
        "'Rating':pd.Series([4.23,3.24,3.98,2.56,3.20,4.6,3.8])} \n",
        " \n",
        "# Create a DataFrame \n",
        "df = pd.DataFrame(d) \n",
        "print (\"The transpose of the data series is:\") \n",
        "print (df.T )"
      ],
      "metadata": {
        "id": "vsU1T83KBcQ_",
        "outputId": "c3080b73-91c1-41e4-c5ee-790103a6aac9",
        "colab": {
          "base_uri": "https://localhost:8080/"
        }
      },
      "execution_count": null,
      "outputs": [
        {
          "output_type": "stream",
          "name": "stdout",
          "text": [
            "The transpose of the data series is:\n",
            "           0      1      2     3      4      5     6\n",
            "Name     Tom  James  Ricky   Vin  Steve  Smith  Jack\n",
            "Age       25     26     25    23     30     29    23\n",
            "Rating  4.23   3.24   3.98  2.56    3.2    4.6   3.8\n"
          ]
        }
      ]
    },
    {
      "cell_type": "code",
      "source": [
        "#Create a Dictionary of series \n",
        "d={'Name':pd.Series(['Tom','James','Ricky','Vin','Steve','Smith','Jack']), \n",
        "'Age':pd.Series([25,26,25,23,30,29,23]), \n",
        "'Rating':pd.Series([4.23,3.24,3.98,2.56,3.20,4.6,3.8])} \n",
        " \n",
        "#Create a DataFrame \n",
        "df = pd.DataFrame(d) \n",
        "print (\"Row axis labels and column axis labels are:\") \n",
        "print (df.axes )"
      ],
      "metadata": {
        "id": "zh0pcw3GB1nF",
        "outputId": "ec2eb927-cf2d-481f-db91-2de1961da058",
        "colab": {
          "base_uri": "https://localhost:8080/"
        }
      },
      "execution_count": 9,
      "outputs": [
        {
          "output_type": "stream",
          "name": "stdout",
          "text": [
            "Row axis labels and column axis labels are:\n",
            "[RangeIndex(start=0, stop=7, step=1), Index(['Name', 'Age', 'Rating'], dtype='object')]\n"
          ]
        }
      ]
    },
    {
      "cell_type": "code",
      "source": [
        ""
      ],
      "metadata": {
        "id": "uELlotGqB3qy"
      },
      "execution_count": null,
      "outputs": []
    }
  ]
}