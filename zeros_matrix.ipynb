{
  "nbformat": 4,
  "nbformat_minor": 0,
  "metadata": {
    "colab": {
      "name": "zeros matrix.ipynb",
      "provenance": [],
      "authorship_tag": "ABX9TyNAAJMTDk8kvC0+/Q1MFemd",
      "include_colab_link": true
    },
    "kernelspec": {
      "name": "python3",
      "display_name": "Python 3"
    },
    "language_info": {
      "name": "python"
    }
  },
  "cells": [
    {
      "cell_type": "markdown",
      "metadata": {
        "id": "view-in-github",
        "colab_type": "text"
      },
      "source": [
        "<a href=\"https://colab.research.google.com/github/SUDHANSHU4497/practice/blob/main/zeros_matrix.ipynb\" target=\"_parent\"><img src=\"https://colab.research.google.com/assets/colab-badge.svg\" alt=\"Open In Colab\"/></a>"
      ]
    },
    {
      "cell_type": "code",
      "source": [
        "import numpy as np\n",
        "  \n",
        "a =np.zeros(3, dtype = int) \n",
        "print(\"Matrix a : \\n\", a) \n",
        "  \n",
        "b =np.zeros([3, 3], dtype = int) \n",
        "print(\"\\nMatrix b : \\n\", b) "
      ],
      "metadata": {
        "colab": {
          "base_uri": "https://localhost:8080/"
        },
        "id": "fbMzw1Ghjipz",
        "outputId": "73805c9a-311b-46e7-d68b-0b0eff268b4b"
      },
      "execution_count": 1,
      "outputs": [
        {
          "output_type": "stream",
          "name": "stdout",
          "text": [
            "Matrix a : \n",
            " [0 0 0]\n",
            "\n",
            "Matrix b : \n",
            " [[0 0 0]\n",
            " [0 0 0]\n",
            " [0 0 0]]\n"
          ]
        }
      ]
    }
  ]
}