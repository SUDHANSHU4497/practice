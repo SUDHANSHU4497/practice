{
  "nbformat": 4,
  "nbformat_minor": 0,
  "metadata": {
    "colab": {
      "name": "zeros matrix.ipynb",
      "provenance": [],
      "authorship_tag": "ABX9TyMLSU8aMVSVO97mWch3tk3Z",
      "include_colab_link": true
    },
    "kernelspec": {
      "name": "python3",
      "display_name": "Python 3"
    },
    "language_info": {
      "name": "python"
    }
  },
  "cells": [
    {
      "cell_type": "markdown",
      "metadata": {
        "id": "view-in-github",
        "colab_type": "text"
      },
      "source": [
        "<a href=\"https://colab.research.google.com/github/SUDHANSHU4497/practice/blob/main/zeros_matrix.ipynb\" target=\"_parent\"><img src=\"https://colab.research.google.com/assets/colab-badge.svg\" alt=\"Open In Colab\"/></a>"
      ]
    },
    {
      "cell_type": "code",
      "source": [
        "import numpy as np\n",
        "  \n",
        "a =np.zeros(3, dtype = int) \n",
        "print(\"Matrix a : \\n\", a) \n",
        "  \n",
        "b =np.zeros([3, 3], dtype = int) \n",
        "print(\"\\nMatrix b : \\n\", b) "
      ],
      "metadata": {
        "colab": {
          "base_uri": "https://localhost:8080/"
        },
        "id": "fbMzw1Ghjipz",
        "outputId": "73805c9a-311b-46e7-d68b-0b0eff268b4b"
      },
      "execution_count": 1,
      "outputs": [
        {
          "output_type": "stream",
          "name": "stdout",
          "text": [
            "Matrix a : \n",
            " [0 0 0]\n",
            "\n",
            "Matrix b : \n",
            " [[0 0 0]\n",
            " [0 0 0]\n",
            " [0 0 0]]\n"
          ]
        }
      ]
    },
    {
      "cell_type": "code",
      "source": [
        "import pandas as pd  \n",
        "      \n",
        "# List1  \n",
        "lst = [['patna', 612], ['lalganj', 6224], \n",
        "       ['hajipur', 6224], ['muzaffarpur', 621]] \n",
        "  \n",
        "# creating df object with columns specified    \n",
        "df = pd.DataFrame(lst, columns =['city', 'std code']) \n",
        "print(df )"
      ],
      "metadata": {
        "colab": {
          "base_uri": "https://localhost:8080/"
        },
        "id": "a9H4lijcj3lO",
        "outputId": "ff2aa0fe-0bbb-4ceb-ad3f-46ddca869cad"
      },
      "execution_count": 4,
      "outputs": [
        {
          "output_type": "stream",
          "name": "stdout",
          "text": [
            "          city  std code\n",
            "0        patna       612\n",
            "1      lalganj      6224\n",
            "2      hajipur      6224\n",
            "3  muzaffarpur       621\n"
          ]
        }
      ]
    },
    {
      "cell_type": "code",
      "source": [
        "lst = [['anshu', 'kumar', 25], ['krish', 'kalra', 30], \n",
        "       ['nick', 'jones', 26], ['juli', 'khatri', 22]] \n",
        "      \n",
        "df = pd.DataFrame(lst, columns =['FName', 'LName', 'Age'],\n",
        "                                           dtype = float) \n",
        "print(df)"
      ],
      "metadata": {
        "colab": {
          "base_uri": "https://localhost:8080/"
        },
        "id": "etFmHR3_j_wu",
        "outputId": "ead33fbc-9290-42d7-850d-9bb7f44c44d7"
      },
      "execution_count": 5,
      "outputs": [
        {
          "output_type": "stream",
          "name": "stdout",
          "text": [
            "   FName   LName   Age\n",
            "0  anshu   kumar  25.0\n",
            "1  krish   kalra  30.0\n",
            "2   nick   jones  26.0\n",
            "3   juli  khatri  22.0\n"
          ]
        },
        {
          "output_type": "stream",
          "name": "stderr",
          "text": [
            "/usr/local/lib/python3.7/dist-packages/IPython/core/interactiveshell.py:2882: FutureWarning: Could not cast to float64, falling back to object. This behavior is deprecated. In a future version, when a dtype is passed to 'DataFrame', either all columns will be cast to that dtype, or a TypeError will be raised\n",
            "  exec(code_obj, self.user_global_ns, self.user_ns)\n"
          ]
        }
      ]
    }
  ]
}