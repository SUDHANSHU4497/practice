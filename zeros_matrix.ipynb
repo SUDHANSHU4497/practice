{
  "nbformat": 4,
  "nbformat_minor": 0,
  "metadata": {
    "colab": {
      "name": "zeros matrix.ipynb",
      "provenance": [],
      "authorship_tag": "ABX9TyPVrR3oHkZ8Ohd+gJTsLHTv",
      "include_colab_link": true
    },
    "kernelspec": {
      "name": "python3",
      "display_name": "Python 3"
    },
    "language_info": {
      "name": "python"
    }
  },
  "cells": [
    {
      "cell_type": "markdown",
      "metadata": {
        "id": "view-in-github",
        "colab_type": "text"
      },
      "source": [
        "<a href=\"https://colab.research.google.com/github/SUDHANSHU4497/practice/blob/main/zeros_matrix.ipynb\" target=\"_parent\"><img src=\"https://colab.research.google.com/assets/colab-badge.svg\" alt=\"Open In Colab\"/></a>"
      ]
    },
    {
      "cell_type": "code",
      "source": [
        "import numpy as np\n",
        "  \n",
        "a =np.zeros(3, dtype = int) \n",
        "print(\"Matrix a : \\n\", a) \n",
        "  \n",
        "b =np.zeros([3, 3], dtype = int) \n",
        "print(\"\\nMatrix b : \\n\", b) "
      ],
      "metadata": {
        "colab": {
          "base_uri": "https://localhost:8080/"
        },
        "id": "fbMzw1Ghjipz",
        "outputId": "73805c9a-311b-46e7-d68b-0b0eff268b4b"
      },
      "execution_count": 1,
      "outputs": [
        {
          "output_type": "stream",
          "name": "stdout",
          "text": [
            "Matrix a : \n",
            " [0 0 0]\n",
            "\n",
            "Matrix b : \n",
            " [[0 0 0]\n",
            " [0 0 0]\n",
            " [0 0 0]]\n"
          ]
        }
      ]
    },
    {
      "cell_type": "code",
      "source": [
        "import pandas as pd  \n",
        "      \n",
        "# List1  \n",
        "lst = [['patna', 612], ['lalganj', 6224], \n",
        "       ['hajipur', 6224], ['muzaffarpur', 621]] \n",
        "  \n",
        "# creating df object with columns specified    \n",
        "df = pd.DataFrame(lst, columns =['city', 'std code']) \n",
        "print(df )"
      ],
      "metadata": {
        "colab": {
          "base_uri": "https://localhost:8080/"
        },
        "id": "a9H4lijcj3lO",
        "outputId": "ff2aa0fe-0bbb-4ceb-ad3f-46ddca869cad"
      },
      "execution_count": 4,
      "outputs": [
        {
          "output_type": "stream",
          "name": "stdout",
          "text": [
            "          city  std code\n",
            "0        patna       612\n",
            "1      lalganj      6224\n",
            "2      hajipur      6224\n",
            "3  muzaffarpur       621\n"
          ]
        }
      ]
    },
    {
      "cell_type": "code",
      "source": [
        ""
      ],
      "metadata": {
        "id": "etFmHR3_j_wu"
      },
      "execution_count": null,
      "outputs": []
    }
  ]
}