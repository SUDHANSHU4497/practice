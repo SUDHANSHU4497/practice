{
  "nbformat": 4,
  "nbformat_minor": 0,
  "metadata": {
    "colab": {
      "name": "pandas 1.ipynb",
      "provenance": [],
      "authorship_tag": "ABX9TyMNgonNVW0X7y812B4CogkK",
      "include_colab_link": true
    },
    "kernelspec": {
      "name": "python3",
      "display_name": "Python 3"
    },
    "language_info": {
      "name": "python"
    }
  },
  "cells": [
    {
      "cell_type": "markdown",
      "metadata": {
        "id": "view-in-github",
        "colab_type": "text"
      },
      "source": [
        "<a href=\"https://colab.research.google.com/github/SUDHANSHU4497/practice/blob/main/pandas_1.ipynb\" target=\"_parent\"><img src=\"https://colab.research.google.com/assets/colab-badge.svg\" alt=\"Open In Colab\"/></a>"
      ]
    },
    {
      "cell_type": "code",
      "execution_count": 2,
      "metadata": {
        "colab": {
          "base_uri": "https://localhost:8080/"
        },
        "id": "5SP8t_s_Chnm",
        "outputId": "b6a05b8e-4d3d-4804-8bdb-74816c0c76b6"
      },
      "outputs": [
        {
          "output_type": "stream",
          "name": "stdout",
          "text": [
            "         Tag  number\n",
            "0      anshu      29\n",
            "1         is      20\n",
            "2    isnamed      26\n",
            "3  sudhanshu      22\n"
          ]
        }
      ],
      "source": [
        "import pandas as pd  \n",
        "      \n",
        "# List1  \n",
        "lst = [['anshu', 29], ['is', 20], \n",
        "       ['isnamed', 26], ['sudhanshu', 22]] \n",
        "  \n",
        "# creating df object with columns specified    \n",
        "df = pd.DataFrame(lst, columns =['Tag', 'number']) \n",
        "print(df )"
      ]
    },
    {
      "cell_type": "code",
      "source": [
        "df = pd.DataFrame(lst, columns =['Tag', 'number'],dtype='float') \n",
        "print(df )"
      ],
      "metadata": {
        "colab": {
          "base_uri": "https://localhost:8080/"
        },
        "id": "XAMAaLq4ErnK",
        "outputId": "f39c4c16-1567-4804-ffd7-6469fcb5e9c6"
      },
      "execution_count": 3,
      "outputs": [
        {
          "output_type": "stream",
          "name": "stdout",
          "text": [
            "         Tag  number\n",
            "0      anshu    29.0\n",
            "1         is    20.0\n",
            "2    isnamed    26.0\n",
            "3  sudhanshu    22.0\n"
          ]
        },
        {
          "output_type": "stream",
          "name": "stderr",
          "text": [
            "/usr/local/lib/python3.7/dist-packages/IPython/core/interactiveshell.py:2882: FutureWarning: Could not cast to float64, falling back to object. This behavior is deprecated. In a future version, when a dtype is passed to 'DataFrame', either all columns will be cast to that dtype, or a TypeError will be raised\n",
            "  exec(code_obj, self.user_global_ns, self.user_ns)\n"
          ]
        }
      ]
    },
    {
      "cell_type": "code",
      "source": [
        ""
      ],
      "metadata": {
        "id": "TJOo3PZJEz0Y"
      },
      "execution_count": null,
      "outputs": []
    }
  ]
}