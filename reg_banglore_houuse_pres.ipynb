{
  "nbformat": 4,
  "nbformat_minor": 0,
  "metadata": {
    "colab": {
      "name": "reg banglore houuse pres.ipynb",
      "provenance": [],
      "authorship_tag": "ABX9TyP04eBwO26U3/7aYKtt+lZ/",
      "include_colab_link": true
    },
    "kernelspec": {
      "name": "python3",
      "display_name": "Python 3"
    },
    "language_info": {
      "name": "python"
    }
  },
  "cells": [
    {
      "cell_type": "markdown",
      "metadata": {
        "id": "view-in-github",
        "colab_type": "text"
      },
      "source": [
        "<a href=\"https://colab.research.google.com/github/SUDHANSHU4497/practice/blob/main/reg_banglore_houuse_pres.ipynb\" target=\"_parent\"><img src=\"https://colab.research.google.com/assets/colab-badge.svg\" alt=\"Open In Colab\"/></a>"
      ]
    },
    {
      "cell_type": "code",
      "execution_count": 1,
      "metadata": {
        "id": "cVG_KlXRr2Tc"
      },
      "outputs": [],
      "source": [
        "import pandas as pd"
      ]
    },
    {
      "cell_type": "code",
      "source": [
        "path = r\"https://drive.google.com/uc?export=download&id=1xxDtrZKfuWQfl-6KA9XEd_eatitNPnkB\" \n",
        "df = pd.read_csv(path)"
      ],
      "metadata": {
        "id": "JANujq9ksA-J"
      },
      "execution_count": 2,
      "outputs": []
    },
    {
      "cell_type": "code",
      "source": [
        "df.head()"
      ],
      "metadata": {
        "colab": {
          "base_uri": "https://localhost:8080/",
          "height": 317
        },
        "id": "W_cBuSJlsKsX",
        "outputId": "609f2ce9-24c7-4388-d043-5ad50d116a9c"
      },
      "execution_count": 3,
      "outputs": [
        {
          "output_type": "execute_result",
          "data": {
            "text/plain": [
              "   bath  balcony  price  total_sqft_int  bhk  price_per_sqft  \\\n",
              "0   3.0      2.0  150.0          1672.0    3     8971.291866   \n",
              "1   3.0      3.0  149.0          1750.0    3     8514.285714   \n",
              "2   3.0      2.0  150.0          1750.0    3     8571.428571   \n",
              "3   2.0      2.0   40.0          1250.0    2     3200.000000   \n",
              "4   2.0      2.0   83.0          1200.0    2     6916.666667   \n",
              "\n",
              "   area_typeSuper built-up  Area  area_typeBuilt-up  Area  \\\n",
              "0                              1                        0   \n",
              "1                              0                        1   \n",
              "2                              1                        0   \n",
              "3                              1                        0   \n",
              "4                              0                        0   \n",
              "\n",
              "   area_typePlot  Area  availability_Ready To Move  ...  \\\n",
              "0                    0                           1  ...   \n",
              "1                    0                           1  ...   \n",
              "2                    0                           1  ...   \n",
              "3                    0                           1  ...   \n",
              "4                    1                           1  ...   \n",
              "\n",
              "   location_Kalena Agrahara  location_Horamavu Agara  location_Vidyaranyapura  \\\n",
              "0                         0                        0                        0   \n",
              "1                         0                        0                        0   \n",
              "2                         0                        0                        0   \n",
              "3                         0                        0                        0   \n",
              "4                         0                        0                        0   \n",
              "\n",
              "   location_BTM 2nd Stage  location_Hebbal Kempapura  location_Hosur Road  \\\n",
              "0                       0                          0                    0   \n",
              "1                       0                          0                    0   \n",
              "2                       0                          0                    0   \n",
              "3                       0                          0                    0   \n",
              "4                       0                          0                    0   \n",
              "\n",
              "   location_Horamavu Banaswadi  location_Domlur  location_Mahadevpura  \\\n",
              "0                            0                0                     0   \n",
              "1                            0                0                     0   \n",
              "2                            0                0                     0   \n",
              "3                            0                0                     0   \n",
              "4                            0                0                     0   \n",
              "\n",
              "   location_Tumkur Road  \n",
              "0                     0  \n",
              "1                     0  \n",
              "2                     0  \n",
              "3                     0  \n",
              "4                     0  \n",
              "\n",
              "[5 rows x 108 columns]"
            ],
            "text/html": [
              "\n",
              "  <div id=\"df-0bfb37b9-96a3-4b72-8546-83442b444b3e\">\n",
              "    <div class=\"colab-df-container\">\n",
              "      <div>\n",
              "<style scoped>\n",
              "    .dataframe tbody tr th:only-of-type {\n",
              "        vertical-align: middle;\n",
              "    }\n",
              "\n",
              "    .dataframe tbody tr th {\n",
              "        vertical-align: top;\n",
              "    }\n",
              "\n",
              "    .dataframe thead th {\n",
              "        text-align: right;\n",
              "    }\n",
              "</style>\n",
              "<table border=\"1\" class=\"dataframe\">\n",
              "  <thead>\n",
              "    <tr style=\"text-align: right;\">\n",
              "      <th></th>\n",
              "      <th>bath</th>\n",
              "      <th>balcony</th>\n",
              "      <th>price</th>\n",
              "      <th>total_sqft_int</th>\n",
              "      <th>bhk</th>\n",
              "      <th>price_per_sqft</th>\n",
              "      <th>area_typeSuper built-up  Area</th>\n",
              "      <th>area_typeBuilt-up  Area</th>\n",
              "      <th>area_typePlot  Area</th>\n",
              "      <th>availability_Ready To Move</th>\n",
              "      <th>...</th>\n",
              "      <th>location_Kalena Agrahara</th>\n",
              "      <th>location_Horamavu Agara</th>\n",
              "      <th>location_Vidyaranyapura</th>\n",
              "      <th>location_BTM 2nd Stage</th>\n",
              "      <th>location_Hebbal Kempapura</th>\n",
              "      <th>location_Hosur Road</th>\n",
              "      <th>location_Horamavu Banaswadi</th>\n",
              "      <th>location_Domlur</th>\n",
              "      <th>location_Mahadevpura</th>\n",
              "      <th>location_Tumkur Road</th>\n",
              "    </tr>\n",
              "  </thead>\n",
              "  <tbody>\n",
              "    <tr>\n",
              "      <th>0</th>\n",
              "      <td>3.0</td>\n",
              "      <td>2.0</td>\n",
              "      <td>150.0</td>\n",
              "      <td>1672.0</td>\n",
              "      <td>3</td>\n",
              "      <td>8971.291866</td>\n",
              "      <td>1</td>\n",
              "      <td>0</td>\n",
              "      <td>0</td>\n",
              "      <td>1</td>\n",
              "      <td>...</td>\n",
              "      <td>0</td>\n",
              "      <td>0</td>\n",
              "      <td>0</td>\n",
              "      <td>0</td>\n",
              "      <td>0</td>\n",
              "      <td>0</td>\n",
              "      <td>0</td>\n",
              "      <td>0</td>\n",
              "      <td>0</td>\n",
              "      <td>0</td>\n",
              "    </tr>\n",
              "    <tr>\n",
              "      <th>1</th>\n",
              "      <td>3.0</td>\n",
              "      <td>3.0</td>\n",
              "      <td>149.0</td>\n",
              "      <td>1750.0</td>\n",
              "      <td>3</td>\n",
              "      <td>8514.285714</td>\n",
              "      <td>0</td>\n",
              "      <td>1</td>\n",
              "      <td>0</td>\n",
              "      <td>1</td>\n",
              "      <td>...</td>\n",
              "      <td>0</td>\n",
              "      <td>0</td>\n",
              "      <td>0</td>\n",
              "      <td>0</td>\n",
              "      <td>0</td>\n",
              "      <td>0</td>\n",
              "      <td>0</td>\n",
              "      <td>0</td>\n",
              "      <td>0</td>\n",
              "      <td>0</td>\n",
              "    </tr>\n",
              "    <tr>\n",
              "      <th>2</th>\n",
              "      <td>3.0</td>\n",
              "      <td>2.0</td>\n",
              "      <td>150.0</td>\n",
              "      <td>1750.0</td>\n",
              "      <td>3</td>\n",
              "      <td>8571.428571</td>\n",
              "      <td>1</td>\n",
              "      <td>0</td>\n",
              "      <td>0</td>\n",
              "      <td>1</td>\n",
              "      <td>...</td>\n",
              "      <td>0</td>\n",
              "      <td>0</td>\n",
              "      <td>0</td>\n",
              "      <td>0</td>\n",
              "      <td>0</td>\n",
              "      <td>0</td>\n",
              "      <td>0</td>\n",
              "      <td>0</td>\n",
              "      <td>0</td>\n",
              "      <td>0</td>\n",
              "    </tr>\n",
              "    <tr>\n",
              "      <th>3</th>\n",
              "      <td>2.0</td>\n",
              "      <td>2.0</td>\n",
              "      <td>40.0</td>\n",
              "      <td>1250.0</td>\n",
              "      <td>2</td>\n",
              "      <td>3200.000000</td>\n",
              "      <td>1</td>\n",
              "      <td>0</td>\n",
              "      <td>0</td>\n",
              "      <td>1</td>\n",
              "      <td>...</td>\n",
              "      <td>0</td>\n",
              "      <td>0</td>\n",
              "      <td>0</td>\n",
              "      <td>0</td>\n",
              "      <td>0</td>\n",
              "      <td>0</td>\n",
              "      <td>0</td>\n",
              "      <td>0</td>\n",
              "      <td>0</td>\n",
              "      <td>0</td>\n",
              "    </tr>\n",
              "    <tr>\n",
              "      <th>4</th>\n",
              "      <td>2.0</td>\n",
              "      <td>2.0</td>\n",
              "      <td>83.0</td>\n",
              "      <td>1200.0</td>\n",
              "      <td>2</td>\n",
              "      <td>6916.666667</td>\n",
              "      <td>0</td>\n",
              "      <td>0</td>\n",
              "      <td>1</td>\n",
              "      <td>1</td>\n",
              "      <td>...</td>\n",
              "      <td>0</td>\n",
              "      <td>0</td>\n",
              "      <td>0</td>\n",
              "      <td>0</td>\n",
              "      <td>0</td>\n",
              "      <td>0</td>\n",
              "      <td>0</td>\n",
              "      <td>0</td>\n",
              "      <td>0</td>\n",
              "      <td>0</td>\n",
              "    </tr>\n",
              "  </tbody>\n",
              "</table>\n",
              "<p>5 rows × 108 columns</p>\n",
              "</div>\n",
              "      <button class=\"colab-df-convert\" onclick=\"convertToInteractive('df-0bfb37b9-96a3-4b72-8546-83442b444b3e')\"\n",
              "              title=\"Convert this dataframe to an interactive table.\"\n",
              "              style=\"display:none;\">\n",
              "        \n",
              "  <svg xmlns=\"http://www.w3.org/2000/svg\" height=\"24px\"viewBox=\"0 0 24 24\"\n",
              "       width=\"24px\">\n",
              "    <path d=\"M0 0h24v24H0V0z\" fill=\"none\"/>\n",
              "    <path d=\"M18.56 5.44l.94 2.06.94-2.06 2.06-.94-2.06-.94-.94-2.06-.94 2.06-2.06.94zm-11 1L8.5 8.5l.94-2.06 2.06-.94-2.06-.94L8.5 2.5l-.94 2.06-2.06.94zm10 10l.94 2.06.94-2.06 2.06-.94-2.06-.94-.94-2.06-.94 2.06-2.06.94z\"/><path d=\"M17.41 7.96l-1.37-1.37c-.4-.4-.92-.59-1.43-.59-.52 0-1.04.2-1.43.59L10.3 9.45l-7.72 7.72c-.78.78-.78 2.05 0 2.83L4 21.41c.39.39.9.59 1.41.59.51 0 1.02-.2 1.41-.59l7.78-7.78 2.81-2.81c.8-.78.8-2.07 0-2.86zM5.41 20L4 18.59l7.72-7.72 1.47 1.35L5.41 20z\"/>\n",
              "  </svg>\n",
              "      </button>\n",
              "      \n",
              "  <style>\n",
              "    .colab-df-container {\n",
              "      display:flex;\n",
              "      flex-wrap:wrap;\n",
              "      gap: 12px;\n",
              "    }\n",
              "\n",
              "    .colab-df-convert {\n",
              "      background-color: #E8F0FE;\n",
              "      border: none;\n",
              "      border-radius: 50%;\n",
              "      cursor: pointer;\n",
              "      display: none;\n",
              "      fill: #1967D2;\n",
              "      height: 32px;\n",
              "      padding: 0 0 0 0;\n",
              "      width: 32px;\n",
              "    }\n",
              "\n",
              "    .colab-df-convert:hover {\n",
              "      background-color: #E2EBFA;\n",
              "      box-shadow: 0px 1px 2px rgba(60, 64, 67, 0.3), 0px 1px 3px 1px rgba(60, 64, 67, 0.15);\n",
              "      fill: #174EA6;\n",
              "    }\n",
              "\n",
              "    [theme=dark] .colab-df-convert {\n",
              "      background-color: #3B4455;\n",
              "      fill: #D2E3FC;\n",
              "    }\n",
              "\n",
              "    [theme=dark] .colab-df-convert:hover {\n",
              "      background-color: #434B5C;\n",
              "      box-shadow: 0px 1px 3px 1px rgba(0, 0, 0, 0.15);\n",
              "      filter: drop-shadow(0px 1px 2px rgba(0, 0, 0, 0.3));\n",
              "      fill: #FFFFFF;\n",
              "    }\n",
              "  </style>\n",
              "\n",
              "      <script>\n",
              "        const buttonEl =\n",
              "          document.querySelector('#df-0bfb37b9-96a3-4b72-8546-83442b444b3e button.colab-df-convert');\n",
              "        buttonEl.style.display =\n",
              "          google.colab.kernel.accessAllowed ? 'block' : 'none';\n",
              "\n",
              "        async function convertToInteractive(key) {\n",
              "          const element = document.querySelector('#df-0bfb37b9-96a3-4b72-8546-83442b444b3e');\n",
              "          const dataTable =\n",
              "            await google.colab.kernel.invokeFunction('convertToInteractive',\n",
              "                                                     [key], {});\n",
              "          if (!dataTable) return;\n",
              "\n",
              "          const docLinkHtml = 'Like what you see? Visit the ' +\n",
              "            '<a target=\"_blank\" href=https://colab.research.google.com/notebooks/data_table.ipynb>data table notebook</a>'\n",
              "            + ' to learn more about interactive tables.';\n",
              "          element.innerHTML = '';\n",
              "          dataTable['output_type'] = 'display_data';\n",
              "          await google.colab.output.renderOutput(dataTable, element);\n",
              "          const docLink = document.createElement('div');\n",
              "          docLink.innerHTML = docLinkHtml;\n",
              "          element.appendChild(docLink);\n",
              "        }\n",
              "      </script>\n",
              "    </div>\n",
              "  </div>\n",
              "  "
            ]
          },
          "metadata": {},
          "execution_count": 3
        }
      ]
    },
    {
      "cell_type": "code",
      "source": [
        "X = df.drop('price', axis=1)\n",
        "y = df['price']\n",
        "\n",
        "print('Shape of X = ', X.shape)\n",
        "print('Shape of y = ', y.shape)"
      ],
      "metadata": {
        "colab": {
          "base_uri": "https://localhost:8080/"
        },
        "id": "Gl5rztr0sRR0",
        "outputId": "17f78589-3e53-473e-89ab-f770014ffb13"
      },
      "execution_count": 4,
      "outputs": [
        {
          "output_type": "stream",
          "name": "stdout",
          "text": [
            "Shape of X =  (7120, 107)\n",
            "Shape of y =  (7120,)\n"
          ]
        }
      ]
    },
    {
      "cell_type": "code",
      "source": [
        "from sklearn.model_selection import train_test_split\n",
        "X_train, X_test, y_train, y_test = train_test_split(X, y, test_size=0.2, random_state=51)\n",
        "\n",
        "print('Shape of X_train = ', X_train.shape)\n",
        "print('Shape of y_train = ', y_train.shape)\n",
        "print('Shape of X_test = ', X_test.shape)\n",
        "print('Shape of y_test = ', y_test.shape)"
      ],
      "metadata": {
        "colab": {
          "base_uri": "https://localhost:8080/"
        },
        "id": "0RFET513sVzV",
        "outputId": "221ba009-8121-41f0-cc15-fb12a0d6706d"
      },
      "execution_count": 5,
      "outputs": [
        {
          "output_type": "stream",
          "name": "stdout",
          "text": [
            "Shape of X_train =  (5696, 107)\n",
            "Shape of y_train =  (5696,)\n",
            "Shape of X_test =  (1424, 107)\n",
            "Shape of y_test =  (1424,)\n"
          ]
        }
      ]
    },
    {
      "cell_type": "code",
      "source": [
        "from sklearn.preprocessing import StandardScaler\n",
        "sc = StandardScaler()\n",
        "sc.fit(X_train)\n",
        "X_train = sc.transform(X_train)\n",
        "X_test = sc.transform(X_test)"
      ],
      "metadata": {
        "id": "twKaXpfPscgz"
      },
      "execution_count": 6,
      "outputs": []
    },
    {
      "cell_type": "code",
      "source": [
        "from sklearn.linear_model import LinearRegression\n",
        "lr = LinearRegression()\n",
        "\n",
        "lr.fit(X_train, y_train)"
      ],
      "metadata": {
        "colab": {
          "base_uri": "https://localhost:8080/"
        },
        "id": "fhI0O9eus05U",
        "outputId": "4a0e22c8-d80a-4f19-f820-ba44ef602938"
      },
      "execution_count": 8,
      "outputs": [
        {
          "output_type": "execute_result",
          "data": {
            "text/plain": [
              "LinearRegression()"
            ]
          },
          "metadata": {},
          "execution_count": 8
        }
      ]
    },
    {
      "cell_type": "code",
      "source": [
        "lr.coef_"
      ],
      "metadata": {
        "colab": {
          "base_uri": "https://localhost:8080/"
        },
        "id": "1vLvFd2rs1nm",
        "outputId": "b73ad20c-279f-4141-bfa3-69c173226207"
      },
      "execution_count": 9,
      "outputs": [
        {
          "output_type": "execute_result",
          "data": {
            "text/plain": [
              "array([-5.70206143e+00, -1.25679916e+00,  8.27341833e+01, -1.44906911e+01,\n",
              "        5.75662723e+01,  1.88468905e-01, -1.72593897e+00, -4.51058311e+00,\n",
              "       -2.22589244e+00, -4.28978455e+00, -2.44590976e+00,  5.40246226e-01,\n",
              "       -1.03633400e+00,  1.43064873e+00, -6.25029424e-02, -1.51548783e+00,\n",
              "       -2.14422789e-01,  2.16244155e+00, -1.48710228e+00,  1.95250816e+00,\n",
              "       -3.10761125e+00, -1.28138668e+00, -1.01367155e+00,  1.37968545e-02,\n",
              "        1.10383858e+00,  1.26497611e+00, -3.52405517e+00, -1.21398741e+00,\n",
              "       -5.04622019e-01,  1.46299181e+00, -5.50064233e-01, -8.46468162e-02,\n",
              "        6.84882188e-01, -1.39849820e+00, -1.94761710e-02, -1.57716300e+00,\n",
              "        4.20886278e-01,  8.03443207e-01,  2.99182164e+00,  3.86430413e-03,\n",
              "        1.05037261e-01,  2.89115612e-01, -3.16916626e-01,  1.05625868e+00,\n",
              "       -1.39649279e+00, -3.10533604e+00,  1.01764011e-01, -7.49672917e-02,\n",
              "       -8.03271555e-01, -1.27061856e+00, -8.54046164e-01,  2.64566484e-01,\n",
              "        9.10688839e-01, -8.23059458e-01, -9.07215234e-01,  1.22059216e+00,\n",
              "        2.11418894e+00, -5.38187400e-01, -1.32164338e+00, -8.28349340e-01,\n",
              "        1.28167980e+00, -1.92911295e-01,  6.65824485e-02,  3.65563139e-02,\n",
              "       -1.85069853e+00,  1.49068024e+00, -9.57964753e-01, -9.36110163e-01,\n",
              "       -7.45634897e-01,  7.22643165e-02, -6.79260144e-01, -1.70853833e-01,\n",
              "       -1.72288643e+00, -1.15833746e+00,  5.78931788e-01,  1.37836966e+00,\n",
              "       -1.14424496e+00,  3.96188294e-01, -6.08013157e-01, -2.20959218e+00,\n",
              "        3.45270810e-01,  1.01747431e-03,  1.06563895e-01,  3.04728530e+00,\n",
              "        2.09496392e+00, -8.13481923e-01, -4.18437282e-01,  2.30993396e+00,\n",
              "        3.31858800e-02,  8.07865914e-02,  5.37064987e-02,  1.55347699e+00,\n",
              "        8.13889657e-01, -1.14636462e+00,  3.41805788e-01, -8.28022037e-01,\n",
              "        1.68897360e+00,  2.97657524e-01,  9.59437517e-01,  4.57297702e-01,\n",
              "       -2.22729515e-01, -1.48290835e+00, -6.26342867e-01,  5.86538254e-01,\n",
              "       -1.78547310e+00,  2.19020231e-01, -3.45032599e-01])"
            ]
          },
          "metadata": {},
          "execution_count": 9
        }
      ]
    },
    {
      "cell_type": "code",
      "source": [
        "lr.intercept_"
      ],
      "metadata": {
        "colab": {
          "base_uri": "https://localhost:8080/"
        },
        "id": "DPS2iryws5F1",
        "outputId": "0b50b090-21c4-4f0b-c156-13cb6db01801"
      },
      "execution_count": 10,
      "outputs": [
        {
          "output_type": "execute_result",
          "data": {
            "text/plain": [
              "95.0802729985955"
            ]
          },
          "metadata": {},
          "execution_count": 10
        }
      ]
    }
  ]
}