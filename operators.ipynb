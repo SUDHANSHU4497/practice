{
  "nbformat": 4,
  "nbformat_minor": 0,
  "metadata": {
    "colab": {
      "name": "operators.ipynb",
      "provenance": [],
      "authorship_tag": "ABX9TyOxOqFEvLMQorkR4iCOdZad",
      "include_colab_link": true
    },
    "kernelspec": {
      "name": "python3",
      "display_name": "Python 3"
    },
    "language_info": {
      "name": "python"
    }
  },
  "cells": [
    {
      "cell_type": "markdown",
      "metadata": {
        "id": "view-in-github",
        "colab_type": "text"
      },
      "source": [
        "<a href=\"https://colab.research.google.com/github/SUDHANSHU4497/practice/blob/main/operators.ipynb\" target=\"_parent\"><img src=\"https://colab.research.google.com/assets/colab-badge.svg\" alt=\"Open In Colab\"/></a>"
      ]
    },
    {
      "cell_type": "code",
      "execution_count": 2,
      "metadata": {
        "colab": {
          "base_uri": "https://localhost:8080/"
        },
        "id": "d9FtZ-uD1nCA",
        "outputId": "dd8ae3ca-5047-420e-8d80-6fc9cfc07798"
      },
      "outputs": [
        {
          "output_type": "stream",
          "name": "stdout",
          "text": [
            "Line 1 - Value of c is  31\n",
            "Line 2 - Value of c is  11\n",
            "Line 3 - Value of c is  210\n",
            "Line 4 - Value of c is  2.1\n",
            "Line 5 - Value of c is  1\n",
            "Line 6 - Value of c is  8\n",
            "Line 7 - Value of c is  2\n"
          ]
        }
      ],
      "source": [
        "a = 21 \n",
        "b = 10 \n",
        "c = 0 \n",
        "c = a + b \n",
        "print (\"Line 1 - Value of c is \", c) \n",
        " \n",
        "c = a - b \n",
        "print (\"Line 2 - Value of c is \", c ) \n",
        " \n",
        "c = a * b \n",
        "print (\"Line 3 - Value of c is \", c) \n",
        " \n",
        "c = a / b \n",
        "print (\"Line 4 - Value of c is \", c ) \n",
        " \n",
        "c = a % b # mode\n",
        "print (\"Line 5 - Value of c is \", c) \n",
        " \n",
        "a = 2 \n",
        "b = 3 \n",
        "c = a**b  \n",
        "print (\"Line 6 - Value of c is \", c) \n",
        " \n",
        "a = 10 \n",
        "b = 5 \n",
        "c = a//b  # floor division\n",
        "print (\"Line 7 - Value of c is \", c) "
      ]
    },
    {
      "cell_type": "code",
      "source": [
        "a = 21 \n",
        "b = 10 \n",
        "if ( a == b ): \n",
        "   print (\"Line 1 - a is equal to b\") \n",
        "else: \n",
        "  print (\"Line 1 - a is not equal to b\") \n",
        " \n",
        "if ( a != b ): \n",
        "   print (\"Line 2 - a is not equal to b\") \n",
        "else: \n",
        "   print (\"Line 2 - a is equal to b\") \n",
        " \n",
        "if ( a < b ): \n",
        "   print (\"Line 3 - a is less than b\" ) \n",
        "else: \n",
        "   print (\"Line 3 - a is not less than b\") \n",
        " \n",
        "if ( a > b ): \n",
        "   print (\"Line 4 - a is greater than b\") \n",
        "else: \n",
        "   print (\"Line 4 - a is not greater than b\") \n",
        " \n",
        "a,b=b,a #values of a and b swapped. a becomes 10, b becomes 21 \n",
        " \n",
        "if ( a <= b ): \n",
        "   print (\"Line 5 - a is either less than or equal to  b\") \n",
        "else: \n",
        "   print (\"Line 5 - a is neither less than nor equal to  b\") \n",
        " \n",
        "if ( b >= a ): \n",
        "   print (\"Line 6 - b is either greater than  or equal to b\") \n",
        "else: \n",
        "   print (\"Line 6 - b is neither greater than  nor equal to b\") "
      ],
      "metadata": {
        "colab": {
          "base_uri": "https://localhost:8080/"
        },
        "id": "kIcx2EA92GNE",
        "outputId": "421f0440-e48c-4bab-9c3f-9b7915f808fe"
      },
      "execution_count": 3,
      "outputs": [
        {
          "output_type": "stream",
          "name": "stdout",
          "text": [
            "Line 1 - a is not equal to b\n",
            "Line 2 - a is not equal to b\n",
            "Line 3 - a is not less than b\n",
            "Line 4 - a is greater than b\n",
            "Line 5 - a is either less than or equal to  b\n",
            "Line 6 - b is either greater than  or equal to b\n"
          ]
        }
      ]
    },
    {
      "cell_type": "code",
      "source": [
        "a = 60            # 60 = 0011 1100 \n",
        "b = 13            # 13 = 0000 1101 \n",
        "print ('a=',a,':',bin(a),'b=',b,':',bin(b)) \n",
        "c = 0 \n",
        " \n",
        "c = a & b;        # 12 = 0000 1100 \n",
        "print (\"result of AND is \", c,':',bin(c)) \n",
        " \n",
        "c = a | b;        # 61 = 0011 1101  \n",
        "print (\"result of OR is \", c,':',bin(c)) \n",
        "c = a ^ b;        # 49 = 0011 0001 \n",
        "print (\"result of EXOR is \", c,':',bin(c)) \n",
        " \n",
        "c = ~a;           # -61 = 1100 0011 \n",
        "print (\"result of COMPLEMENT is \", c,':',bin(c)) \n",
        " \n",
        "c = a << 2;       # 240 = 1111 0000 \n",
        "print (\"result of LEFT SHIFT is \", c,':',bin(c)) \n",
        " \n",
        "c = a >> 2;       # 15 = 0000 1111 \n",
        "print (\"result of RIGHT SHIFT is \", c,':',bin(c)) "
      ],
      "metadata": {
        "colab": {
          "base_uri": "https://localhost:8080/"
        },
        "id": "6Caq5PvT27RS",
        "outputId": "b742dceb-115a-48af-f372-8fe418751e7a"
      },
      "execution_count": 4,
      "outputs": [
        {
          "output_type": "stream",
          "name": "stdout",
          "text": [
            "a= 60 : 0b111100 b= 13 : 0b1101\n",
            "result of AND is  12 : 0b1100\n",
            "result of OR is  61 : 0b111101\n",
            "result of EXOR is  49 : 0b110001\n",
            "result of COMPLEMENT is  -61 : -0b111101\n",
            "result of LEFT SHIFT is  240 : 0b11110000\n",
            "result of RIGHT SHIFT is  15 : 0b1111\n"
          ]
        }
      ]
    },
    {
      "cell_type": "code",
      "source": [
        "a = 21 \n",
        "b = 10 \n",
        "c = 0 \n",
        " \n",
        "c = a + b \n",
        "print (\"Line 1 - Value of c is \", c) \n",
        " \n",
        "c += a \n",
        "print (\"Line 2 - Value of c is \", c ) \n",
        " \n",
        "c *= a \n",
        "print (\"Line 3 - Value of c is \", c ) \n",
        "c /= a  \n",
        "print (\"Line 4 - Value of c is \", c ) \n",
        " \n",
        "c  = 2 \n",
        "c %= a \n",
        "print (\"Line 5 - Value of c is \", c) \n",
        " \n",
        "c **= a \n",
        "print (\"Line 6 - Value of c is \", c) \n",
        " \n",
        "c //= a \n",
        "print (\"Line 7 - Value of c is \", c) "
      ],
      "metadata": {
        "colab": {
          "base_uri": "https://localhost:8080/"
        },
        "id": "otkiXAWN3LQA",
        "outputId": "05ac57b5-abc6-4e0f-a402-d53518b3a458"
      },
      "execution_count": 5,
      "outputs": [
        {
          "output_type": "stream",
          "name": "stdout",
          "text": [
            "Line 1 - Value of c is  31\n",
            "Line 2 - Value of c is  52\n",
            "Line 3 - Value of c is  1092\n",
            "Line 4 - Value of c is  52.0\n",
            "Line 5 - Value of c is  2\n",
            "Line 6 - Value of c is  2097152\n",
            "Line 7 - Value of c is  99864\n"
          ]
        }
      ]
    },
    {
      "cell_type": "code",
      "source": [
        "a = 10 \n",
        "b = 20 \n",
        "list = [1, 2, 3, 4, 5 ] \n",
        " \n",
        "if ( a in list ): \n",
        "   print (\"Line 1 - a is available in the given list\") \n",
        "else: \n",
        "   print (\"Line 1 - a is not available in the given list\") \n",
        " \n",
        "if ( b not in list ): \n",
        "   print (\"Line 2 - b is not available in the given list\") \n",
        "else: \n",
        "   print (\"Line 2 - b is available in the given list\") \n",
        " \n",
        "c=b/a \n",
        "if ( c in list ): \n",
        "   print (\"Line 3 - a is available in the given list\") \n",
        "else: \n",
        "  print (\"Line 3 - a is not available in the given list\") "
      ],
      "metadata": {
        "colab": {
          "base_uri": "https://localhost:8080/"
        },
        "id": "-iQ8fgZz21lB",
        "outputId": "67e53d22-da50-4053-cb07-0bb2392dddd0"
      },
      "execution_count": 7,
      "outputs": [
        {
          "output_type": "stream",
          "name": "stdout",
          "text": [
            "Line 1 - a is not available in the given list\n",
            "Line 2 - b is not available in the given list\n",
            "Line 3 - a is available in the given list\n"
          ]
        }
      ]
    },
    {
      "cell_type": "code",
      "source": [
        "a = 20 \n",
        "b = 20 \n",
        "print ('Line 1','a=',a,':',id(a), 'b=',b,':',id(b)) \n",
        " \n",
        "if ( a is b ): \n",
        "   print (\"Line 2 - a and b have same identity\") \n",
        "else: \n",
        "   print (\"Line 2 - a and b do not have same identity\") \n",
        " \n",
        "if ( id(a) == id(b) ): \n",
        "   print (\"Line 3 - a and b have same identity\") \n",
        "else: \n",
        "   print (\"Line 3 - a and b do not have same identity\") \n",
        "b = 30 \n",
        "print ('Line 4','a=',a,':',id(a), 'b=',b,':',id(b)) \n",
        " \n",
        "if ( a is not b ): \n",
        "   print (\"Line 5 - a and b do not have same identity\") \n",
        "else: \n",
        "   print (\"Line 5 - a and b have same identity\") "
      ],
      "metadata": {
        "colab": {
          "base_uri": "https://localhost:8080/"
        },
        "id": "iTnBrSzN2nEM",
        "outputId": "2433e2fc-54e8-499c-9672-1b0f2498507b"
      },
      "execution_count": 8,
      "outputs": [
        {
          "output_type": "stream",
          "name": "stdout",
          "text": [
            "Line 1 a= 20 : 94088157203552 b= 20 : 94088157203552\n",
            "Line 2 - a and b have same identity\n",
            "Line 3 - a and b have same identity\n",
            "Line 4 a= 20 : 94088157203552 b= 30 : 94088157203872\n",
            "Line 5 - a and b do not have same identity\n"
          ]
        }
      ]
    },
    {
      "cell_type": "code",
      "source": [
        "a = 20 \n",
        "b = 10 \n",
        "c = 15 \n",
        "d = 5 \n",
        " \n",
        "print (\"a:%d b:%d c:%d d:%d\" % (a,b,c,d )) \n",
        "e = (a + b) * c / d       #( 30 * 15 ) / 5 \n",
        "print (\"Value of (a + b) * c / d is \",  e) \n",
        " \n",
        "e = ((a + b) * c) / d     # (30 * 15 ) / 5 \n",
        "print (\"Value of ((a + b) * c) / d is \",  e) \n",
        " \n",
        "e = (a + b) * (c / d)    # (30) * (15/5) \n",
        "print (\"Value of (a + b) * (c / d) is \",  e) \n",
        " \n",
        "e = a + (b * c) / d      #  20 + (150/5) \n",
        "print (\"Value of a + (b * c) / d is \",  e) "
      ],
      "metadata": {
        "colab": {
          "base_uri": "https://localhost:8080/"
        },
        "id": "JPhQyc7V2i7y",
        "outputId": "511ff4ea-e196-424a-ed82-d228d2abbac9"
      },
      "execution_count": 9,
      "outputs": [
        {
          "output_type": "stream",
          "name": "stdout",
          "text": [
            "a:20 b:10 c:15 d:5\n",
            "Value of (a + b) * c / d is  90.0\n",
            "Value of ((a + b) * c) / d is  90.0\n",
            "Value of (a + b) * (c / d) is  90.0\n",
            "Value of a + (b * c) / d is  50.0\n"
          ]
        }
      ]
    }
  ]
}