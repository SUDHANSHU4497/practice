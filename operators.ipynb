{
  "nbformat": 4,
  "nbformat_minor": 0,
  "metadata": {
    "colab": {
      "name": "operators.ipynb",
      "provenance": [],
      "authorship_tag": "ABX9TyPHEmp6QaW7q27P6Qu2+BVp",
      "include_colab_link": true
    },
    "kernelspec": {
      "name": "python3",
      "display_name": "Python 3"
    },
    "language_info": {
      "name": "python"
    }
  },
  "cells": [
    {
      "cell_type": "markdown",
      "metadata": {
        "id": "view-in-github",
        "colab_type": "text"
      },
      "source": [
        "<a href=\"https://colab.research.google.com/github/SUDHANSHU4497/practice/blob/main/operators.ipynb\" target=\"_parent\"><img src=\"https://colab.research.google.com/assets/colab-badge.svg\" alt=\"Open In Colab\"/></a>"
      ]
    },
    {
      "cell_type": "code",
      "execution_count": 2,
      "metadata": {
        "colab": {
          "base_uri": "https://localhost:8080/"
        },
        "id": "d9FtZ-uD1nCA",
        "outputId": "dd8ae3ca-5047-420e-8d80-6fc9cfc07798"
      },
      "outputs": [
        {
          "output_type": "stream",
          "name": "stdout",
          "text": [
            "Line 1 - Value of c is  31\n",
            "Line 2 - Value of c is  11\n",
            "Line 3 - Value of c is  210\n",
            "Line 4 - Value of c is  2.1\n",
            "Line 5 - Value of c is  1\n",
            "Line 6 - Value of c is  8\n",
            "Line 7 - Value of c is  2\n"
          ]
        }
      ],
      "source": [
        "a = 21 \n",
        "b = 10 \n",
        "c = 0 \n",
        "c = a + b \n",
        "print (\"Line 1 - Value of c is \", c) \n",
        " \n",
        "c = a - b \n",
        "print (\"Line 2 - Value of c is \", c ) \n",
        " \n",
        "c = a * b \n",
        "print (\"Line 3 - Value of c is \", c) \n",
        " \n",
        "c = a / b \n",
        "print (\"Line 4 - Value of c is \", c ) \n",
        " \n",
        "c = a % b # mode\n",
        "print (\"Line 5 - Value of c is \", c) \n",
        " \n",
        "a = 2 \n",
        "b = 3 \n",
        "c = a**b  \n",
        "print (\"Line 6 - Value of c is \", c) \n",
        " \n",
        "a = 10 \n",
        "b = 5 \n",
        "c = a//b  # floor division\n",
        "print (\"Line 7 - Value of c is \", c) "
      ]
    }
  ]
}