{
  "nbformat": 4,
  "nbformat_minor": 0,
  "metadata": {
    "colab": {
      "name": "EVALUATION MATRIX FUNCTION.ipynb",
      "provenance": [],
      "authorship_tag": "ABX9TyOOcFw/mHdxuTuwk5eZHhnj",
      "include_colab_link": true
    },
    "kernelspec": {
      "name": "python3",
      "display_name": "Python 3"
    },
    "language_info": {
      "name": "python"
    }
  },
  "cells": [
    {
      "cell_type": "markdown",
      "metadata": {
        "id": "view-in-github",
        "colab_type": "text"
      },
      "source": [
        "<a href=\"https://colab.research.google.com/github/SUDHANSHU4497/practice/blob/main/EVALUATION_MATRIX_FUNCTION.ipynb\" target=\"_parent\"><img src=\"https://colab.research.google.com/assets/colab-badge.svg\" alt=\"Open In Colab\"/></a>"
      ]
    },
    {
      "cell_type": "code",
      "execution_count": 4,
      "metadata": {
        "id": "BYd7hzlt4NR9"
      },
      "outputs": [],
      "source": [
        "def train_eval_mat(model,y_predict_train,x_train,y_train):\n",
        "  # r2 score of train set\n",
        "  R2 = r2_score(y_train, y_predict_train)\n",
        "  print(\"R2 Score:\" ,R2)\n",
        "\n",
        "  #Calculate Mean Absolute Error.\n",
        "  MAE= mean_absolute_error(y_train,y_pred_train)\n",
        "  print(\"Mean Absolute Error (MAE):\", MAE)\n",
        "\n",
        "  #Calculate  Mean Squared Error\n",
        "  MSE=mean_squared_error(y_train,y_pred_train)\n",
        "  print(\"Mean Squred Error(MSE):\" , MSE)\n",
        "\n",
        "  #Calculate Root Mean Squared Error\n",
        "  RMSE=np.sqrt(MSE)\n",
        "  print(\"Root Mean Squared Error(RMSE):\", RMSE)\n",
        "  # Create test results dictionary\n",
        "  train_dict={'Model':model,\n",
        "              'MAE':round(MAE,4),\n",
        "              'MSE':round(MSE,4),\n",
        "              'RMSE':round(RMSE,4),\n",
        "              'R2_score':round(R2,4)}\n",
        "              \n",
        "  # appending test result to test result dataframe\n",
        "  traing_results_df=pd.DataFrame(train_dict,index=[1])\n",
        "  train_results_df=train_results_df.append(train_dict,ignore_index=True)\n",
        "  train_results_df"
      ]
    }
  ]
}