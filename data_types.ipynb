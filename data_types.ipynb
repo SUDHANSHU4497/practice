{
  "nbformat": 4,
  "nbformat_minor": 0,
  "metadata": {
    "colab": {
      "name": "data types.ipynb",
      "provenance": [],
      "authorship_tag": "ABX9TyNP9OGWrXPUgIaGb7m81e6e",
      "include_colab_link": true
    },
    "kernelspec": {
      "name": "python3",
      "display_name": "Python 3"
    },
    "language_info": {
      "name": "python"
    }
  },
  "cells": [
    {
      "cell_type": "markdown",
      "metadata": {
        "id": "view-in-github",
        "colab_type": "text"
      },
      "source": [
        "<a href=\"https://colab.research.google.com/github/SUDHANSHU4497/practice/blob/main/data_types.ipynb\" target=\"_parent\"><img src=\"https://colab.research.google.com/assets/colab-badge.svg\" alt=\"Open In Colab\"/></a>"
      ]
    },
    {
      "cell_type": "markdown",
      "source": [
        "**python support three types of datatypes**\n",
        "\n",
        "\n",
        "*   basic types-----integer,float,complex,boolean and string\n",
        "*   container types-----list,tuple,sets and dictionary\n",
        "*   user defined types----- class\n"
      ],
      "metadata": {
        "id": "VlKZ3HuWhGQ5"
      }
    }
  ]
}