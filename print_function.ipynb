{
  "nbformat": 4,
  "nbformat_minor": 0,
  "metadata": {
    "colab": {
      "name": "print function.ipynb",
      "provenance": [],
      "collapsed_sections": [],
      "authorship_tag": "ABX9TyOJsQRS1xvyXkjtIjdNc/hs",
      "include_colab_link": true
    },
    "kernelspec": {
      "name": "python3",
      "display_name": "Python 3"
    },
    "language_info": {
      "name": "python"
    }
  },
  "cells": [
    {
      "cell_type": "markdown",
      "metadata": {
        "id": "view-in-github",
        "colab_type": "text"
      },
      "source": [
        "<a href=\"https://colab.research.google.com/github/SUDHANSHU4497/practice/blob/main/print_function.ipynb\" target=\"_parent\"><img src=\"https://colab.research.google.com/assets/colab-badge.svg\" alt=\"Open In Colab\"/></a>"
      ]
    },
    {
      "cell_type": "code",
      "execution_count": 2,
      "metadata": {
        "colab": {
          "base_uri": "https://localhost:8080/"
        },
        "id": "M-bA0Sc9NGba",
        "outputId": "2909e0b7-5b9f-4ebb-9f5f-bf949040b4e2"
      },
      "outputs": [
        {
          "output_type": "stream",
          "name": "stdout",
          "text": [
            "india nepal pak srilanka\n"
          ]
        }
      ],
      "source": [
        "print(\"india\",\"nepal\",\"pak\",\"srilanka\")"
      ]
    },
    {
      "cell_type": "markdown",
      "source": [
        "we want to change the separator"
      ],
      "metadata": {
        "id": "01LW2x5jTiYD"
      }
    },
    {
      "cell_type": "code",
      "source": [
        "print(\"india\",\"nepal\",\"pak\",\"srilanka\",sep=\"/\")"
      ],
      "metadata": {
        "colab": {
          "base_uri": "https://localhost:8080/"
        },
        "id": "cz9hOkytSnou",
        "outputId": "7b6d5853-47f8-442b-c96c-f6b75f3d3eec"
      },
      "execution_count": 3,
      "outputs": [
        {
          "output_type": "stream",
          "name": "stdout",
          "text": [
            "india/nepal/pak/srilanka\n"
          ]
        }
      ]
    },
    {
      "cell_type": "code",
      "source": [
        "print(\"india\",\"nepal\",\"pak\",\"srilanka\",sep=\"-\")"
      ],
      "metadata": {
        "colab": {
          "base_uri": "https://localhost:8080/"
        },
        "id": "PrentFmkS5zV",
        "outputId": "e074ce03-c46f-40cb-809b-a1b99b810c5f"
      },
      "execution_count": 4,
      "outputs": [
        {
          "output_type": "stream",
          "name": "stdout",
          "text": [
            "india-nepal-pak-srilanka\n"
          ]
        }
      ]
    },
    {
      "cell_type": "code",
      "source": [
        "print(\"hello\")\n",
        "print(\"world\")"
      ],
      "metadata": {
        "colab": {
          "base_uri": "https://localhost:8080/"
        },
        "id": "9Ir3pju6TD_-",
        "outputId": "d0ba0542-bffd-4814-8156-9fd5f8047b92"
      },
      "execution_count": 5,
      "outputs": [
        {
          "output_type": "stream",
          "name": "stdout",
          "text": [
            "hello\n",
            "world\n"
          ]
        }
      ]
    },
    {
      "cell_type": "markdown",
      "source": [
        "we want to print it in one line"
      ],
      "metadata": {
        "id": "B_QmjQvqTRXO"
      }
    },
    {
      "cell_type": "code",
      "source": [
        "print(\"hello\",end=\" \")\n",
        "print(\"world\")"
      ],
      "metadata": {
        "colab": {
          "base_uri": "https://localhost:8080/"
        },
        "id": "Yh3GmpTBTXrr",
        "outputId": "5fc8d596-d16c-4a4b-bff3-9fa6fa4fbb1d"
      },
      "execution_count": 6,
      "outputs": [
        {
          "output_type": "stream",
          "name": "stdout",
          "text": [
            "hello world\n"
          ]
        }
      ]
    }
  ]
}