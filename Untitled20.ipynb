{
  "nbformat": 4,
  "nbformat_minor": 0,
  "metadata": {
    "colab": {
      "name": "Untitled20.ipynb",
      "provenance": [],
      "authorship_tag": "ABX9TyNLbvRvi54yuyMf3talxZMM",
      "include_colab_link": true
    },
    "kernelspec": {
      "name": "python3",
      "display_name": "Python 3"
    },
    "language_info": {
      "name": "python"
    }
  },
  "cells": [
    {
      "cell_type": "markdown",
      "metadata": {
        "id": "view-in-github",
        "colab_type": "text"
      },
      "source": [
        "<a href=\"https://colab.research.google.com/github/SUDHANSHU4497/practice/blob/main/Untitled20.ipynb\" target=\"_parent\"><img src=\"https://colab.research.google.com/assets/colab-badge.svg\" alt=\"Open In Colab\"/></a>"
      ]
    },
    {
      "cell_type": "code",
      "execution_count": 1,
      "metadata": {
        "colab": {
          "base_uri": "https://localhost:8080/"
        },
        "id": "ah_mhoun-ewM",
        "outputId": "81952b71-5c13-4ff7-c5f2-602903c7e78e"
      },
      "outputs": [
        {
          "output_type": "stream",
          "name": "stdout",
          "text": [
            "Size of Set1: 744bytes\n",
            "Size of Set2: 744bytes\n",
            "Size of Set3: 232bytes\n"
          ]
        }
      ],
      "source": [
        "import sys\n",
        "  \n",
        "# sample Sets\n",
        "Set1 = {\"A\", 1, \"B\", 2, \"C\", 3}\n",
        "Set2 = {\"Geek1\", \"Raju\", \"Geek2\", \"Nikhil\", \"Geek3\", \"Deepanshu\"}\n",
        "Set3 = {(1, \"Lion\"), ( 2, \"Tiger\"), (3, \"Fox\")}\n",
        "  \n",
        "# print the sizes of sample Sets\n",
        "print(\"Size of Set1: \" + str(sys.getsizeof(Set1)) + \"bytes\")\n",
        "print(\"Size of Set2: \" + str(sys.getsizeof(Set2)) + \"bytes\")\n",
        "print(\"Size of Set3: \" + str(sys.getsizeof(Set3)) + \"bytes\")"
      ]
    },
    {
      "cell_type": "code",
      "source": [
        "import sys\n",
        "  \n",
        "# sample Sets\n",
        "Set1 = {\"A\", 1, \"B\", 2, \"C\", 3}\n",
        "Set2 = {\"Geek1\", \"Raju\", \"Geek2\", \"Nikhil\", \"Geek3\", \"Deepanshu\"}\n",
        "Set3 = {(1, \"Lion\"), ( 2, \"Tiger\"), (3, \"Fox\")}\n",
        "  \n",
        "# print the sizes of sample Sets\n",
        "print(\"Size of Set1: \" + str(Set1.__sizeof__()) + \"bytes\")\n",
        "print(\"Size of Set2: \" + str(Set2.__sizeof__()) + \"bytes\")\n",
        "print(\"Size of Set3: \" + str(Set3.__sizeof__()) + \"bytes\")"
      ],
      "metadata": {
        "colab": {
          "base_uri": "https://localhost:8080/"
        },
        "id": "c0rGbGKd_ABD",
        "outputId": "6f9d1ea0-4235-44b6-994c-dabf98573315"
      },
      "execution_count": 2,
      "outputs": [
        {
          "output_type": "stream",
          "name": "stdout",
          "text": [
            "Size of Set1: 712bytes\n",
            "Size of Set2: 712bytes\n",
            "Size of Set3: 200bytes\n"
          ]
        }
      ]
    },
    {
      "cell_type": "code",
      "source": [
        "# Python program to find the length\n",
        "# of set\n",
        "  \n",
        "set1 = set()  \n",
        "    \n",
        "# Adding element and tuple to the Set \n",
        "set1.add(8) \n",
        "set1.add(9) \n",
        "set1.add((6, 7)) \n",
        "  \n",
        "print(\"The length of set is:\", len(set1))"
      ],
      "metadata": {
        "colab": {
          "base_uri": "https://localhost:8080/"
        },
        "id": "K3onN04X_EWw",
        "outputId": "ada4a5ab-83a3-4598-ddc5-9e69b04a2f63"
      },
      "execution_count": 3,
      "outputs": [
        {
          "output_type": "stream",
          "name": "stdout",
          "text": [
            "The length of set is: 3\n"
          ]
        }
      ]
    }
  ]
}