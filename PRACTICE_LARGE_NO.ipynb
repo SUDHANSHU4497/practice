{
  "nbformat": 4,
  "nbformat_minor": 0,
  "metadata": {
    "colab": {
      "name": "PRACTICE LARGE NO.ipynb",
      "provenance": [],
      "authorship_tag": "ABX9TyP/I3HbCO4wgKjlWwixT/D5",
      "include_colab_link": true
    },
    "kernelspec": {
      "name": "python3",
      "display_name": "Python 3"
    },
    "language_info": {
      "name": "python"
    }
  },
  "cells": [
    {
      "cell_type": "markdown",
      "metadata": {
        "id": "view-in-github",
        "colab_type": "text"
      },
      "source": [
        "<a href=\"https://colab.research.google.com/github/SUDHANSHU4497/practice/blob/main/PRACTICE_LARGE_NO.ipynb\" target=\"_parent\"><img src=\"https://colab.research.google.com/assets/colab-badge.svg\" alt=\"Open In Colab\"/></a>"
      ]
    },
    {
      "cell_type": "code",
      "execution_count": 2,
      "metadata": {
        "colab": {
          "base_uri": "https://localhost:8080/"
        },
        "id": "iHfQy5VTCW3h",
        "outputId": "27c88089-9598-4cfc-a144-515e4242d7aa"
      },
      "outputs": [
        {
          "output_type": "stream",
          "name": "stdout",
          "text": [
            "Largest element is: 99\n"
          ]
        }
      ],
      "source": [
        "#  Python program to find largest\n",
        "# number in a list\n",
        "  \n",
        "# list of numbers\n",
        "list1 = [10, 20, 4, 45, 99]\n",
        "  \n",
        "# sorting the list\n",
        "list1.sort()\n",
        "  \n",
        "# printing the last element\n",
        "print(\"Largest element is:\", list1[-1])"
      ]
    },
    {
      "cell_type": "code",
      "source": [
        "#  Python program to find largest\n",
        "# number in a list\n",
        "  \n",
        "# list of numbers\n",
        "list1 = [10, 20, 4, 45, 99]\n",
        "  \n",
        "# sorting the list\n",
        "list1.sort()\n",
        "  \n",
        "# printing the last element\n",
        "print(\"Largest element is:\", list1[-1])"
      ],
      "metadata": {
        "colab": {
          "base_uri": "https://localhost:8080/"
        },
        "id": "CZvO6rYDClbQ",
        "outputId": "9cd98d86-56b5-4c68-9c31-062c600d0aa1"
      },
      "execution_count": 4,
      "outputs": [
        {
          "output_type": "stream",
          "name": "stdout",
          "text": [
            "Largest element is: 99\n"
          ]
        }
      ]
    },
    {
      "cell_type": "code",
      "source": [
        "# Python program to print Even Numbers in a List\n",
        " \n",
        "# list of numbers\n",
        "list1 = [10, 21, 4, 45, 66, 93]\n",
        " \n",
        "# iterating each number in list\n",
        "for num in list1:\n",
        " \n",
        "    # checking condition\n",
        "    if num % 2 == 0:\n",
        "        print(num, end=\" \")"
      ],
      "metadata": {
        "colab": {
          "base_uri": "https://localhost:8080/"
        },
        "id": "gvf8xFt5C-vD",
        "outputId": "166530be-7896-451b-f840-148be0080e1f"
      },
      "execution_count": 7,
      "outputs": [
        {
          "output_type": "stream",
          "name": "stdout",
          "text": [
            "10 4 66 "
          ]
        }
      ]
    }
  ]
}