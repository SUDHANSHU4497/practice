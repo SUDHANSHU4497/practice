{
  "nbformat": 4,
  "nbformat_minor": 0,
  "metadata": {
    "colab": {
      "name": "pandas groupby.ipynb",
      "provenance": [],
      "authorship_tag": "ABX9TyMdy9S6vizhH6mWN/HX7koK",
      "include_colab_link": true
    },
    "kernelspec": {
      "name": "python3",
      "display_name": "Python 3"
    },
    "language_info": {
      "name": "python"
    }
  },
  "cells": [
    {
      "cell_type": "markdown",
      "metadata": {
        "id": "view-in-github",
        "colab_type": "text"
      },
      "source": [
        "<a href=\"https://colab.research.google.com/github/SUDHANSHU4497/practice/blob/main/pandas_groupby.ipynb\" target=\"_parent\"><img src=\"https://colab.research.google.com/assets/colab-badge.svg\" alt=\"Open In Colab\"/></a>"
      ]
    },
    {
      "cell_type": "code",
      "execution_count": null,
      "metadata": {
        "colab": {
          "base_uri": "https://localhost:8080/"
        },
        "id": "fUtZXvPWws2i",
        "outputId": "4d293453-efb9-4bad-ff34-d415eff65be1"
      },
      "outputs": [
        {
          "output_type": "stream",
          "name": "stdout",
          "text": [
            "      Team  Rank  Year  Points\n",
            "0   Riders     1  2014     876\n",
            "1   Riders     2  2015     789\n",
            "2   Devils     2  2014     863\n",
            "3   Devils     3  2015     673\n",
            "4    Kings     3  2014     741\n",
            "5    kings     4  2015     812\n",
            "6    Kings     1  2016     756\n",
            "7    Kings     1  2017     788\n",
            "8   Riders     2  2016     694\n",
            "9   Royals     4  2014     701\n",
            "10  Royals     1  2015     804\n",
            "11  Riders     2  2017     690\n"
          ]
        }
      ],
      "source": [
        "import pandas as pd \n",
        " \n",
        "ipl_data = {'Team': ['Riders', 'Riders', 'Devils', 'Devils', 'Kings',     \n",
        "'kings', 'Kings', 'Kings', 'Riders', 'Royals', 'Royals', 'Riders'],  \n",
        "        'Rank': [1, 2, 2, 3, 3,4 ,1 ,1,2 , 4,1,2],  \n",
        "        'Year': [2014,2015,2014,2015,2014,2015,2016,2017,2016,2014,2015,2017],  \n",
        "        'Points':[876,789,863,673,741,812,756,788,694,701,804,690]} \n",
        "df = pd.DataFrame(ipl_data) \n",
        " \n",
        "print( df )"
      ]
    },
    {
      "cell_type": "code",
      "source": [
        "team_df=df.groupby('Team')"
      ],
      "metadata": {
        "id": "4xTvJinfw8II"
      },
      "execution_count": null,
      "outputs": []
    },
    {
      "cell_type": "code",
      "source": [
        "print(team_df.groups)"
      ],
      "metadata": {
        "colab": {
          "base_uri": "https://localhost:8080/"
        },
        "id": "SZHY6E2ixGFt",
        "outputId": "923903a6-7ef1-49ec-e2a4-956d91bc63bb"
      },
      "execution_count": null,
      "outputs": [
        {
          "output_type": "stream",
          "name": "stdout",
          "text": [
            "{'Devils': [2, 3], 'Kings': [4, 6, 7], 'Riders': [0, 1, 8, 11], 'Royals': [9, 10], 'kings': [5]}\n"
          ]
        }
      ]
    },
    {
      "cell_type": "code",
      "source": [
        "ipl_data = {'Team': ['Riders', 'Riders', 'Devils', 'Devils', 'Kings',     \n",
        "'kings', 'Kings', 'Kings', 'Riders', 'Royals', 'Royals', 'Riders'],  \n",
        "        'Rank': [1, 2, 2, 3, 3,4 ,1 ,1,2 , 4,1,2],  \n",
        "        'Year': [2014,2015,2014,2015,2014,2015,2016,2017,2016,2014,2015,2017],  \n",
        "        'Points':[876,789,863,673,741,812,756,788,694,701,804,690]} \n",
        "df = pd.DataFrame(ipl_data) \n",
        " \n",
        "print (df.groupby(['Team','Year']).groups )"
      ],
      "metadata": {
        "colab": {
          "base_uri": "https://localhost:8080/"
        },
        "id": "Z4giTmUFzKvo",
        "outputId": "5844e443-9240-4676-b4ea-24dd67ea66a8"
      },
      "execution_count": null,
      "outputs": [
        {
          "output_type": "stream",
          "name": "stdout",
          "text": [
            "{('Devils', 2014): [2], ('Devils', 2015): [3], ('Kings', 2014): [4], ('Kings', 2016): [6], ('Kings', 2017): [7], ('Riders', 2014): [0], ('Riders', 2015): [1], ('Riders', 2016): [8], ('Riders', 2017): [11], ('Royals', 2014): [9], ('Royals', 2015): [10], ('kings', 2015): [5]}\n"
          ]
        }
      ]
    },
    {
      "cell_type": "code",
      "source": [
        "grouped = df.groupby('Year')\n",
        "\n",
        "for kumar,group in grouped: \n",
        "    print (kumar )\n",
        "    print (group) \n",
        "# print (grouped.get_group(2014))  "
      ],
      "metadata": {
        "colab": {
          "base_uri": "https://localhost:8080/"
        },
        "id": "FwR1Wjd1zqfE",
        "outputId": "bac99077-4015-4c7f-abc4-e48012224918"
      },
      "execution_count": null,
      "outputs": [
        {
          "output_type": "stream",
          "name": "stdout",
          "text": [
            "2014\n",
            "     Team  Rank  Year  Points\n",
            "0  Riders     1  2014     876\n",
            "2  Devils     2  2014     863\n",
            "4   Kings     3  2014     741\n",
            "9  Royals     4  2014     701\n",
            "2015\n",
            "      Team  Rank  Year  Points\n",
            "1   Riders     2  2015     789\n",
            "3   Devils     3  2015     673\n",
            "5    kings     4  2015     812\n",
            "10  Royals     1  2015     804\n",
            "2016\n",
            "     Team  Rank  Year  Points\n",
            "6   Kings     1  2016     756\n",
            "8  Riders     2  2016     694\n",
            "2017\n",
            "      Team  Rank  Year  Points\n",
            "7    Kings     1  2017     788\n",
            "11  Riders     2  2017     690\n"
          ]
        }
      ]
    },
    {
      "cell_type": "code",
      "source": [
        "print( grouped.get_group(2014)  )"
      ],
      "metadata": {
        "colab": {
          "base_uri": "https://localhost:8080/"
        },
        "id": "mOAdiw7u0ie7",
        "outputId": "fb90cb9f-c730-45e8-8920-7ebe0daf6ec2"
      },
      "execution_count": null,
      "outputs": [
        {
          "output_type": "stream",
          "name": "stdout",
          "text": [
            "     Team  Rank  Year  Points\n",
            "0  Riders     1  2014     876\n",
            "2  Devils     2  2014     863\n",
            "4   Kings     3  2014     741\n",
            "9  Royals     4  2014     701\n"
          ]
        }
      ]
    },
    {
      "cell_type": "code",
      "source": [
        "import numpy as np\n",
        "print( grouped['Points'].agg(np.mean) )"
      ],
      "metadata": {
        "colab": {
          "base_uri": "https://localhost:8080/"
        },
        "id": "n3hlAiuq2VTN",
        "outputId": "7c9acac6-c446-4d7f-e08b-fbafebb81b6d"
      },
      "execution_count": null,
      "outputs": [
        {
          "output_type": "stream",
          "name": "stdout",
          "text": [
            "Year\n",
            "2014    795.25\n",
            "2015    769.50\n",
            "2016    725.00\n",
            "2017    739.00\n",
            "Name: Points, dtype: float64\n"
          ]
        }
      ]
    },
    {
      "cell_type": "code",
      "source": [
        "grouped = df.groupby('Team') \n",
        "print (grouped.agg(np.size)  )"
      ],
      "metadata": {
        "colab": {
          "base_uri": "https://localhost:8080/"
        },
        "id": "ZJZmryvT2jae",
        "outputId": "fab43252-1297-4bfd-a4b8-b00cae1f7def"
      },
      "execution_count": null,
      "outputs": [
        {
          "output_type": "stream",
          "name": "stdout",
          "text": [
            "        Rank  Year  Points\n",
            "Team                      \n",
            "Devils     2     2       2\n",
            "Kings      3     3       3\n",
            "Riders     4     4       4\n",
            "Royals     2     2       2\n",
            "kings      1     1       1\n"
          ]
        }
      ]
    },
    {
      "cell_type": "code",
      "source": [
        "grouped = df.groupby('Team') \n",
        "print( grouped['Points'].agg([np.sum, np.mean, np.std]))"
      ],
      "metadata": {
        "colab": {
          "base_uri": "https://localhost:8080/"
        },
        "id": "yL-lrEWa3buk",
        "outputId": "c3cd967d-def2-4b97-d2ff-4786c53bbb1e"
      },
      "execution_count": null,
      "outputs": [
        {
          "output_type": "stream",
          "name": "stdout",
          "text": [
            "         sum        mean         std\n",
            "Team                                \n",
            "Devils  1536  768.000000  134.350288\n",
            "Kings   2285  761.666667   24.006943\n",
            "Riders  3049  762.250000   88.567771\n",
            "Royals  1505  752.500000   72.831998\n",
            "kings    812  812.000000         NaN\n"
          ]
        }
      ]
    },
    {
      "cell_type": "code",
      "source": [
        "score = lambda x: (x - x.mean()) / x.std()*10 \n",
        "print (grouped.transform(score)) "
      ],
      "metadata": {
        "colab": {
          "base_uri": "https://localhost:8080/"
        },
        "id": "ZxhxJzCD32Ej",
        "outputId": "9fe98e70-c1f3-485d-b10f-972da7c36783"
      },
      "execution_count": null,
      "outputs": [
        {
          "output_type": "stream",
          "name": "stdout",
          "text": [
            "         Rank       Year     Points\n",
            "0  -15.000000 -11.618950  12.843272\n",
            "1    5.000000  -3.872983   3.020286\n",
            "2   -7.071068  -7.071068   7.071068\n",
            "3    7.071068   7.071068  -7.071068\n",
            "4   11.547005 -10.910895  -8.608621\n",
            "5         NaN        NaN        NaN\n",
            "6   -5.773503   2.182179  -2.360428\n",
            "7   -5.773503   8.728716  10.969049\n",
            "8    5.000000   3.872983  -7.705963\n",
            "9    7.071068  -7.071068  -7.071068\n",
            "10  -7.071068   7.071068   7.071068\n",
            "11   5.000000  11.618950  -8.157595\n"
          ]
        }
      ]
    },
    {
      "cell_type": "code",
      "source": [
        "print (df.groupby('Team').filter(lambda x: len(x) >= 3) )"
      ],
      "metadata": {
        "colab": {
          "base_uri": "https://localhost:8080/"
        },
        "id": "HD-4o-Tv4imF",
        "outputId": "3d78639c-49e5-4a26-d406-9688f14ebbbd"
      },
      "execution_count": null,
      "outputs": [
        {
          "output_type": "stream",
          "name": "stdout",
          "text": [
            "      Team  Rank  Year  Points\n",
            "0   Riders     1  2014     876\n",
            "1   Riders     2  2015     789\n",
            "4    Kings     3  2014     741\n",
            "6    Kings     1  2016     756\n",
            "7    Kings     1  2017     788\n",
            "8   Riders     2  2016     694\n",
            "11  Riders     2  2017     690\n"
          ]
        }
      ]
    },
    {
      "cell_type": "code",
      "source": [
        "df"
      ],
      "metadata": {
        "colab": {
          "base_uri": "https://localhost:8080/",
          "height": 426
        },
        "id": "OQe4W1ZJ4nfQ",
        "outputId": "8ab7072f-30e4-4b2d-deba-8384a25a6928"
      },
      "execution_count": null,
      "outputs": [
        {
          "output_type": "execute_result",
          "data": {
            "text/plain": [
              "      Team  Rank  Year  Points\n",
              "0   Riders     1  2014     876\n",
              "1   Riders     2  2015     789\n",
              "2   Devils     2  2014     863\n",
              "3   Devils     3  2015     673\n",
              "4    Kings     3  2014     741\n",
              "5    kings     4  2015     812\n",
              "6    Kings     1  2016     756\n",
              "7    Kings     1  2017     788\n",
              "8   Riders     2  2016     694\n",
              "9   Royals     4  2014     701\n",
              "10  Royals     1  2015     804\n",
              "11  Riders     2  2017     690"
            ],
            "text/html": [
              "\n",
              "  <div id=\"df-1038a339-ca34-4ae8-8957-f4d60dfd65e6\">\n",
              "    <div class=\"colab-df-container\">\n",
              "      <div>\n",
              "<style scoped>\n",
              "    .dataframe tbody tr th:only-of-type {\n",
              "        vertical-align: middle;\n",
              "    }\n",
              "\n",
              "    .dataframe tbody tr th {\n",
              "        vertical-align: top;\n",
              "    }\n",
              "\n",
              "    .dataframe thead th {\n",
              "        text-align: right;\n",
              "    }\n",
              "</style>\n",
              "<table border=\"1\" class=\"dataframe\">\n",
              "  <thead>\n",
              "    <tr style=\"text-align: right;\">\n",
              "      <th></th>\n",
              "      <th>Team</th>\n",
              "      <th>Rank</th>\n",
              "      <th>Year</th>\n",
              "      <th>Points</th>\n",
              "    </tr>\n",
              "  </thead>\n",
              "  <tbody>\n",
              "    <tr>\n",
              "      <th>0</th>\n",
              "      <td>Riders</td>\n",
              "      <td>1</td>\n",
              "      <td>2014</td>\n",
              "      <td>876</td>\n",
              "    </tr>\n",
              "    <tr>\n",
              "      <th>1</th>\n",
              "      <td>Riders</td>\n",
              "      <td>2</td>\n",
              "      <td>2015</td>\n",
              "      <td>789</td>\n",
              "    </tr>\n",
              "    <tr>\n",
              "      <th>2</th>\n",
              "      <td>Devils</td>\n",
              "      <td>2</td>\n",
              "      <td>2014</td>\n",
              "      <td>863</td>\n",
              "    </tr>\n",
              "    <tr>\n",
              "      <th>3</th>\n",
              "      <td>Devils</td>\n",
              "      <td>3</td>\n",
              "      <td>2015</td>\n",
              "      <td>673</td>\n",
              "    </tr>\n",
              "    <tr>\n",
              "      <th>4</th>\n",
              "      <td>Kings</td>\n",
              "      <td>3</td>\n",
              "      <td>2014</td>\n",
              "      <td>741</td>\n",
              "    </tr>\n",
              "    <tr>\n",
              "      <th>5</th>\n",
              "      <td>kings</td>\n",
              "      <td>4</td>\n",
              "      <td>2015</td>\n",
              "      <td>812</td>\n",
              "    </tr>\n",
              "    <tr>\n",
              "      <th>6</th>\n",
              "      <td>Kings</td>\n",
              "      <td>1</td>\n",
              "      <td>2016</td>\n",
              "      <td>756</td>\n",
              "    </tr>\n",
              "    <tr>\n",
              "      <th>7</th>\n",
              "      <td>Kings</td>\n",
              "      <td>1</td>\n",
              "      <td>2017</td>\n",
              "      <td>788</td>\n",
              "    </tr>\n",
              "    <tr>\n",
              "      <th>8</th>\n",
              "      <td>Riders</td>\n",
              "      <td>2</td>\n",
              "      <td>2016</td>\n",
              "      <td>694</td>\n",
              "    </tr>\n",
              "    <tr>\n",
              "      <th>9</th>\n",
              "      <td>Royals</td>\n",
              "      <td>4</td>\n",
              "      <td>2014</td>\n",
              "      <td>701</td>\n",
              "    </tr>\n",
              "    <tr>\n",
              "      <th>10</th>\n",
              "      <td>Royals</td>\n",
              "      <td>1</td>\n",
              "      <td>2015</td>\n",
              "      <td>804</td>\n",
              "    </tr>\n",
              "    <tr>\n",
              "      <th>11</th>\n",
              "      <td>Riders</td>\n",
              "      <td>2</td>\n",
              "      <td>2017</td>\n",
              "      <td>690</td>\n",
              "    </tr>\n",
              "  </tbody>\n",
              "</table>\n",
              "</div>\n",
              "      <button class=\"colab-df-convert\" onclick=\"convertToInteractive('df-1038a339-ca34-4ae8-8957-f4d60dfd65e6')\"\n",
              "              title=\"Convert this dataframe to an interactive table.\"\n",
              "              style=\"display:none;\">\n",
              "        \n",
              "  <svg xmlns=\"http://www.w3.org/2000/svg\" height=\"24px\"viewBox=\"0 0 24 24\"\n",
              "       width=\"24px\">\n",
              "    <path d=\"M0 0h24v24H0V0z\" fill=\"none\"/>\n",
              "    <path d=\"M18.56 5.44l.94 2.06.94-2.06 2.06-.94-2.06-.94-.94-2.06-.94 2.06-2.06.94zm-11 1L8.5 8.5l.94-2.06 2.06-.94-2.06-.94L8.5 2.5l-.94 2.06-2.06.94zm10 10l.94 2.06.94-2.06 2.06-.94-2.06-.94-.94-2.06-.94 2.06-2.06.94z\"/><path d=\"M17.41 7.96l-1.37-1.37c-.4-.4-.92-.59-1.43-.59-.52 0-1.04.2-1.43.59L10.3 9.45l-7.72 7.72c-.78.78-.78 2.05 0 2.83L4 21.41c.39.39.9.59 1.41.59.51 0 1.02-.2 1.41-.59l7.78-7.78 2.81-2.81c.8-.78.8-2.07 0-2.86zM5.41 20L4 18.59l7.72-7.72 1.47 1.35L5.41 20z\"/>\n",
              "  </svg>\n",
              "      </button>\n",
              "      \n",
              "  <style>\n",
              "    .colab-df-container {\n",
              "      display:flex;\n",
              "      flex-wrap:wrap;\n",
              "      gap: 12px;\n",
              "    }\n",
              "\n",
              "    .colab-df-convert {\n",
              "      background-color: #E8F0FE;\n",
              "      border: none;\n",
              "      border-radius: 50%;\n",
              "      cursor: pointer;\n",
              "      display: none;\n",
              "      fill: #1967D2;\n",
              "      height: 32px;\n",
              "      padding: 0 0 0 0;\n",
              "      width: 32px;\n",
              "    }\n",
              "\n",
              "    .colab-df-convert:hover {\n",
              "      background-color: #E2EBFA;\n",
              "      box-shadow: 0px 1px 2px rgba(60, 64, 67, 0.3), 0px 1px 3px 1px rgba(60, 64, 67, 0.15);\n",
              "      fill: #174EA6;\n",
              "    }\n",
              "\n",
              "    [theme=dark] .colab-df-convert {\n",
              "      background-color: #3B4455;\n",
              "      fill: #D2E3FC;\n",
              "    }\n",
              "\n",
              "    [theme=dark] .colab-df-convert:hover {\n",
              "      background-color: #434B5C;\n",
              "      box-shadow: 0px 1px 3px 1px rgba(0, 0, 0, 0.15);\n",
              "      filter: drop-shadow(0px 1px 2px rgba(0, 0, 0, 0.3));\n",
              "      fill: #FFFFFF;\n",
              "    }\n",
              "  </style>\n",
              "\n",
              "      <script>\n",
              "        const buttonEl =\n",
              "          document.querySelector('#df-1038a339-ca34-4ae8-8957-f4d60dfd65e6 button.colab-df-convert');\n",
              "        buttonEl.style.display =\n",
              "          google.colab.kernel.accessAllowed ? 'block' : 'none';\n",
              "\n",
              "        async function convertToInteractive(key) {\n",
              "          const element = document.querySelector('#df-1038a339-ca34-4ae8-8957-f4d60dfd65e6');\n",
              "          const dataTable =\n",
              "            await google.colab.kernel.invokeFunction('convertToInteractive',\n",
              "                                                     [key], {});\n",
              "          if (!dataTable) return;\n",
              "\n",
              "          const docLinkHtml = 'Like what you see? Visit the ' +\n",
              "            '<a target=\"_blank\" href=https://colab.research.google.com/notebooks/data_table.ipynb>data table notebook</a>'\n",
              "            + ' to learn more about interactive tables.';\n",
              "          element.innerHTML = '';\n",
              "          dataTable['output_type'] = 'display_data';\n",
              "          await google.colab.output.renderOutput(dataTable, element);\n",
              "          const docLink = document.createElement('div');\n",
              "          docLink.innerHTML = docLinkHtml;\n",
              "          element.appendChild(docLink);\n",
              "        }\n",
              "      </script>\n",
              "    </div>\n",
              "  </div>\n",
              "  "
            ]
          },
          "metadata": {},
          "execution_count": 53
        }
      ]
    },
    {
      "cell_type": "code",
      "source": [
        "df.groupby('Team')"
      ],
      "metadata": {
        "colab": {
          "base_uri": "https://localhost:8080/"
        },
        "id": "NdwE6dvf5f3R",
        "outputId": "ca9efa0b-c2fc-4543-c1c2-6cf7ce379bf1"
      },
      "execution_count": null,
      "outputs": [
        {
          "output_type": "execute_result",
          "data": {
            "text/plain": [
              "Team\n",
              "Devils    2.500000\n",
              "Kings     1.666667\n",
              "Riders    1.750000\n",
              "Royals    2.500000\n",
              "kings     4.000000\n",
              "Name: Rank, dtype: float64"
            ]
          },
          "metadata": {},
          "execution_count": 55
        }
      ]
    },
    {
      "cell_type": "code",
      "source": [
        "print(df.groupby('Team').get_group('Kings'))"
      ],
      "metadata": {
        "colab": {
          "base_uri": "https://localhost:8080/"
        },
        "id": "pH1rbZ7t5tIO",
        "outputId": "11871caf-d1f9-4c50-b3c1-25dfd522cc92"
      },
      "execution_count": null,
      "outputs": [
        {
          "output_type": "stream",
          "name": "stdout",
          "text": [
            "    Team  Rank  Year  Points\n",
            "4  Kings     3  2014     741\n",
            "6  Kings     1  2016     756\n",
            "7  Kings     1  2017     788\n"
          ]
        }
      ]
    },
    {
      "cell_type": "code",
      "source": [
        "print()"
      ],
      "metadata": {
        "id": "Avof8F7r6m5Q"
      },
      "execution_count": null,
      "outputs": []
    }
  ]
}