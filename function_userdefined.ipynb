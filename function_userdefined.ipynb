{
  "nbformat": 4,
  "nbformat_minor": 0,
  "metadata": {
    "colab": {
      "name": "function userdefined.ipynb",
      "provenance": [],
      "authorship_tag": "ABX9TyOhVDjrnvjY5QZiENiYGkni",
      "include_colab_link": true
    },
    "kernelspec": {
      "name": "python3",
      "display_name": "Python 3"
    },
    "language_info": {
      "name": "python"
    }
  },
  "cells": [
    {
      "cell_type": "markdown",
      "metadata": {
        "id": "view-in-github",
        "colab_type": "text"
      },
      "source": [
        "<a href=\"https://colab.research.google.com/github/SUDHANSHU4497/practice/blob/main/function_userdefined.ipynb\" target=\"_parent\"><img src=\"https://colab.research.google.com/assets/colab-badge.svg\" alt=\"Open In Colab\"/></a>"
      ]
    },
    {
      "cell_type": "code",
      "execution_count": 5,
      "metadata": {
        "id": "qT5rAv8ml1wU"
      },
      "outputs": [],
      "source": [
        "# km to mile converter\n",
        "def mile_km(km):\n",
        "  km=km*0.621371\n",
        "  print(km)"
      ]
    },
    {
      "cell_type": "code",
      "source": [
        "mile_km(2)"
      ],
      "metadata": {
        "colab": {
          "base_uri": "https://localhost:8080/"
        },
        "id": "gbXyxu14nnC7",
        "outputId": "bfd5d8e2-cc12-4c8b-e30f-f8f455943b11"
      },
      "execution_count": 6,
      "outputs": [
        {
          "output_type": "stream",
          "name": "stdout",
          "text": [
            "1.242742\n"
          ]
        }
      ]
    },
    {
      "cell_type": "code",
      "source": [
        "def area_circle(r):\n",
        "  pi=22/7\n",
        "  area=pi*r**2\n",
        "  print(area)\n"
      ],
      "metadata": {
        "id": "7wjo8uNUnuzB"
      },
      "execution_count": 9,
      "outputs": []
    },
    {
      "cell_type": "code",
      "source": [
        "area_circle(7)"
      ],
      "metadata": {
        "colab": {
          "base_uri": "https://localhost:8080/"
        },
        "id": "IQnGxBqAom-x",
        "outputId": "eace394f-4361-4b19-eb6e-eadebbb8a47e"
      },
      "execution_count": 10,
      "outputs": [
        {
          "output_type": "stream",
          "name": "stdout",
          "text": [
            "154.0\n"
          ]
        }
      ]
    },
    {
      "cell_type": "code",
      "source": [
        "#  function that accepts any number of positional arguments, use a * argument\n",
        "def avg(first, *rest):\n",
        "    return (first + sum(rest)) / (1 + len(rest))\n",
        "avg(1,2,3)"
      ],
      "metadata": {
        "colab": {
          "base_uri": "https://localhost:8080/"
        },
        "id": "Wcd3kw3rosS_",
        "outputId": "3d0ca817-b6ae-41ce-9718-073f2e60dd5a"
      },
      "execution_count": 14,
      "outputs": [
        {
          "output_type": "execute_result",
          "data": {
            "text/plain": [
              "2.0"
            ]
          },
          "metadata": {},
          "execution_count": 14
        }
      ]
    },
    {
      "cell_type": "code",
      "source": [
        "# To accept any number of keyword arguments, use an argument that starts with **\n",
        "import html\n",
        "def make_element(name, value, **attrs):\n",
        "    keyvals = [' %s=\"%s\"' % item for item in attrs.items()]\n",
        "    attr_str = ''.join(keyvals)\n",
        "    element = '<{name}{attrs}>{value}</{name}>'.format(\n",
        "                  name=name,\n",
        "                  attrs=attr_str,\n",
        "                  value=html.escape(value))\n",
        "    return element"
      ],
      "metadata": {
        "id": "_vGtyX8JrdKE"
      },
      "execution_count": 15,
      "outputs": []
    },
    {
      "cell_type": "code",
      "source": [
        "# Function definition is here \n",
        "def changeme( mylist ): \n",
        "   \"This changes a passed list into this function\" \n",
        "   print (\"Values inside the function before change: \", mylist) \n",
        "   mylist[2]=50 \n",
        "   print (\"Values inside the function after change: \", mylist) \n",
        "   return \n",
        "# Now you can call changeme function \n",
        "mylist = [10,20,30] \n",
        "changeme( mylist ) \n",
        "print (\"Values outside the function: \", mylist) "
      ],
      "metadata": {
        "colab": {
          "base_uri": "https://localhost:8080/"
        },
        "id": "PFcXp80ir1Zp",
        "outputId": "a9853fd1-c0f3-449b-ca0c-16e3c2747a2a"
      },
      "execution_count": 16,
      "outputs": [
        {
          "output_type": "stream",
          "name": "stdout",
          "text": [
            "Values inside the function before change:  [10, 20, 30]\n",
            "Values inside the function after change:  [10, 20, 50]\n",
            "Values outside the function:  [10, 20, 50]\n"
          ]
        }
      ]
    },
    {
      "cell_type": "code",
      "source": [
        "# Function definition is here \n",
        "def changeme( mylist ): \n",
        "   \"This changes a passed list into this function\" \n",
        "   mylist = [1,2,3,4] # This would assi new reference in mylist \n",
        "   print (\"Values inside the function: \", mylist) \n",
        "   return \n",
        " \n",
        "# Now you can call changeme function \n",
        "mylist = [10,20,30] \n",
        "changeme( mylist ) \n",
        "print (\"Values outside the function: \", mylist) "
      ],
      "metadata": {
        "colab": {
          "base_uri": "https://localhost:8080/"
        },
        "id": "BNoR0i9fwnS_",
        "outputId": "0397e7b2-343d-4826-ba5d-259b1de08ace"
      },
      "execution_count": 17,
      "outputs": [
        {
          "output_type": "stream",
          "name": "stdout",
          "text": [
            "Values inside the function:  [1, 2, 3, 4]\n",
            "Values outside the function:  [10, 20, 30]\n"
          ]
        }
      ]
    },
    {
      "cell_type": "code",
      "source": [
        ""
      ],
      "metadata": {
        "id": "ldUCub3rwBV_"
      },
      "execution_count": null,
      "outputs": []
    }
  ]
}