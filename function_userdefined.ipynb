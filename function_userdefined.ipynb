{
  "nbformat": 4,
  "nbformat_minor": 0,
  "metadata": {
    "colab": {
      "name": "function userdefined.ipynb",
      "provenance": [],
      "authorship_tag": "ABX9TyNLw/UoHWHnrayimiaoQdma",
      "include_colab_link": true
    },
    "kernelspec": {
      "name": "python3",
      "display_name": "Python 3"
    },
    "language_info": {
      "name": "python"
    }
  },
  "cells": [
    {
      "cell_type": "markdown",
      "metadata": {
        "id": "view-in-github",
        "colab_type": "text"
      },
      "source": [
        "<a href=\"https://colab.research.google.com/github/SUDHANSHU4497/practice/blob/main/function_userdefined.ipynb\" target=\"_parent\"><img src=\"https://colab.research.google.com/assets/colab-badge.svg\" alt=\"Open In Colab\"/></a>"
      ]
    },
    {
      "cell_type": "code",
      "execution_count": 5,
      "metadata": {
        "id": "qT5rAv8ml1wU"
      },
      "outputs": [],
      "source": [
        "# km to mile converter\n",
        "def mile_km(km):\n",
        "  km=km*0.621371\n",
        "  print(km)"
      ]
    },
    {
      "cell_type": "code",
      "source": [
        "mile_km(2)"
      ],
      "metadata": {
        "colab": {
          "base_uri": "https://localhost:8080/"
        },
        "id": "gbXyxu14nnC7",
        "outputId": "bfd5d8e2-cc12-4c8b-e30f-f8f455943b11"
      },
      "execution_count": 6,
      "outputs": [
        {
          "output_type": "stream",
          "name": "stdout",
          "text": [
            "1.242742\n"
          ]
        }
      ]
    },
    {
      "cell_type": "code",
      "source": [
        "def area_circle(r):\n",
        "  pi=22/7\n",
        "  area=pi*r**2\n",
        "  print(area)\n"
      ],
      "metadata": {
        "id": "7wjo8uNUnuzB"
      },
      "execution_count": 9,
      "outputs": []
    },
    {
      "cell_type": "code",
      "source": [
        "area_circle(7)"
      ],
      "metadata": {
        "colab": {
          "base_uri": "https://localhost:8080/"
        },
        "id": "IQnGxBqAom-x",
        "outputId": "eace394f-4361-4b19-eb6e-eadebbb8a47e"
      },
      "execution_count": 10,
      "outputs": [
        {
          "output_type": "stream",
          "name": "stdout",
          "text": [
            "154.0\n"
          ]
        }
      ]
    },
    {
      "cell_type": "code",
      "source": [
        ""
      ],
      "metadata": {
        "id": "Wcd3kw3rosS_"
      },
      "execution_count": null,
      "outputs": []
    }
  ]
}