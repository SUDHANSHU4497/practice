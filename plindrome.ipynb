{
  "nbformat": 4,
  "nbformat_minor": 0,
  "metadata": {
    "colab": {
      "name": "plindrome.ipynb",
      "provenance": [],
      "authorship_tag": "ABX9TyMXpJFnPmN+1jkGiHQBBRAR",
      "include_colab_link": true
    },
    "kernelspec": {
      "name": "python3",
      "display_name": "Python 3"
    },
    "language_info": {
      "name": "python"
    }
  },
  "cells": [
    {
      "cell_type": "markdown",
      "metadata": {
        "id": "view-in-github",
        "colab_type": "text"
      },
      "source": [
        "<a href=\"https://colab.research.google.com/github/SUDHANSHU4497/practice/blob/main/plindrome.ipynb\" target=\"_parent\"><img src=\"https://colab.research.google.com/assets/colab-badge.svg\" alt=\"Open In Colab\"/></a>"
      ]
    },
    {
      "cell_type": "code",
      "execution_count": 1,
      "metadata": {
        "colab": {
          "base_uri": "https://localhost:8080/"
        },
        "id": "aU-24DyVyo9f",
        "outputId": "90d4c4c5-19d2-4471-8810-1f76d17606d9"
      },
      "outputs": [
        {
          "output_type": "stream",
          "name": "stdout",
          "text": [
            "Enter number:515\n",
            "The number is a palindrome!\n"
          ]
        }
      ],
      "source": [
        "x=int(input(\"Enter number:\"))\n",
        "temp=x\n",
        "rev=0\n",
        "while(x>0):\n",
        "    dig=x%10\n",
        "    rev=rev*10+dig\n",
        "    x=x//10\n",
        "if(temp==rev):\n",
        "    print(\"The number is a palindrome!\")\n",
        "else:\n",
        "    print(\"The number isn't a palindrome!\")"
      ]
    }
  ]
}