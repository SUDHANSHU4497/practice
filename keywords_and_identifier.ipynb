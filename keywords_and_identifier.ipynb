{
  "nbformat": 4,
  "nbformat_minor": 0,
  "metadata": {
    "colab": {
      "name": "keywords and identifier.ipynb",
      "provenance": [],
      "collapsed_sections": [],
      "authorship_tag": "ABX9TyMsb9IUWHb68yHglpurgmBV",
      "include_colab_link": true
    },
    "kernelspec": {
      "name": "python3",
      "display_name": "Python 3"
    },
    "language_info": {
      "name": "python"
    }
  },
  "cells": [
    {
      "cell_type": "markdown",
      "metadata": {
        "id": "view-in-github",
        "colab_type": "text"
      },
      "source": [
        "<a href=\"https://colab.research.google.com/github/SUDHANSHU4497/practice/blob/main/keywords_and_identifier.ipynb\" target=\"_parent\"><img src=\"https://colab.research.google.com/assets/colab-badge.svg\" alt=\"Open In Colab\"/></a>"
      ]
    },
    {
      "cell_type": "markdown",
      "source": [
        " python is a case sensitive programming language"
      ],
      "metadata": {
        "id": "21NKeIWNqJab"
      }
    },
    {
      "cell_type": "markdown",
      "source": [
        "**keywords**"
      ],
      "metadata": {
        "id": "NZ6SWiJyq0IH"
      }
    },
    {
      "cell_type": "markdown",
      "source": [
        "In programming,a keywords is a wordthat reserved by a program becausethe word has a special meaning.Keywords can be commands or parameter.Every programming languages has a set of keywords that cannot be use as a variable name.\n"
      ],
      "metadata": {
        "id": "qZQ0pw_7q5GO"
      }
    },
    {
      "cell_type": "code",
      "source": [
        "import keyword\n",
        "print(keyword.kwlist)"
      ],
      "metadata": {
        "colab": {
          "base_uri": "https://localhost:8080/"
        },
        "id": "Xc7_F5WrqfZS",
        "outputId": "cce5999c-2510-4c8a-c1d0-b0fd227bc836"
      },
      "execution_count": 1,
      "outputs": [
        {
          "output_type": "stream",
          "name": "stdout",
          "text": [
            "['False', 'None', 'True', 'and', 'as', 'assert', 'async', 'await', 'break', 'class', 'continue', 'def', 'del', 'elif', 'else', 'except', 'finally', 'for', 'from', 'global', 'if', 'import', 'in', 'is', 'lambda', 'nonlocal', 'not', 'or', 'pass', 'raise', 'return', 'try', 'while', 'with', 'yield']\n"
          ]
        }
      ]
    },
    {
      "cell_type": "markdown",
      "source": [
        "***Identifiers***\n",
        "*   A Python identifier is a name used to identify a variable, function, class, module or other object.\n",
        "\n",
        "***Rules for setting Identifiers***\n",
        "*   can only start with an alphabet or _\n",
        "*   Followed by 0 or more letter,_ and digits\n",
        "*   eywords cannot be used as an identifiers"
      ],
      "metadata": {
        "id": "r9OxPGlBsPg5"
      }
    },
    {
      "cell_type": "code",
      "source": [
        ""
      ],
      "metadata": {
        "id": "vNT-bILwqqPy"
      },
      "execution_count": null,
      "outputs": []
    }
  ]
}