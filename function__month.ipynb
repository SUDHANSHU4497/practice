{
  "nbformat": 4,
  "nbformat_minor": 0,
  "metadata": {
    "colab": {
      "name": "function _month.ipynb",
      "provenance": [],
      "authorship_tag": "ABX9TyNZE20B2fuC7CqiVMcU3U3g",
      "include_colab_link": true
    },
    "kernelspec": {
      "name": "python3",
      "display_name": "Python 3"
    },
    "language_info": {
      "name": "python"
    }
  },
  "cells": [
    {
      "cell_type": "markdown",
      "metadata": {
        "id": "view-in-github",
        "colab_type": "text"
      },
      "source": [
        "<a href=\"https://colab.research.google.com/github/SUDHANSHU4497/practice/blob/main/function__month.ipynb\" target=\"_parent\"><img src=\"https://colab.research.google.com/assets/colab-badge.svg\" alt=\"Open In Colab\"/></a>"
      ]
    },
    {
      "cell_type": "code",
      "execution_count": 2,
      "metadata": {
        "colab": {
          "base_uri": "https://localhost:8080/"
        },
        "id": "yG5GcOKELKcr",
        "outputId": "54fe95fa-119b-4c4c-9962-a47b2183ab19"
      },
      "outputs": [
        {
          "output_type": "stream",
          "name": "stdout",
          "text": [
            "required month is March\n"
          ]
        }
      ],
      "source": [
        "def req_Month(num):\n",
        "    if num == 1:\n",
        "        month =' January'\n",
        "    elif num == 2:\n",
        "        month = 'February'\n",
        "    elif num == 3:\n",
        "        month = 'March'\n",
        "    elif num == 4:\n",
        "        month= 'April'\n",
        "    elif num == 5:\n",
        "        month= 'May'\n",
        "    elif num == 6:\n",
        "        month = 'June'\n",
        "    elif num == 7:\n",
        "        month = 'July'\n",
        "    elif num == 8:\n",
        "        month = 'August'\n",
        "    elif num == 9:\n",
        "        month= 'September'\n",
        "    elif num == 10:\n",
        "        month= 'October'\n",
        "    elif num == 11:\n",
        "        month= 'November'\n",
        "    elif num == 12:\n",
        "        month= 'December'\n",
        "    return month\n",
        "\n",
        "print('required month is', req_Month(3))"
      ]
    }
  ]
}