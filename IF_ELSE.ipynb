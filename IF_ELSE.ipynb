{
  "nbformat": 4,
  "nbformat_minor": 0,
  "metadata": {
    "colab": {
      "name": "IF-ELSE.ipynb",
      "provenance": [],
      "authorship_tag": "ABX9TyOj4CCEyy+PViHePCxTjvNW",
      "include_colab_link": true
    },
    "kernelspec": {
      "name": "python3",
      "display_name": "Python 3"
    },
    "language_info": {
      "name": "python"
    }
  },
  "cells": [
    {
      "cell_type": "markdown",
      "metadata": {
        "id": "view-in-github",
        "colab_type": "text"
      },
      "source": [
        "<a href=\"https://colab.research.google.com/github/SUDHANSHU4497/practice/blob/main/IF_ELSE.ipynb\" target=\"_parent\"><img src=\"https://colab.research.google.com/assets/colab-badge.svg\" alt=\"Open In Colab\"/></a>"
      ]
    },
    {
      "cell_type": "code",
      "execution_count": 1,
      "metadata": {
        "colab": {
          "base_uri": "https://localhost:8080/"
        },
        "id": "abmH8-AVl1tY",
        "outputId": "ab2edcd2-23ce-4759-c08a-874a89b8d95d"
      },
      "outputs": [
        {
          "output_type": "stream",
          "name": "stdout",
          "text": [
            "I am Not in if\n"
          ]
        }
      ],
      "source": [
        "# python program to illustrate If statement\n",
        " \n",
        "i = 10\n",
        " \n",
        "if (i > 15):\n",
        "    print(\"10 is less than 15\")\n",
        "print(\"I am Not in if\")"
      ]
    },
    {
      "cell_type": "code",
      "source": [
        "# python program to illustrate If else statement\n",
        "#!/usr/bin/python\n",
        "\n",
        "i = 20\n",
        "if (i < 15):\n",
        "\tprint(\"i is smaller than 15\")\n",
        "\tprint(\"i'm in if Block\")\n",
        "else:\n",
        "\tprint(\"i is greater than 15\")\n",
        "\tprint(\"i'm in else Block\")\n",
        "print(\"i'm not in if and not in else Block\")\n"
      ],
      "metadata": {
        "id": "HBx_1GXDmNvu",
        "outputId": "7ef3a5c8-e1ff-434e-c4ef-2408fce9d797",
        "colab": {
          "base_uri": "https://localhost:8080/"
        }
      },
      "execution_count": 2,
      "outputs": [
        {
          "output_type": "stream",
          "name": "stdout",
          "text": [
            "i is greater than 15\n",
            "i'm in else Block\n",
            "i'm not in if and not in else Block\n"
          ]
        }
      ]
    }
  ]
}