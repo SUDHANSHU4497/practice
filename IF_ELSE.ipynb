{
  "nbformat": 4,
  "nbformat_minor": 0,
  "metadata": {
    "colab": {
      "name": "IF-ELSE.ipynb",
      "provenance": [],
      "authorship_tag": "ABX9TyNjvxVU5Ak9Big2/IGK+vSE",
      "include_colab_link": true
    },
    "kernelspec": {
      "name": "python3",
      "display_name": "Python 3"
    },
    "language_info": {
      "name": "python"
    }
  },
  "cells": [
    {
      "cell_type": "markdown",
      "metadata": {
        "id": "view-in-github",
        "colab_type": "text"
      },
      "source": [
        "<a href=\"https://colab.research.google.com/github/SUDHANSHU4497/practice/blob/main/IF_ELSE.ipynb\" target=\"_parent\"><img src=\"https://colab.research.google.com/assets/colab-badge.svg\" alt=\"Open In Colab\"/></a>"
      ]
    },
    {
      "cell_type": "code",
      "execution_count": 1,
      "metadata": {
        "colab": {
          "base_uri": "https://localhost:8080/"
        },
        "id": "abmH8-AVl1tY",
        "outputId": "ab2edcd2-23ce-4759-c08a-874a89b8d95d"
      },
      "outputs": [
        {
          "output_type": "stream",
          "name": "stdout",
          "text": [
            "I am Not in if\n"
          ]
        }
      ],
      "source": [
        "# python program to illustrate If statement\n",
        " \n",
        "i = 10\n",
        " \n",
        "if (i > 15):\n",
        "    print(\"10 is less than 15\")\n",
        "print(\"I am Not in if\")"
      ]
    },
    {
      "cell_type": "code",
      "source": [
        "# python program to illustrate If else statement\n",
        "#!/usr/bin/python\n",
        "\n",
        "i = 20\n",
        "if (i < 15):\n",
        "\tprint(\"i is smaller than 15\")\n",
        "\tprint(\"i'm in if Block\")\n",
        "else:\n",
        "\tprint(\"i is greater than 15\")\n",
        "\tprint(\"i'm in else Block\")\n",
        "print(\"i'm not in if and not in else Block\")\n"
      ],
      "metadata": {
        "colab": {
          "base_uri": "https://localhost:8080/"
        },
        "id": "HBx_1GXDmNvu",
        "outputId": "7ef3a5c8-e1ff-434e-c4ef-2408fce9d797"
      },
      "execution_count": 2,
      "outputs": [
        {
          "output_type": "stream",
          "name": "stdout",
          "text": [
            "i is greater than 15\n",
            "i'm in else Block\n",
            "i'm not in if and not in else Block\n"
          ]
        }
      ]
    },
    {
      "cell_type": "code",
      "source": [
        "# Explicit function\n",
        "def digitSum(n):\n",
        "\tdsum = 0\n",
        "\tfor ele in str(n):\n",
        "\t\tdsum += int(ele)\n",
        "\treturn dsum\n",
        "\n",
        "\n",
        "# Initializing list\n",
        "List = [367, 111, 562, 945, 6726, 873]\n",
        "\n",
        "# Using the function on odd elements of the list\n",
        "newList = [digitSum(i) for i in List if i & 1]\n",
        "\n",
        "# Displaying new list\n",
        "print(newList)\n"
      ],
      "metadata": {
        "colab": {
          "base_uri": "https://localhost:8080/"
        },
        "id": "B85MR03mmT4V",
        "outputId": "3f6e4e34-6e39-46a2-a832-8fa42dbde245"
      },
      "execution_count": 3,
      "outputs": [
        {
          "output_type": "stream",
          "name": "stdout",
          "text": [
            "[16, 3, 18, 18]\n"
          ]
        }
      ]
    },
    {
      "cell_type": "code",
      "source": [
        "# python program to illustrate nested If statement\n",
        "#!/usr/bin/python\n",
        "i = 10\n",
        "if (i == 10):\n",
        "\n",
        "\t# First if statement\n",
        "\tif (i < 15):\n",
        "\t\tprint(\"i is smaller than 15\")\n",
        "\t\t\n",
        "\t# Nested - if statement\n",
        "\t# Will only be executed if statement above\n",
        "\t# it is true\n",
        "\tif (i < 12):\n",
        "\t\tprint(\"i is smaller than 12 too\")\n",
        "\telse:\n",
        "\t\tprint(\"i is greater than 15\")\n"
      ],
      "metadata": {
        "colab": {
          "base_uri": "https://localhost:8080/"
        },
        "id": "2ILwAq1Smalc",
        "outputId": "1803a57d-b331-400c-f9b4-4434317cbedc"
      },
      "execution_count": 4,
      "outputs": [
        {
          "output_type": "stream",
          "name": "stdout",
          "text": [
            "i is smaller than 15\n",
            "i is smaller than 12 too\n"
          ]
        }
      ]
    },
    {
      "cell_type": "code",
      "source": [
        "# Python program to illustrate if-elif-else ladder\n",
        "#!/usr/bin/python\n",
        "\n",
        "i = 20\n",
        "if (i == 10):\n",
        "\tprint(\"i is 10\")\n",
        "elif (i == 15):\n",
        "\tprint(\"i is 15\")\n",
        "elif (i == 20):\n",
        "\tprint(\"i is 20\")\n",
        "else:\n",
        "\tprint(\"i is not present\")\n"
      ],
      "metadata": {
        "id": "JKLDCFcMmcfc"
      },
      "execution_count": null,
      "outputs": []
    }
  ]
}