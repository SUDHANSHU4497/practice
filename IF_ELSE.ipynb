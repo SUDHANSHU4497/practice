{
  "nbformat": 4,
  "nbformat_minor": 0,
  "metadata": {
    "colab": {
      "name": "IF-ELSE.ipynb",
      "provenance": [],
      "authorship_tag": "ABX9TyOLGSqNeFmATA00D9kU7GZX",
      "include_colab_link": true
    },
    "kernelspec": {
      "name": "python3",
      "display_name": "Python 3"
    },
    "language_info": {
      "name": "python"
    }
  },
  "cells": [
    {
      "cell_type": "markdown",
      "metadata": {
        "id": "view-in-github",
        "colab_type": "text"
      },
      "source": [
        "<a href=\"https://colab.research.google.com/github/SUDHANSHU4497/practice/blob/main/IF_ELSE.ipynb\" target=\"_parent\"><img src=\"https://colab.research.google.com/assets/colab-badge.svg\" alt=\"Open In Colab\"/></a>"
      ]
    },
    {
      "cell_type": "code",
      "execution_count": 1,
      "metadata": {
        "colab": {
          "base_uri": "https://localhost:8080/"
        },
        "id": "abmH8-AVl1tY",
        "outputId": "ab2edcd2-23ce-4759-c08a-874a89b8d95d"
      },
      "outputs": [
        {
          "output_type": "stream",
          "name": "stdout",
          "text": [
            "I am Not in if\n"
          ]
        }
      ],
      "source": [
        "# python program to illustrate If statement\n",
        " \n",
        "i = 10\n",
        " \n",
        "if (i > 15):\n",
        "    print(\"10 is less than 15\")\n",
        "print(\"I am Not in if\")"
      ]
    }
  ]
}