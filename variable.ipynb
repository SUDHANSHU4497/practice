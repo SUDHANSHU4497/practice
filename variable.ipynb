{
  "nbformat": 4,
  "nbformat_minor": 0,
  "metadata": {
    "colab": {
      "name": "variable.ipynb",
      "provenance": [],
      "authorship_tag": "ABX9TyO5RlELzvUruztJOAVKRlAR",
      "include_colab_link": true
    },
    "kernelspec": {
      "name": "python3",
      "display_name": "Python 3"
    },
    "language_info": {
      "name": "python"
    }
  },
  "cells": [
    {
      "cell_type": "markdown",
      "metadata": {
        "id": "view-in-github",
        "colab_type": "text"
      },
      "source": [
        "<a href=\"https://colab.research.google.com/github/SUDHANSHU4497/practice/blob/main/variable.ipynb\" target=\"_parent\"><img src=\"https://colab.research.google.com/assets/colab-badge.svg\" alt=\"Open In Colab\"/></a>"
      ]
    },
    {
      "cell_type": "code",
      "execution_count": 1,
      "metadata": {
        "colab": {
          "base_uri": "https://localhost:8080/"
        },
        "id": "I6A8kKIAz31E",
        "outputId": "142ed540-72f3-4830-8c42-b9f7ffcc54e3"
      },
      "outputs": [
        {
          "output_type": "stream",
          "name": "stdout",
          "text": [
            "100\n",
            "1000.0\n",
            "John\n"
          ]
        }
      ],
      "source": [
        "matches = 100          # An integer assignment \n",
        "runs   = 1000.0       # A floating point \n",
        "player    = \"John\"       # A string \n",
        "print (matches) \n",
        "print (runs) \n",
        "print (player) "
      ]
    },
    {
      "cell_type": "code",
      "source": [
        "# Multiple Assignment\n",
        "a=b=c=5"
      ],
      "metadata": {
        "id": "uU2keabH070J"
      },
      "execution_count": 2,
      "outputs": []
    },
    {
      "cell_type": "code",
      "source": [
        "print(a,b,c)"
      ],
      "metadata": {
        "colab": {
          "base_uri": "https://localhost:8080/"
        },
        "id": "F5XyHR8E1C5P",
        "outputId": "09ddc473-2ac9-42d1-ae86-20c897bec10e"
      },
      "execution_count": 3,
      "outputs": [
        {
          "output_type": "stream",
          "name": "stdout",
          "text": [
            "5 5 5\n"
          ]
        }
      ]
    },
    {
      "cell_type": "code",
      "source": [
        " a, b, c = 3, 28, \"anshu\" \n",
        " print(a,b,c)"
      ],
      "metadata": {
        "colab": {
          "base_uri": "https://localhost:8080/"
        },
        "id": "FKvqFNYo1GiJ",
        "outputId": "889982bf-401a-48ac-ac01-150c26a06334"
      },
      "execution_count": 4,
      "outputs": [
        {
          "output_type": "stream",
          "name": "stdout",
          "text": [
            "3 28 anshu\n"
          ]
        }
      ]
    },
    {
      "cell_type": "code",
      "source": [
        ""
      ],
      "metadata": {
        "id": "IR8NaSTu1Uav"
      },
      "execution_count": null,
      "outputs": []
    }
  ]
}