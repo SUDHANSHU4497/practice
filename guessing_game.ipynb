{
  "nbformat": 4,
  "nbformat_minor": 0,
  "metadata": {
    "colab": {
      "name": "guessing game.ipynb",
      "provenance": [],
      "collapsed_sections": [],
      "authorship_tag": "ABX9TyPieJvgYV1G8113Fb+5muoW",
      "include_colab_link": true
    },
    "kernelspec": {
      "name": "python3",
      "display_name": "Python 3"
    },
    "language_info": {
      "name": "python"
    }
  },
  "cells": [
    {
      "cell_type": "markdown",
      "metadata": {
        "id": "view-in-github",
        "colab_type": "text"
      },
      "source": [
        "<a href=\"https://colab.research.google.com/github/SUDHANSHU4497/practice/blob/main/guessing_game.ipynb\" target=\"_parent\"><img src=\"https://colab.research.google.com/assets/colab-badge.svg\" alt=\"Open In Colab\"/></a>"
      ]
    },
    {
      "cell_type": "code",
      "execution_count": 2,
      "metadata": {
        "id": "p9eyM636STWk"
      },
      "outputs": [],
      "source": [
        "import random"
      ]
    },
    {
      "cell_type": "code",
      "source": [
        "random.randint(1,100)"
      ],
      "metadata": {
        "colab": {
          "base_uri": "https://localhost:8080/"
        },
        "id": "aJIcaGbb8qt8",
        "outputId": "b3d04df5-10e1-4305-db0b-50a2c78c44b3"
      },
      "execution_count": 3,
      "outputs": [
        {
          "output_type": "execute_result",
          "data": {
            "text/plain": [
              "1"
            ]
          },
          "metadata": {},
          "execution_count": 3
        }
      ]
    },
    {
      "cell_type": "code",
      "source": [
        "jackpot=random.randint(1,100)\n",
        "guess=int(input(\"guess a number\"))\n",
        "counter=1\n",
        "while guess!=jackpot:\n",
        "  if guess<jackpot:\n",
        "    print(\"guess higher\")\n",
        "  else:\n",
        "    print(\"guess lower\")\n",
        "  guess=int(input(\"guess a number\"))\n",
        "  counter=counter+1\n",
        "print(\"correct answer\")\n",
        "print(\"you took\",counter,\"attempts\")"
      ],
      "metadata": {
        "colab": {
          "base_uri": "https://localhost:8080/"
        },
        "id": "qHoQI8ke8wZ9",
        "outputId": "fa18b91e-1a55-42bb-9679-e744c2166c2f"
      },
      "execution_count": 7,
      "outputs": [
        {
          "output_type": "stream",
          "name": "stdout",
          "text": [
            "guess a number45\n",
            "guess lower\n",
            "guess a number20\n",
            "guess higher\n",
            "guess a number30\n",
            "guess lower\n",
            "guess a number25\n",
            "guess lower\n",
            "guess a number23\n",
            "guess higher\n",
            "guess a number24\n",
            "correct answer\n",
            "you took 6 attempts\n"
          ]
        }
      ]
    }
  ]
}