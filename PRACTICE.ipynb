{
  "nbformat": 4,
  "nbformat_minor": 0,
  "metadata": {
    "colab": {
      "name": "PRACTICE.ipynb",
      "provenance": [],
      "authorship_tag": "ABX9TyOvKRc54A0P+KRQuKDm7K5D",
      "include_colab_link": true
    },
    "kernelspec": {
      "name": "python3",
      "display_name": "Python 3"
    },
    "language_info": {
      "name": "python"
    }
  },
  "cells": [
    {
      "cell_type": "markdown",
      "metadata": {
        "id": "view-in-github",
        "colab_type": "text"
      },
      "source": [
        "<a href=\"https://colab.research.google.com/github/SUDHANSHU4497/practice/blob/main/PRACTICE.ipynb\" target=\"_parent\"><img src=\"https://colab.research.google.com/assets/colab-badge.svg\" alt=\"Open In Colab\"/></a>"
      ]
    },
    {
      "cell_type": "code",
      "execution_count": 9,
      "metadata": {
        "colab": {
          "base_uri": "https://localhost:8080/"
        },
        "id": "3wd1k8wPt4HL",
        "outputId": "0034fa3c-8812-464c-aefa-f45730d8bffb"
      },
      "outputs": [
        {
          "output_type": "stream",
          "name": "stdout",
          "text": [
            "1 2 3 4\n"
          ]
        }
      ],
      "source": [
        "# array\n",
        "#a = [1, 2, 3, 4]\n",
        " \n",
        "# printing a element in same\n",
        "# line\n",
        "# for i in range(4):\n",
        "    # print(a[i],end =\" \")\n",
        "print(* range(1,5))"
      ]
    }
  ]
}