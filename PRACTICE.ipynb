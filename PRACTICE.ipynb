{
  "nbformat": 4,
  "nbformat_minor": 0,
  "metadata": {
    "colab": {
      "name": "PRACTICE.ipynb",
      "provenance": [],
      "authorship_tag": "ABX9TyNF4lNa64synJm27h4EEWzH",
      "include_colab_link": true
    },
    "kernelspec": {
      "name": "python3",
      "display_name": "Python 3"
    },
    "language_info": {
      "name": "python"
    }
  },
  "cells": [
    {
      "cell_type": "markdown",
      "metadata": {
        "id": "view-in-github",
        "colab_type": "text"
      },
      "source": [
        "<a href=\"https://colab.research.google.com/github/SUDHANSHU4497/practice/blob/main/PRACTICE.ipynb\" target=\"_parent\"><img src=\"https://colab.research.google.com/assets/colab-badge.svg\" alt=\"Open In Colab\"/></a>"
      ]
    },
    {
      "cell_type": "code",
      "execution_count": 3,
      "metadata": {
        "colab": {
          "base_uri": "https://localhost:8080/"
        },
        "id": "3wd1k8wPt4HL",
        "outputId": "6adcb7b8-3d27-4fa5-8ef6-6031291214a2"
      },
      "outputs": [
        {
          "output_type": "stream",
          "name": "stdout",
          "text": [
            "1 2 3 4 "
          ]
        }
      ],
      "source": [
        "# array\n",
        "a = [1, 2, 3, 4]\n",
        " \n",
        "# printing a element in same\n",
        "# line\n",
        "for i in range(4):\n",
        "    print(a[i],end =\" \"),"
      ]
    }
  ]
}