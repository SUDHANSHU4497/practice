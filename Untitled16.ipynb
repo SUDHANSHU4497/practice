{
  "nbformat": 4,
  "nbformat_minor": 0,
  "metadata": {
    "colab": {
      "name": "Untitled16.ipynb",
      "provenance": [],
      "authorship_tag": "ABX9TyOmVZDwcfr3e0/s+tw3t7bE",
      "include_colab_link": true
    },
    "kernelspec": {
      "name": "python3",
      "display_name": "Python 3"
    },
    "language_info": {
      "name": "python"
    }
  },
  "cells": [
    {
      "cell_type": "markdown",
      "metadata": {
        "id": "view-in-github",
        "colab_type": "text"
      },
      "source": [
        "<a href=\"https://colab.research.google.com/github/SUDHANSHU4497/practice/blob/main/Untitled16.ipynb\" target=\"_parent\"><img src=\"https://colab.research.google.com/assets/colab-badge.svg\" alt=\"Open In Colab\"/></a>"
      ]
    },
    {
      "cell_type": "code",
      "execution_count": 3,
      "metadata": {
        "colab": {
          "base_uri": "https://localhost:8080/"
        },
        "id": "Ol0ox6k34WOz",
        "outputId": "55caef12-225d-4a55-d22f-a6fade46da32"
      },
      "outputs": [
        {
          "output_type": "stream",
          "name": "stdout",
          "text": [
            "N.I.T\n",
            "05/09/2001\n",
            "ANSHU@NITP\n"
          ]
        }
      ],
      "source": [
        "#code for disabling the softspace feature\n",
        "print('N','I','T', sep='.')\n",
        " \n",
        "#for formatting a date\n",
        "print('05','09','2001', sep='/')\n",
        " \n",
        "#another example\n",
        "print('ANSHU','NITP', sep='@')"
      ]
    }
  ]
}