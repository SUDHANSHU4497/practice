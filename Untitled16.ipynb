{
  "nbformat": 4,
  "nbformat_minor": 0,
  "metadata": {
    "colab": {
      "name": "Untitled16.ipynb",
      "provenance": [],
      "authorship_tag": "ABX9TyNeCgF4AL1+nF0azBV691vP",
      "include_colab_link": true
    },
    "kernelspec": {
      "name": "python3",
      "display_name": "Python 3"
    },
    "language_info": {
      "name": "python"
    }
  },
  "cells": [
    {
      "cell_type": "markdown",
      "metadata": {
        "id": "view-in-github",
        "colab_type": "text"
      },
      "source": [
        "<a href=\"https://colab.research.google.com/github/SUDHANSHU4497/practice/blob/main/Untitled16.ipynb\" target=\"_parent\"><img src=\"https://colab.research.google.com/assets/colab-badge.svg\" alt=\"Open In Colab\"/></a>"
      ]
    },
    {
      "cell_type": "code",
      "execution_count": null,
      "metadata": {
        "id": "NpamakLP5Dot"
      },
      "outputs": [],
      "source": [
        ""
      ]
    },
    {
      "cell_type": "markdown",
      "source": [
        "# list\n",
        "# what is list\n",
        "# list vs array\n",
        "# create\n",
        "# access\n",
        "# edit\n",
        "# add\n",
        "# delete\n",
        "# operation\n",
        "# function"
      ],
      "metadata": {
        "id": "-lMP-QUV5EMV"
      }
    },
    {
      "cell_type": "markdown",
      "source": [
        "* array is homogenous while list is hetrogeneous.\n",
        "* in array data is stored at continuous memory location but it is not necessary for list\n",
        "* array are much faster compare to list\n",
        "* list are more programmer friendly"
      ],
      "metadata": {
        "id": "O1pTiauS5plU"
      }
    },
    {
      "cell_type": "code",
      "source": [
        "# 2d list\n",
        "L3=[1,2,3,[4,5]]   \n",
        "L3"
      ],
      "metadata": {
        "colab": {
          "base_uri": "https://localhost:8080/"
        },
        "id": "dYjakOiv6ox1",
        "outputId": "7098cb3c-6bfd-4db2-bf9a-fe7ae25fee15"
      },
      "execution_count": 1,
      "outputs": [
        {
          "output_type": "execute_result",
          "data": {
            "text/plain": [
              "[1, 2, 3, [4, 5]]"
            ]
          },
          "metadata": {},
          "execution_count": 1
        }
      ]
    },
    {
      "cell_type": "code",
      "source": [
        "L3[3][0]"
      ],
      "metadata": {
        "colab": {
          "base_uri": "https://localhost:8080/"
        },
        "id": "7Jma2KT86-O1",
        "outputId": "dc953f4c-b685-4b3b-ac6a-a40d7d7daa95"
      },
      "execution_count": 3,
      "outputs": [
        {
          "output_type": "execute_result",
          "data": {
            "text/plain": [
              "4"
            ]
          },
          "metadata": {},
          "execution_count": 3
        }
      ]
    },
    {
      "cell_type": "code",
      "source": [
        "L4=[[[1,2],[3,4]],[[5,6],[7,8]]]"
      ],
      "metadata": {
        "id": "IB4UWnYQ71QI"
      },
      "execution_count": 5,
      "outputs": []
    },
    {
      "cell_type": "code",
      "source": [
        "L4[1][1][0]"
      ],
      "metadata": {
        "colab": {
          "base_uri": "https://localhost:8080/"
        },
        "id": "-Zp5u4xC8UOm",
        "outputId": "19ba0d51-4924-485b-d19b-b647aac61aa9"
      },
      "execution_count": 6,
      "outputs": [
        {
          "output_type": "execute_result",
          "data": {
            "text/plain": [
              "7"
            ]
          },
          "metadata": {},
          "execution_count": 6
        }
      ]
    },
    {
      "cell_type": "code",
      "source": [
        ""
      ],
      "metadata": {
        "id": "EpoiG5Yb9frB"
      },
      "execution_count": null,
      "outputs": []
    },
    {
      "cell_type": "markdown",
      "source": [
        "**ADD NEW ITEM IN LIST**\n",
        "* ADD\n",
        "* APPEND\n",
        "* EXTEND\n",
        "* INSERT"
      ],
      "metadata": {
        "id": "BDH4Xve89OOw"
      }
    },
    {
      "cell_type": "code",
      "source": [
        "L=[1,2,3,4,5]\n"
      ],
      "metadata": {
        "id": "wT0w8fuA9h5_"
      },
      "execution_count": 8,
      "outputs": []
    },
    {
      "cell_type": "code",
      "source": [
        "# TO ADD ITEMS IN LAST\n",
        "L.append(1000)"
      ],
      "metadata": {
        "id": "rMpzGCWZ9p9t"
      },
      "execution_count": 9,
      "outputs": []
    },
    {
      "cell_type": "code",
      "source": [
        "L.append([5,6])"
      ],
      "metadata": {
        "id": "sD-omNyo-eW6"
      },
      "execution_count": 12,
      "outputs": []
    },
    {
      "cell_type": "code",
      "source": [
        "L\n"
      ],
      "metadata": {
        "colab": {
          "base_uri": "https://localhost:8080/"
        },
        "id": "VBlGaUTp9zj2",
        "outputId": "803e31f7-7fba-4524-ea2c-b95ed3f9fbb5"
      },
      "execution_count": 13,
      "outputs": [
        {
          "output_type": "execute_result",
          "data": {
            "text/plain": [
              "[1, 2, 3, 4, 5, 1000, 500, 600, 700, [5, 6]]"
            ]
          },
          "metadata": {},
          "execution_count": 13
        }
      ]
    },
    {
      "cell_type": "code",
      "source": [
        "# to add multiple item in last\n",
        "L.extend([500,600,700])\n",
        "L"
      ],
      "metadata": {
        "colab": {
          "base_uri": "https://localhost:8080/"
        },
        "id": "ecCT1ekr94K8",
        "outputId": "b1f9981d-77c1-40a5-a247-01d5ac1f13f4"
      },
      "execution_count": 11,
      "outputs": [
        {
          "output_type": "execute_result",
          "data": {
            "text/plain": [
              "[1, 2, 3, 4, 5, 1000, 500, 600, 700]"
            ]
          },
          "metadata": {},
          "execution_count": 11
        }
      ]
    },
    {
      "cell_type": "code",
      "source": [
        "L.extend(\"goa\")"
      ],
      "metadata": {
        "id": "wHGlRYhO-oKA"
      },
      "execution_count": 14,
      "outputs": []
    },
    {
      "cell_type": "code",
      "source": [
        "L"
      ],
      "metadata": {
        "colab": {
          "base_uri": "https://localhost:8080/"
        },
        "id": "jFUeUDTg-tLN",
        "outputId": "426843ed-d502-45af-f593-8c87f4c4667d"
      },
      "execution_count": 16,
      "outputs": [
        {
          "output_type": "execute_result",
          "data": {
            "text/plain": [
              "[1, 2, 3, 4, 5, 1000, 500, 600, 700, [5, 6], 'g', 'o', 'a']"
            ]
          },
          "metadata": {},
          "execution_count": 16
        }
      ]
    },
    {
      "cell_type": "code",
      "source": [
        ""
      ],
      "metadata": {
        "id": "hjbKtuLY-vL5"
      },
      "execution_count": null,
      "outputs": []
    },
    {
      "cell_type": "markdown",
      "source": [
        "* append() always try to add one items\n",
        "* extend() always try to add multiple items"
      ],
      "metadata": {
        "id": "igrTn2XS-1oO"
      }
    },
    {
      "cell_type": "code",
      "source": [
        "# if we want to add items at particular index(location)\n",
        "L.insert(5,'hello')"
      ],
      "metadata": {
        "id": "VFL04xWe_O1H"
      },
      "execution_count": 44,
      "outputs": []
    },
    {
      "cell_type": "code",
      "source": [
        "L"
      ],
      "metadata": {
        "colab": {
          "base_uri": "https://localhost:8080/"
        },
        "id": "niupThU7_i7c",
        "outputId": "3dd13319-24be-4892-edc1-6989d0f177ec"
      },
      "execution_count": 45,
      "outputs": [
        {
          "output_type": "execute_result",
          "data": {
            "text/plain": [
              "['world',\n",
              " 2,\n",
              " 3,\n",
              " 4,\n",
              " 5,\n",
              " 'hello',\n",
              " 'HELLO',\n",
              " 'HELLO',\n",
              " '\"HELLO\"',\n",
              " 1000,\n",
              " 500,\n",
              " 600,\n",
              " 700]"
            ]
          },
          "metadata": {},
          "execution_count": 45
        }
      ]
    },
    {
      "cell_type": "code",
      "source": [
        ""
      ],
      "metadata": {
        "id": "LnjDCx3s_k38"
      },
      "execution_count": null,
      "outputs": []
    },
    {
      "cell_type": "markdown",
      "source": [
        "**how to delete**\n",
        "* del\n",
        "* remove\n",
        "* pop\n",
        "* clear"
      ],
      "metadata": {
        "id": "1NX2L6V2_tz_"
      }
    },
    {
      "cell_type": "code",
      "source": [
        "L2=[\"HELLO\",4,5,6,True,[5+6j]]\n"
      ],
      "metadata": {
        "id": "knZKIyAM_9fb"
      },
      "execution_count": 19,
      "outputs": []
    },
    {
      "cell_type": "code",
      "source": [
        "L2"
      ],
      "metadata": {
        "colab": {
          "base_uri": "https://localhost:8080/"
        },
        "id": "dX1Uwj_hARwp",
        "outputId": "9ec872bd-e02d-49d6-8066-44f257bdb581"
      },
      "execution_count": 20,
      "outputs": [
        {
          "output_type": "execute_result",
          "data": {
            "text/plain": [
              "['HELLO', 4, 5, 6, True, [(5+6j)]]"
            ]
          },
          "metadata": {},
          "execution_count": 20
        }
      ]
    },
    {
      "cell_type": "code",
      "source": [
        "del L2  # to delete whole data L2"
      ],
      "metadata": {
        "id": "FtAASiaLATln"
      },
      "execution_count": 21,
      "outputs": []
    },
    {
      "cell_type": "code",
      "source": [
        "L2"
      ],
      "metadata": {
        "colab": {
          "base_uri": "https://localhost:8080/",
          "height": 166
        },
        "id": "9JwFmyukAbfb",
        "outputId": "975b629c-6a79-4457-be0f-3c403290cfd9"
      },
      "execution_count": 22,
      "outputs": [
        {
          "output_type": "error",
          "ename": "NameError",
          "evalue": "ignored",
          "traceback": [
            "\u001b[0;31m---------------------------------------------------------------------------\u001b[0m",
            "\u001b[0;31mNameError\u001b[0m                                 Traceback (most recent call last)",
            "\u001b[0;32m<ipython-input-22-e2d37c5ab432>\u001b[0m in \u001b[0;36m<module>\u001b[0;34m()\u001b[0m\n\u001b[0;32m----> 1\u001b[0;31m \u001b[0mL2\u001b[0m\u001b[0;34m\u001b[0m\u001b[0;34m\u001b[0m\u001b[0m\n\u001b[0m",
            "\u001b[0;31mNameError\u001b[0m: name 'L2' is not defined"
          ]
        }
      ]
    },
    {
      "cell_type": "code",
      "source": [
        "# delete data at particular location\n",
        "del L[0]"
      ],
      "metadata": {
        "id": "6f-mcpYmApRz"
      },
      "execution_count": 24,
      "outputs": []
    },
    {
      "cell_type": "code",
      "source": [
        "L"
      ],
      "metadata": {
        "colab": {
          "base_uri": "https://localhost:8080/"
        },
        "id": "UJ6b2UY4A7xw",
        "outputId": "ebf80f65-9ea2-45de-90a4-b1ed77444a42"
      },
      "execution_count": 25,
      "outputs": [
        {
          "output_type": "execute_result",
          "data": {
            "text/plain": [
              "['world', 2, 3, 4, 5, 1000, 500, 600, 700, [5, 6], 'g', 'o', 'a']"
            ]
          },
          "metadata": {},
          "execution_count": 25
        }
      ]
    },
    {
      "cell_type": "code",
      "source": [
        "del L[-4]"
      ],
      "metadata": {
        "id": "Sh2hq0mVA9Ga"
      },
      "execution_count": 26,
      "outputs": []
    },
    {
      "cell_type": "code",
      "source": [
        "L"
      ],
      "metadata": {
        "colab": {
          "base_uri": "https://localhost:8080/"
        },
        "id": "zUpUj-sGBHVA",
        "outputId": "41ed0df7-c857-4166-a023-77fb8c8d31c2"
      },
      "execution_count": 27,
      "outputs": [
        {
          "output_type": "execute_result",
          "data": {
            "text/plain": [
              "['world', 2, 3, 4, 5, 1000, 500, 600, 700, 'g', 'o', 'a']"
            ]
          },
          "metadata": {},
          "execution_count": 27
        }
      ]
    },
    {
      "cell_type": "code",
      "source": [
        "del L[-3:]"
      ],
      "metadata": {
        "id": "8grJUjvBBJJR"
      },
      "execution_count": 28,
      "outputs": []
    },
    {
      "cell_type": "code",
      "source": [
        "L"
      ],
      "metadata": {
        "colab": {
          "base_uri": "https://localhost:8080/"
        },
        "id": "qi-y9mMmBUm_",
        "outputId": "caa926b5-2b29-4654-f586-3667d30e9288"
      },
      "execution_count": 46,
      "outputs": [
        {
          "output_type": "execute_result",
          "data": {
            "text/plain": [
              "['world',\n",
              " 2,\n",
              " 3,\n",
              " 4,\n",
              " 5,\n",
              " 'hello',\n",
              " 'HELLO',\n",
              " 'HELLO',\n",
              " '\"HELLO\"',\n",
              " 1000,\n",
              " 500,\n",
              " 600,\n",
              " 700]"
            ]
          },
          "metadata": {},
          "execution_count": 46
        }
      ]
    },
    {
      "cell_type": "code",
      "source": [
        "# TO REMOVE DATA BY VALUE\n",
        "L.remove('hello')"
      ],
      "metadata": {
        "id": "IBqNOjS4BWgY"
      },
      "execution_count": 48,
      "outputs": []
    },
    {
      "cell_type": "code",
      "source": [
        "L"
      ],
      "metadata": {
        "colab": {
          "base_uri": "https://localhost:8080/"
        },
        "id": "SUqDbEHaBotg",
        "outputId": "247b56e6-f6ca-4d14-a551-6957a3171186"
      },
      "execution_count": 49,
      "outputs": [
        {
          "output_type": "execute_result",
          "data": {
            "text/plain": [
              "['world', 2, 3, 4, 5, 'HELLO', 'HELLO', '\"HELLO\"', 1000, 500, 600, 700]"
            ]
          },
          "metadata": {},
          "execution_count": 49
        }
      ]
    },
    {
      "cell_type": "code",
      "source": [
        "# TO DELETE THE LAST ELEMENT\n",
        "L.pop()"
      ],
      "metadata": {
        "colab": {
          "base_uri": "https://localhost:8080/"
        },
        "id": "GSoRBH_7C7NN",
        "outputId": "867a9be5-c0ee-4fad-bc1a-93e54c41b646"
      },
      "execution_count": 51,
      "outputs": [
        {
          "output_type": "execute_result",
          "data": {
            "text/plain": [
              "700"
            ]
          },
          "metadata": {},
          "execution_count": 51
        }
      ]
    },
    {
      "cell_type": "code",
      "source": [
        "# to empty the list\n",
        "L.clear()"
      ],
      "metadata": {
        "id": "bg7QO0u7DBPT"
      },
      "execution_count": 52,
      "outputs": []
    },
    {
      "cell_type": "code",
      "source": [
        "L"
      ],
      "metadata": {
        "colab": {
          "base_uri": "https://localhost:8080/"
        },
        "id": "WJ2hapVvDXBp",
        "outputId": "79d81380-218f-4261-e0d5-ffdeb6775165"
      },
      "execution_count": 53,
      "outputs": [
        {
          "output_type": "execute_result",
          "data": {
            "text/plain": [
              "[]"
            ]
          },
          "metadata": {},
          "execution_count": 53
        }
      ]
    },
    {
      "cell_type": "code",
      "source": [
        " # sorted give  permanent change in new list\n",
        "#  sort give  permanent change in original list"
      ],
      "metadata": {
        "id": "uNMgSmEmDZuB"
      },
      "execution_count": 53,
      "outputs": []
    },
    {
      "cell_type": "code",
      "source": [
        "x=\"hello how are you\"\n",
        "y=x.split()\n",
        "for word in y:\n",
        "  word=word.capitalize()\n",
        "  print(word, end=\" \")\n"
      ],
      "metadata": {
        "colab": {
          "base_uri": "https://localhost:8080/"
        },
        "id": "2CG6CK_jH-dh",
        "outputId": "41dfe003-da59-4a1d-846c-34f25787ff1c"
      },
      "execution_count": 62,
      "outputs": [
        {
          "output_type": "stream",
          "name": "stdout",
          "text": [
            "Hello How Are You "
          ]
        }
      ]
    },
    {
      "cell_type": "code",
      "source": [
        "y=\"acv@gmail.com\"\n",
        "x=y.split('@')[0]\n",
        "x"
      ],
      "metadata": {
        "colab": {
          "base_uri": "https://localhost:8080/",
          "height": 35
        },
        "id": "SkPi8fOrIPGg",
        "outputId": "67db75a3-cde9-48c0-b48d-28439e054914"
      },
      "execution_count": 65,
      "outputs": [
        {
          "output_type": "execute_result",
          "data": {
            "text/plain": [
              "'acv'"
            ],
            "application/vnd.google.colaboratory.intrinsic+json": {
              "type": "string"
            }
          },
          "metadata": {},
          "execution_count": 65
        }
      ]
    },
    {
      "cell_type": "code",
      "source": [
        ""
      ],
      "metadata": {
        "id": "s1lEC64sIQZR"
      },
      "execution_count": null,
      "outputs": []
    }
  ]
}