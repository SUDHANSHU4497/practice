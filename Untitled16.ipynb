{
  "nbformat": 4,
  "nbformat_minor": 0,
  "metadata": {
    "colab": {
      "name": "Untitled16.ipynb",
      "provenance": [],
      "authorship_tag": "ABX9TyO40gz6PJDjR+XQlVDNwEXa",
      "include_colab_link": true
    },
    "kernelspec": {
      "name": "python3",
      "display_name": "Python 3"
    },
    "language_info": {
      "name": "python"
    }
  },
  "cells": [
    {
      "cell_type": "markdown",
      "metadata": {
        "id": "view-in-github",
        "colab_type": "text"
      },
      "source": [
        "<a href=\"https://colab.research.google.com/github/SUDHANSHU4497/practice/blob/main/Untitled16.ipynb\" target=\"_parent\"><img src=\"https://colab.research.google.com/assets/colab-badge.svg\" alt=\"Open In Colab\"/></a>"
      ]
    },
    {
      "cell_type": "code",
      "execution_count": 3,
      "metadata": {
        "colab": {
          "base_uri": "https://localhost:8080/"
        },
        "id": "Ol0ox6k34WOz",
        "outputId": "55caef12-225d-4a55-d22f-a6fade46da32"
      },
      "outputs": [
        {
          "output_type": "stream",
          "name": "stdout",
          "text": [
            "N.I.T\n",
            "05/09/2001\n",
            "ANSHU@NITP\n"
          ]
        }
      ],
      "source": [
        "#code for disabling the softspace feature\n",
        "print('N','I','T', sep='.')\n",
        " \n",
        "#for formatting a date\n",
        "print('05','09','2001', sep='/')\n",
        " \n",
        "#another example\n",
        "print('ANSHU','NITP', sep='@')"
      ]
    },
    {
      "cell_type": "code",
      "source": [
        "Tuple_1 = ()\n",
        "print(\"Initial empty Tuple: \")\n",
        "print(Tuple_1)\n",
        " \n",
        "# Creating a Tuple\n",
        "# with the use of string\n",
        "Tuple1 = ('YOUTUBE', 'IS')\n",
        "print(\"\\nTuple with the use of String: \")\n",
        "print(Tuple1)\n",
        " \n",
        "# Creating a Tuple with\n",
        "# the use of list\n",
        "list1 = [1, 2, 4, 5, 6]\n",
        "print(\"\\nTuple using List: \")\n",
        "print(tuple(list1))"
      ],
      "metadata": {
        "colab": {
          "base_uri": "https://localhost:8080/"
        },
        "id": "5rgjS58r5ppB",
        "outputId": "c8fa0020-04c3-41bd-dcf2-272148bb5b5f"
      },
      "execution_count": 4,
      "outputs": [
        {
          "output_type": "stream",
          "name": "stdout",
          "text": [
            "Initial empty Tuple: \n",
            "()\n",
            "\n",
            "Tuple with the use of String: \n",
            "('YOUTUBE', 'IS')\n",
            "\n",
            "Tuple using List: \n",
            "(1, 2, 4, 5, 6)\n"
          ]
        }
      ]
    }
  ]
}