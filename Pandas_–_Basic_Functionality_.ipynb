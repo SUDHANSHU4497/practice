{
  "nbformat": 4,
  "nbformat_minor": 0,
  "metadata": {
    "colab": {
      "name": "Pandas – Basic Functionality .ipynb",
      "provenance": [],
      "authorship_tag": "ABX9TyMY0ZJUmtWyk5C7v53VWgJK",
      "include_colab_link": true
    },
    "kernelspec": {
      "name": "python3",
      "display_name": "Python 3"
    },
    "language_info": {
      "name": "python"
    }
  },
  "cells": [
    {
      "cell_type": "markdown",
      "metadata": {
        "id": "view-in-github",
        "colab_type": "text"
      },
      "source": [
        "<a href=\"https://colab.research.google.com/github/SUDHANSHU4497/practice/blob/main/Pandas_%E2%80%93_Basic_Functionality_.ipynb\" target=\"_parent\"><img src=\"https://colab.research.google.com/assets/colab-badge.svg\" alt=\"Open In Colab\"/></a>"
      ]
    },
    {
      "cell_type": "code",
      "execution_count": 1,
      "metadata": {
        "colab": {
          "base_uri": "https://localhost:8080/"
        },
        "id": "jrCDqSxfSEwy",
        "outputId": "31c93781-8909-4e36-b389-c48772d52cd3"
      },
      "outputs": [
        {
          "output_type": "stream",
          "name": "stdout",
          "text": [
            "0   -0.095403\n",
            "1    1.303966\n",
            "2    0.019557\n",
            "3   -0.418132\n",
            "dtype: float64\n"
          ]
        }
      ],
      "source": [
        "import pandas as pd \n",
        "import numpy as np \n",
        " \n",
        "#Create a series with 100 random numbers \n",
        "s = pd.Series(np.random.randn(4)) \n",
        "print (s )"
      ]
    },
    {
      "cell_type": "code",
      "source": [
        "import pandas as pd \n",
        "import numpy as np \n",
        " \n",
        "#Create a series with 100 random numbers \n",
        "s = pd.Series(np.random.randn(4)) \n",
        "print (\"The axes are:\") \n",
        "print (s.axes) "
      ],
      "metadata": {
        "colab": {
          "base_uri": "https://localhost:8080/"
        },
        "id": "AxwoJDQ-SxyW",
        "outputId": "64c905a8-306e-4440-b7f9-119fc8587678"
      },
      "execution_count": 2,
      "outputs": [
        {
          "output_type": "stream",
          "name": "stdout",
          "text": [
            "The axes are:\n",
            "[RangeIndex(start=0, stop=4, step=1)]\n"
          ]
        }
      ]
    },
    {
      "cell_type": "code",
      "source": [
        "#Create a series with 100 random numbers \n",
        "s = pd.Series(np.random.randn(4)) \n",
        "print (\"Is the Object empty?\") \n",
        "print( s.empty) "
      ],
      "metadata": {
        "colab": {
          "base_uri": "https://localhost:8080/"
        },
        "id": "VwHOyW1hTK_F",
        "outputId": "6f031071-e27f-4681-a266-b1df94ff4015"
      },
      "execution_count": 3,
      "outputs": [
        {
          "output_type": "stream",
          "name": "stdout",
          "text": [
            "Is the Object empty?\n",
            "False\n"
          ]
        }
      ]
    },
    {
      "cell_type": "code",
      "source": [
        "#Create a series with 4 random numbers \n",
        "s = pd.Series(np.random.randn(4)) \n",
        "print( s )\n",
        " \n",
        "print (\"The dimensions of the object:\") \n",
        "print( s.ndim )"
      ],
      "metadata": {
        "colab": {
          "base_uri": "https://localhost:8080/"
        },
        "id": "7DXJwMNUTNQR",
        "outputId": "bc6f0e5e-d47b-4507-de9f-227b1e969756"
      },
      "execution_count": 5,
      "outputs": [
        {
          "output_type": "stream",
          "name": "stdout",
          "text": [
            "0   -0.474605\n",
            "1   -1.000776\n",
            "2    0.613255\n",
            "3   -0.392624\n",
            "dtype: float64\n",
            "The dimensions of the object:\n",
            "1\n"
          ]
        }
      ]
    },
    {
      "cell_type": "code",
      "source": [
        "print (\"The size of the object:\") \n",
        "print (s.size) "
      ],
      "metadata": {
        "colab": {
          "base_uri": "https://localhost:8080/"
        },
        "id": "fFUBuQ9vTVs-",
        "outputId": "ef1e0701-dca2-4550-8735-4b724403c4dd"
      },
      "execution_count": 6,
      "outputs": [
        {
          "output_type": "stream",
          "name": "stdout",
          "text": [
            "The size of the object:\n",
            "4\n"
          ]
        }
      ]
    },
    {
      "cell_type": "code",
      "source": [
        "print (\"The actual data series is:\") \n",
        "print (s.values )"
      ],
      "metadata": {
        "colab": {
          "base_uri": "https://localhost:8080/"
        },
        "id": "VrJKYPajTjsA",
        "outputId": "664724b6-1478-4f0e-ca63-b626224fe047"
      },
      "execution_count": 7,
      "outputs": [
        {
          "output_type": "stream",
          "name": "stdout",
          "text": [
            "The actual data series is:\n",
            "[-0.47460495 -1.00077559  0.61325481 -0.39262425]\n"
          ]
        }
      ]
    },
    {
      "cell_type": "code",
      "source": [
        "print (\"The first two rows of the data series:\") \n",
        "print (s.head(2) )"
      ],
      "metadata": {
        "colab": {
          "base_uri": "https://localhost:8080/"
        },
        "id": "HgLtPgUnTpAs",
        "outputId": "a6603913-2b6b-4fd0-fe5b-874ee8c148ff"
      },
      "execution_count": 8,
      "outputs": [
        {
          "output_type": "stream",
          "name": "stdout",
          "text": [
            "The first two rows of the data series:\n",
            "0   -0.474605\n",
            "1   -1.000776\n",
            "dtype: float64\n"
          ]
        }
      ]
    },
    {
      "cell_type": "code",
      "source": [
        ""
      ],
      "metadata": {
        "id": "EofX_URETxS_"
      },
      "execution_count": null,
      "outputs": []
    }
  ]
}