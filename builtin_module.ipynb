{
  "nbformat": 4,
  "nbformat_minor": 0,
  "metadata": {
    "colab": {
      "name": "builtin_module.ipynb",
      "provenance": [],
      "collapsed_sections": [],
      "authorship_tag": "ABX9TyOiGsMvXtBd/IoXZcpP3+/s",
      "include_colab_link": true
    },
    "kernelspec": {
      "name": "python3",
      "display_name": "Python 3"
    },
    "language_info": {
      "name": "python"
    }
  },
  "cells": [
    {
      "cell_type": "markdown",
      "metadata": {
        "id": "view-in-github",
        "colab_type": "text"
      },
      "source": [
        "<a href=\"https://colab.research.google.com/github/SUDHANSHU4497/practice/blob/main/builtin_module.ipynb\" target=\"_parent\"><img src=\"https://colab.research.google.com/assets/colab-badge.svg\" alt=\"Open In Colab\"/></a>"
      ]
    },
    {
      "cell_type": "code",
      "execution_count": null,
      "metadata": {
        "id": "H5ShmxdUmapo"
      },
      "outputs": [],
      "source": [
        ""
      ]
    },
    {
      "cell_type": "markdown",
      "source": [
        "**What are modules?**\n",
        "\n",
        "Consider a module to be the same as a code library.\n",
        "A file containing a set of functions you want to include in your application.\n",
        "Examples of python modules\n",
        "\n",
        "* Math\n",
        "* Random\n",
        "* os\n",
        "* time"
      ],
      "metadata": {
        "id": "rHci0Il5mgJP"
      }
    },
    {
      "cell_type": "code",
      "source": [
        "help('modules')"
      ],
      "metadata": {
        "colab": {
          "base_uri": "https://localhost:8080/",
          "height": 1000
        },
        "id": "Bn0ZkGIEm03r",
        "outputId": "a243e815-d611-4c30-d5e2-213ee782562a"
      },
      "execution_count": 1,
      "outputs": [
        {
          "output_type": "stream",
          "name": "stdout",
          "text": [
            "\n",
            "Please wait a moment while I gather a list of all available modules...\n",
            "\n"
          ]
        },
        {
          "output_type": "stream",
          "name": "stderr",
          "text": [
            "/usr/local/lib/python3.7/dist-packages/IPython/kernel/__init__.py:13: ShimWarning: The `IPython.kernel` package has been deprecated since IPython 4.0.You should import from ipykernel or jupyter_client instead.\n",
            "  \"You should import from ipykernel or jupyter_client instead.\", ShimWarning)\n",
            "WARNING: AstropyDeprecationWarning: The private astropy._erfa module has been made into its own package, pyerfa, which is a dependency of astropy and can be imported directly using \"import erfa\" [astropy._erfa]\n",
            "/usr/local/lib/python3.7/dist-packages/datascience/tables.py:17: MatplotlibDeprecationWarning:\n",
            "\n",
            "The 'warn' parameter of use() is deprecated since Matplotlib 3.1 and will be removed in 3.3.  If any parameter follows 'warn', they should be pass as keyword, not positionally.\n",
            "\n",
            "/usr/local/lib/python3.7/dist-packages/datascience/util.py:10: MatplotlibDeprecationWarning:\n",
            "\n",
            "The 'warn' parameter of use() is deprecated since Matplotlib 3.1 and will be removed in 3.3.  If any parameter follows 'warn', they should be pass as keyword, not positionally.\n",
            "\n"
          ]
        },
        {
          "output_type": "stream",
          "name": "stdout",
          "text": [
            "Downloading http://dlib.net/files/shape_predictor_68_face_landmarks.dat.bz2 to /root/mlxtend_data/shape_predictor_68_face_landmarks.dat.bz2\n"
          ]
        },
        {
          "output_type": "stream",
          "name": "stderr",
          "text": [
            "/usr/lib/python3.7/pkgutil.py:92: UserWarning:\n",
            "\n",
            "The DICOM readers are highly experimental, unstable, and only work for Siemens time-series at the moment\n",
            "Please use with caution.  We would be grateful for your help in improving them\n",
            "\n",
            "/usr/local/lib/python3.7/dist-packages/nltk/twitter/__init__.py:20: UserWarning:\n",
            "\n",
            "The twython library has not been installed. Some functionality from the twitter package will not be available.\n",
            "\n",
            "/usr/local/lib/python3.7/dist-packages/psycopg2/__init__.py:144: UserWarning:\n",
            "\n",
            "The psycopg2 wheel package will be renamed from release 2.8; in order to keep installing from binary please use \"pip install psycopg2-binary\" instead. For details see: <http://initd.org/psycopg/docs/install.html#binary-install-from-pypi>.\n",
            "\n",
            "WARNING:pystan:This submodule contains experimental code, please use with caution\n"
          ]
        },
        {
          "output_type": "stream",
          "name": "stdout",
          "text": [
            "No CUDA runtime is found, using CUDA_HOME='/usr/local/cuda'\n",
            "Cython              colorlover          keras_preprocessing regex\n",
            "IPython             colorsys            keyword             reprlib\n",
            "OpenGL              community           kiwisolver          requests\n",
            "PIL                 compileall          korean_lunar_calendar requests_oauthlib\n",
            "ScreenResolution    concurrent          lib2to3             resampy\n",
            "__future__          configparser        libfuturize         resource\n",
            "_abc                contextlib          libpasteurize       rlcompleter\n",
            "_argon2_cffi_bindings contextlib2         librosa             rmagic\n",
            "_ast                contextvars         lightgbm            rpy2\n",
            "_asyncio            convertdate         linecache           rsa\n",
            "_bisect             copy                llvmlite            runpy\n",
            "_blake2             copyreg             lmdb                samples\n",
            "_bootlocale         coverage            locale              sched\n",
            "_bz2                coveralls           logging             scipy\n",
            "_cffi_backend       crcmod              lsb_release         scs\n",
            "_codecs             crypt               lunarcalendar       seaborn\n",
            "_codecs_cn          csv                 lxml                secrets\n",
            "_codecs_hk          ctypes              lzma                select\n",
            "_codecs_iso2022     cufflinks           macpath             selectors\n",
            "_codecs_jp          curses              mailbox             semver\n",
            "_codecs_kr          cv2                 mailcap             send2trash\n",
            "_codecs_tw          cvxopt              markdown            setuptools\n",
            "_collections        cvxpy               markupsafe          setuptools_git\n",
            "_collections_abc    cycler              marshal             shapely\n",
            "_compat_pickle      cymem               math                shelve\n",
            "_compression        cython              matplotlib          shlex\n",
            "_contextvars        cythonmagic         matplotlib_inline   shutil\n",
            "_crypt              daft                matplotlib_venn     signal\n",
            "_csv                dask                mimetypes           simplegeneric\n",
            "_ctypes             dataclasses         missingno           site\n",
            "_ctypes_test        datascience         mistune             sitecustomize\n",
            "_curses             datetime            mizani              six\n",
            "_curses_panel       dateutil            mlxtend             skimage\n",
            "_cvxcore            dbm                 mmap                sklearn\n",
            "_datetime           dbus                modulefinder        sklearn_pandas\n",
            "_dbm                debugpy             more_itertools      slugify\n",
            "_decimal            decimal             moviepy             smart_open\n",
            "_distutils_hack     decorator           mpmath              smtpd\n",
            "_dummy_thread       defusedxml          msgpack             smtplib\n",
            "_ecos               descartes           multiprocess        sndhdr\n",
            "_elementtree        difflib             multiprocessing     snowballstemmer\n",
            "_functools          dill                multitasking        socket\n",
            "_hashlib            dis                 murmurhash          socketserver\n",
            "_heapq              distributed         music21             socks\n",
            "_imp                distutils           natsort             sockshandler\n",
            "_io                 dlib                nbclient            softwareproperties\n",
            "_json               docopt              nbconvert           sortedcontainers\n",
            "_locale             docs                nbformat            soundfile\n",
            "_lsprof             doctest             nest_asyncio        soupsieve\n",
            "_lzma               docutils            netCDF4             spacy\n",
            "_markupbase         dopamine            netrc               sphinx\n",
            "_md5                dot_parser          networkx            spwd\n",
            "_multibytecodec     dummy_threading     nibabel             sql\n",
            "_multiprocess       easydict            nis                 sqlalchemy\n",
            "_multiprocessing    ecos                nisext              sqlite3\n",
            "_opcode             editdistance        nltk                sqlparse\n",
            "_operator           ee                  nntplib             sre_compile\n",
            "_osx_support        email               notebook            sre_constants\n",
            "_pickle             en_core_web_sm      ntpath              sre_parse\n",
            "_plotly_future_     encodings           nturl2path          srsly\n",
            "_plotly_utils       entrypoints         numba               ssl\n",
            "_posixsubprocess    enum                numbergen           stat\n",
            "_py_abc             ephem               numbers             statistics\n",
            "_pydecimal          erfa                numexpr             statsmodels\n",
            "_pyio               errno               numpy               storemagic\n",
            "_pyrsistent_version et_xmlfile          nvidia_smi          string\n",
            "_pytest             examples            oauth2client        stringprep\n",
            "_queue              fa2                 oauthlib            struct\n",
            "_random             fastai              ogr                 subprocess\n",
            "_rinterface_cffi_abi fastdtw             okgrade             sunau\n",
            "_rinterface_cffi_api fastprogress        opcode              symbol\n",
            "_scs_direct         fastrlock           openpyxl            sympy\n",
            "_scs_indirect       faulthandler        operator            sympyprinting\n",
            "_sha1               fbprophet           opt_einsum          symtable\n",
            "_sha256             fcntl               optparse            sys\n",
            "_sha3               feather             os                  sysconfig\n",
            "_sha512             filecmp             osgeo               syslog\n",
            "_signal             fileinput           osqp                tables\n",
            "_sitebuiltins       filelock            osqppurepy          tabnanny\n",
            "_socket             firebase_admin      osr                 tabulate\n",
            "_soundfile          fix_yahoo_finance   ossaudiodev         tarfile\n",
            "_sqlite3            flask               packaging           tblib\n",
            "_sre                flatbuffers         palettable          telnetlib\n",
            "_ssl                fnmatch             pandas              tempfile\n",
            "_stat               folium              pandas_datareader   tenacity\n",
            "_string             formatter           pandas_gbq          tensorboard\n",
            "_strptime           fractions           pandas_profiling    tensorboard_data_server\n",
            "_struct             ftplib              pandocfilters       tensorboard_plugin_wit\n",
            "_symtable           functools           panel               tensorflow\n",
            "_sysconfigdata_m_linux_x86_64-linux-gnu future              param               tensorflow_datasets\n",
            "_testbuffer         gast                parser              tensorflow_estimator\n",
            "_testcapi           gc                  parso               tensorflow_gcs_config\n",
            "_testimportmultiple gdal                past                tensorflow_hub\n",
            "_testmultiphase     gdalconst           pasta               tensorflow_io_gcs_filesystem\n",
            "_thread             gdalnumeric         pathlib             tensorflow_metadata\n",
            "_threading_local    gdown               patsy               tensorflow_probability\n",
            "_tkinter            genericpath         pdb                 termcolor\n",
            "_tracemalloc        gensim              pep517              terminado\n",
            "_warnings           geographiclib       pexpect             termios\n",
            "_weakref            geopy               pickle              test\n",
            "_weakrefset         getopt              pickleshare         testpath\n",
            "_xxtestfuzz         getpass             pickletools         tests\n",
            "abc                 gettext             pip                 text_unidecode\n",
            "absl                gi                  pipes               textblob\n",
            "aifc                gin                 piptools            textwrap\n",
            "alabaster           glob                pkg_resources       theano\n",
            "albumentations      glob2               pkgutil             thinc\n",
            "altair              gnm                 plac                this\n",
            "antigravity         google_auth_httplib2 plac_core           threading\n",
            "apiclient           google_auth_oauthlib plac_ext            threadpoolctl\n",
            "appdirs             google_drive_downloader plac_tk             tifffile\n",
            "apt                 googleapiclient     platform            time\n",
            "apt_inst            googlesearch        plistlib            timeit\n",
            "apt_pkg             graphviz            plotly              tkinter\n",
            "aptsources          greenlet            plotlywidget        tlz\n",
            "argon2              gridfs              plotnine            token\n",
            "argparse            grp                 pluggy              tokenize\n",
            "array               grpc                pooch               tomli\n",
            "arviz               gspread             poplib              toolz\n",
            "ast                 gspread_dataframe   portpicker          torch\n",
            "astor               gym                 posix               torchaudio\n",
            "astropy             gzip                posixpath           torchsummary\n",
            "astunparse          h5py                pprint              torchtext\n",
            "asynchat            hashlib             prefetch_generator  torchvision\n",
            "asyncio             heapdict            preshed             tornado\n",
            "asyncore            heapq               prettytable         tqdm\n",
            "atari_py            hijri_converter     profile             trace\n",
            "atexit              hmac                progressbar         traceback\n",
            "atomicwrites        holidays            prometheus_client   tracemalloc\n",
            "attr                holoviews           promise             traitlets\n",
            "attrs               html                prompt_toolkit      tree\n",
            "audioop             html5lib            pstats              tty\n",
            "audioread           http                psutil              turtle\n",
            "autograd            httpimport          psycopg2            tweepy\n",
            "autoreload          httplib2            pty                 typeguard\n",
            "babel               httplib2shim        ptyprocess          types\n",
            "backcall            humanize            pvectorc            typing\n",
            "base64              hyperopt            pwd                 typing_extensions\n",
            "bdb                 ideep4py            py                  tzlocal\n",
            "bin                 idna                py_compile          unicodedata\n",
            "binascii            imageio             pyarrow             unittest\n",
            "binhex              imagesize           pyasn1              uritemplate\n",
            "bisect              imaplib             pyasn1_modules      urllib\n",
            "bleach              imblearn            pyclbr              urllib3\n",
            "blis                imgaug              pycocotools         uu\n",
            "bokeh               imghdr              pycparser           uuid\n",
            "boost               imp                 pyct                vega_datasets\n",
            "bottleneck          importlib           pydata_google_auth  venv\n",
            "branca              importlib_metadata  pydoc               vis\n",
            "bs4                 importlib_resources pydoc_data          warnings\n",
            "bson                imutils             pydot               wasabi\n",
            "builtins            inflect             pydot_ng            wave\n",
            "bz2                 iniconfig           pydotplus           wcwidth\n",
            "cProfile            inspect             pydrive             weakref\n",
            "cachecontrol        intervaltree        pyemd               webbrowser\n",
            "cached_property     io                  pyexpat             webencodings\n",
            "cachetools          ipaddress           pyglet              werkzeug\n",
            "caffe2              ipykernel           pygments            wheel\n",
            "calendar            ipykernel_launcher  pygtkcompat         widgetsnbextension\n",
            "catalogue           ipython_genutils    pylab               wordcloud\n",
            "certifi             ipywidgets          pymc3               wrapt\n",
            "cffi                isympy              pymeeus             wsgiref\n",
            "cftime              itertools           pymongo             xarray\n",
            "cgi                 itsdangerous        pymystem3           xdrlib\n",
            "cgitb               jax                 pynvml              xgboost\n",
            "chardet             jaxlib              pyparsing           xkit\n",
            "charset_normalizer  jedi                pyrsistent          xlrd\n",
            "chess               jieba               pysndfile           xlwt\n",
            "chunk               jinja2              pystan              xml\n",
            "clang               joblib              pytest              xmlrpc\n",
            "click               jpeg4py             python_utils        xxlimited\n",
            "client              json                pytz                xxsubtype\n",
            "cloudpickle         jsonschema          pyviz_comms         yaml\n",
            "cmake               jupyter             pywt                yellowbrick\n",
            "cmath               jupyter_client      pyximport           zict\n",
            "cmd                 jupyter_console     qdldl               zipapp\n",
            "cmdstanpy           jupyter_core        qtconsole           zipfile\n",
            "code                jupyterlab_plotly   qtpy                zipimport\n",
            "codecs              jupyterlab_pygments queue               zipp\n",
            "codeop              jupyterlab_widgets  quopri              zlib\n",
            "colab               kaggle              random              zmq\n",
            "collections         kapre               re                  \n",
            "colorcet            keras               readline            \n",
            "\n",
            "Enter any module name to get more help.  Or, type \"modules spam\" to search\n",
            "for modules whose name or summary contain the string \"spam\".\n",
            "\n"
          ]
        }
      ]
    },
    {
      "cell_type": "code",
      "source": [
        "# include <stdio.h>\n",
        "import math"
      ],
      "metadata": {
        "id": "04nThOtFm42x"
      },
      "execution_count": 2,
      "outputs": []
    },
    {
      "cell_type": "code",
      "source": [
        "math.pi"
      ],
      "metadata": {
        "colab": {
          "base_uri": "https://localhost:8080/"
        },
        "id": "XvDx-Rwom6vC",
        "outputId": "b083d705-3f62-4fc5-e725-966f6fe055c0"
      },
      "execution_count": 3,
      "outputs": [
        {
          "output_type": "execute_result",
          "data": {
            "text/plain": [
              "3.141592653589793"
            ]
          },
          "metadata": {},
          "execution_count": 3
        }
      ]
    },
    {
      "cell_type": "code",
      "source": [
        "math.e"
      ],
      "metadata": {
        "colab": {
          "base_uri": "https://localhost:8080/"
        },
        "id": "p_0wf1YOm9Sq",
        "outputId": "8ab76b66-b3d7-42e8-a927-55b61afb596c"
      },
      "execution_count": 4,
      "outputs": [
        {
          "output_type": "execute_result",
          "data": {
            "text/plain": [
              "2.718281828459045"
            ]
          },
          "metadata": {},
          "execution_count": 4
        }
      ]
    },
    {
      "cell_type": "code",
      "source": [
        "math.factorial(5)"
      ],
      "metadata": {
        "colab": {
          "base_uri": "https://localhost:8080/"
        },
        "id": "6tW9hc5Fm_dL",
        "outputId": "7e075826-6e41-4349-ef00-215cbb719c24"
      },
      "execution_count": 5,
      "outputs": [
        {
          "output_type": "execute_result",
          "data": {
            "text/plain": [
              "120"
            ]
          },
          "metadata": {},
          "execution_count": 5
        }
      ]
    },
    {
      "cell_type": "code",
      "source": [
        "math.ceil(6.3)"
      ],
      "metadata": {
        "colab": {
          "base_uri": "https://localhost:8080/"
        },
        "id": "mGhoTWHRnBEZ",
        "outputId": "fa435f1e-91d5-44f6-bcde-d11ba11a606d"
      },
      "execution_count": 6,
      "outputs": [
        {
          "output_type": "execute_result",
          "data": {
            "text/plain": [
              "7"
            ]
          },
          "metadata": {},
          "execution_count": 6
        }
      ]
    },
    {
      "cell_type": "code",
      "source": [
        "math.floor(6.9)"
      ],
      "metadata": {
        "colab": {
          "base_uri": "https://localhost:8080/"
        },
        "id": "e_X-zZZUnCia",
        "outputId": "70ab0cc8-d3d5-433b-dd44-2a4bb0d22924"
      },
      "execution_count": 7,
      "outputs": [
        {
          "output_type": "execute_result",
          "data": {
            "text/plain": [
              "6"
            ]
          },
          "metadata": {},
          "execution_count": 7
        }
      ]
    },
    {
      "cell_type": "code",
      "source": [
        "math.sqrt(100)"
      ],
      "metadata": {
        "colab": {
          "base_uri": "https://localhost:8080/"
        },
        "id": "nVo4SxHpnEzC",
        "outputId": "44387a52-abf4-4880-efd3-d62d0ae777f3"
      },
      "execution_count": 8,
      "outputs": [
        {
          "output_type": "execute_result",
          "data": {
            "text/plain": [
              "10.0"
            ]
          },
          "metadata": {},
          "execution_count": 8
        }
      ]
    },
    {
      "cell_type": "code",
      "source": [
        "import random"
      ],
      "metadata": {
        "id": "nOXFYAePnGlU"
      },
      "execution_count": 9,
      "outputs": []
    },
    {
      "cell_type": "code",
      "source": [
        "random.randint(1,100)"
      ],
      "metadata": {
        "colab": {
          "base_uri": "https://localhost:8080/"
        },
        "id": "4-T4_jPtnISB",
        "outputId": "6625ecee-b0f6-45ea-8fef-bae6498b2033"
      },
      "execution_count": 10,
      "outputs": [
        {
          "output_type": "execute_result",
          "data": {
            "text/plain": [
              "30"
            ]
          },
          "metadata": {},
          "execution_count": 10
        }
      ]
    },
    {
      "cell_type": "code",
      "source": [
        "a = [1,2,3,4,5]\n",
        "random.shuffle(a)\n",
        "a"
      ],
      "metadata": {
        "colab": {
          "base_uri": "https://localhost:8080/"
        },
        "id": "0Kp3B_NsnKCR",
        "outputId": "d5aa7e23-a324-4159-e01c-c69b2bc26951"
      },
      "execution_count": 11,
      "outputs": [
        {
          "output_type": "execute_result",
          "data": {
            "text/plain": [
              "[4, 5, 2, 1, 3]"
            ]
          },
          "metadata": {},
          "execution_count": 11
        }
      ]
    },
    {
      "cell_type": "code",
      "source": [
        "import time"
      ],
      "metadata": {
        "id": "orfkyJjWnLsK"
      },
      "execution_count": 12,
      "outputs": []
    },
    {
      "cell_type": "code",
      "source": [
        "time.time()  # shows seconds from 01/01/1970"
      ],
      "metadata": {
        "colab": {
          "base_uri": "https://localhost:8080/"
        },
        "id": "rHdGKcEqnNOZ",
        "outputId": "063f2433-a252-49ab-8668-d29b9594f2a8"
      },
      "execution_count": 13,
      "outputs": [
        {
          "output_type": "execute_result",
          "data": {
            "text/plain": [
              "1649479045.7471445"
            ]
          },
          "metadata": {},
          "execution_count": 13
        }
      ]
    },
    {
      "cell_type": "code",
      "source": [
        "time.ctime()"
      ],
      "metadata": {
        "colab": {
          "base_uri": "https://localhost:8080/",
          "height": 35
        },
        "id": "XqLOJlBQnPxg",
        "outputId": "800d505e-6c68-4810-d12c-07979c957f37"
      },
      "execution_count": 14,
      "outputs": [
        {
          "output_type": "execute_result",
          "data": {
            "text/plain": [
              "'Sat Apr  9 04:37:25 2022'"
            ],
            "application/vnd.google.colaboratory.intrinsic+json": {
              "type": "string"
            }
          },
          "metadata": {},
          "execution_count": 14
        }
      ]
    },
    {
      "cell_type": "code",
      "source": [
        "print(\"Hello\")\n",
        "time.sleep(1)  # sows ouput with delay\n",
        "print(\"World\")"
      ],
      "metadata": {
        "colab": {
          "base_uri": "https://localhost:8080/"
        },
        "id": "OkQgVjXBnR8p",
        "outputId": "2be3fa56-2638-4fb3-db27-6385f6822eb3"
      },
      "execution_count": 15,
      "outputs": [
        {
          "output_type": "stream",
          "name": "stdout",
          "text": [
            "Hello\n",
            "World\n"
          ]
        }
      ]
    },
    {
      "cell_type": "code",
      "source": [
        "import os"
      ],
      "metadata": {
        "id": "trk7dHJEnTw4"
      },
      "execution_count": 16,
      "outputs": []
    },
    {
      "cell_type": "code",
      "source": [
        "os.getcwd()"
      ],
      "metadata": {
        "colab": {
          "base_uri": "https://localhost:8080/",
          "height": 35
        },
        "id": "PskPXQ-6nVXc",
        "outputId": "e848e060-44aa-4cce-da80-561febc566ff"
      },
      "execution_count": 17,
      "outputs": [
        {
          "output_type": "execute_result",
          "data": {
            "text/plain": [
              "'/content'"
            ],
            "application/vnd.google.colaboratory.intrinsic+json": {
              "type": "string"
            }
          },
          "metadata": {},
          "execution_count": 17
        }
      ]
    },
    {
      "cell_type": "code",
      "source": [
        "os.listdir()"
      ],
      "metadata": {
        "colab": {
          "base_uri": "https://localhost:8080/"
        },
        "id": "fqcfRSKQnXUv",
        "outputId": "3059ea21-2403-458d-d8a0-cde567bb2529"
      },
      "execution_count": 18,
      "outputs": [
        {
          "output_type": "execute_result",
          "data": {
            "text/plain": [
              "['.config', 'sample_data']"
            ]
          },
          "metadata": {},
          "execution_count": 18
        }
      ]
    },
    {
      "cell_type": "code",
      "source": [
        "math.pi"
      ],
      "metadata": {
        "id": "qgvAiEAOt1f1"
      },
      "execution_count": null,
      "outputs": []
    }
  ]
}