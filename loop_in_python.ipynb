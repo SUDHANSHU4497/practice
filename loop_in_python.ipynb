{
  "nbformat": 4,
  "nbformat_minor": 0,
  "metadata": {
    "colab": {
      "name": "loop in python.ipynb",
      "provenance": [],
      "authorship_tag": "ABX9TyO2IpyjxkYgYq/UgBdHJTdQ",
      "include_colab_link": true
    },
    "kernelspec": {
      "name": "python3",
      "display_name": "Python 3"
    },
    "language_info": {
      "name": "python"
    }
  },
  "cells": [
    {
      "cell_type": "markdown",
      "metadata": {
        "id": "view-in-github",
        "colab_type": "text"
      },
      "source": [
        "<a href=\"https://colab.research.google.com/github/SUDHANSHU4497/practice/blob/main/loop_in_python.ipynb\" target=\"_parent\"><img src=\"https://colab.research.google.com/assets/colab-badge.svg\" alt=\"Open In Colab\"/></a>"
      ]
    },
    {
      "cell_type": "code",
      "execution_count": 4,
      "metadata": {
        "colab": {
          "base_uri": "https://localhost:8080/"
        },
        "id": "TmaP5hT-_yhO",
        "outputId": "1c9cae93-a378-4cb6-9d02-f842cd038a1e"
      },
      "outputs": [
        {
          "output_type": "stream",
          "name": "stdout",
          "text": [
            "The count is: 0\n",
            "The count is: 1\n",
            "The count is: 2\n",
            "The count is: 3\n",
            "The count is: 4\n",
            "The count is: 5\n",
            "The count is: 6\n",
            "The count is: 7\n",
            "The count is: 8\n",
            "Good bye!\n"
          ]
        }
      ],
      "source": [
        "count = 0 \n",
        "while (count < 9): \n",
        "   print ('The count is:', count) \n",
        "   count = count + 1 \n",
        " \n",
        "print (\"Good bye!\") "
      ]
    },
    {
      "cell_type": "code",
      "source": [
        "count = 20\n",
        "while (count > 0): \n",
        "   print ('The count is:', count) \n",
        "   count = count - 1 \n",
        " \n",
        "print (\"Good bye!\") "
      ],
      "metadata": {
        "colab": {
          "base_uri": "https://localhost:8080/"
        },
        "id": "1T0THP3OAQxV",
        "outputId": "8204110b-9bfe-4dc3-c7a3-f43e8b38b7cb"
      },
      "execution_count": 5,
      "outputs": [
        {
          "output_type": "stream",
          "name": "stdout",
          "text": [
            "The count is: 20\n",
            "The count is: 19\n",
            "The count is: 18\n",
            "The count is: 17\n",
            "The count is: 16\n",
            "The count is: 15\n",
            "The count is: 14\n",
            "The count is: 13\n",
            "The count is: 12\n",
            "The count is: 11\n",
            "The count is: 10\n",
            "The count is: 9\n",
            "The count is: 8\n",
            "The count is: 7\n",
            "The count is: 6\n",
            "The count is: 5\n",
            "The count is: 4\n",
            "The count is: 3\n",
            "The count is: 2\n",
            "The count is: 1\n",
            "Good bye!\n"
          ]
        }
      ]
    },
    {
      "cell_type": "code",
      "source": [
        "count = 0 \n",
        "while count < 5: \n",
        "   print (count, \" is  less than 5\") \n",
        "   count = count + 1 \n",
        "else: \n",
        "   print (count, \" is not less than 5\") "
      ],
      "metadata": {
        "colab": {
          "base_uri": "https://localhost:8080/"
        },
        "id": "JffsarAW_5Va",
        "outputId": "bfe6ca81-ffa3-4b5a-eef6-fb600c86ef2d"
      },
      "execution_count": 6,
      "outputs": [
        {
          "output_type": "stream",
          "name": "stdout",
          "text": [
            "0  is  less than 5\n",
            "1  is  less than 5\n",
            "2  is  less than 5\n",
            "3  is  less than 5\n",
            "4  is  less than 5\n",
            "5  is not less than 5\n"
          ]
        }
      ]
    },
    {
      "cell_type": "code",
      "source": [
        "for letter in 'Python':     # traversal of a string sequence \n",
        "   print ('Current Letter :', letter) \n",
        "print() \n",
        "fruits = ['banana', 'apple',  'mango'] \n",
        "for fruit in fruits:        # traversal of List sequence \n",
        "   print ('Current fruit :', fruit) \n",
        " \n",
        "print (\"Good bye!\") "
      ],
      "metadata": {
        "colab": {
          "base_uri": "https://localhost:8080/"
        },
        "id": "PA9XrHFfBX0H",
        "outputId": "0815421d-3225-408c-dd9d-9175429d062e"
      },
      "execution_count": 8,
      "outputs": [
        {
          "output_type": "stream",
          "name": "stdout",
          "text": [
            "Current Letter : P\n",
            "Current Letter : y\n",
            "Current Letter : t\n",
            "Current Letter : h\n",
            "Current Letter : o\n",
            "Current Letter : n\n",
            "\n",
            "Current fruit : banana\n",
            "Current fruit : apple\n",
            "Current fruit : mango\n",
            "Good bye!\n"
          ]
        }
      ]
    },
    {
      "cell_type": "code",
      "source": [
        "fruits = ['banana', 'apple',  'mango'] \n",
        "for index in range(len(fruits)): \n",
        "   print ('Current fruit :', fruits[index]) \n",
        "print (\"Good bye!\") "
      ],
      "metadata": {
        "colab": {
          "base_uri": "https://localhost:8080/"
        },
        "id": "Th5mHjyeBaS4",
        "outputId": "85aa6c4e-9252-43d7-bc85-f733ed3c73ac"
      },
      "execution_count": 9,
      "outputs": [
        {
          "output_type": "stream",
          "name": "stdout",
          "text": [
            "Current fruit : banana\n",
            "Current fruit : apple\n",
            "Current fruit : mango\n",
            "Good bye!\n"
          ]
        }
      ]
    },
    {
      "cell_type": "code",
      "source": [
        "numbers=[11,33,55,39,55,75,37,21,23,41,13] \n",
        "for num in numbers: \n",
        "    if num%2==0: \n",
        "        print ('the list contains an even number') \n",
        "        break \n",
        "else: \n",
        "    print ('the list doesnot contain even number') "
      ],
      "metadata": {
        "colab": {
          "base_uri": "https://localhost:8080/"
        },
        "id": "BPljBVrxBkrs",
        "outputId": "edc136c2-8521-452c-8681-d2b7cdbb046c"
      },
      "execution_count": 10,
      "outputs": [
        {
          "output_type": "stream",
          "name": "stdout",
          "text": [
            "the list doesnot contain even number\n"
          ]
        }
      ]
    },
    {
      "cell_type": "code",
      "source": [
        "for i in range(1,21):\n",
        "  for j in range(1,11):\n",
        "    k=i*j\n",
        "    print(k,end=\" \")\n",
        "  print()"
      ],
      "metadata": {
        "colab": {
          "base_uri": "https://localhost:8080/"
        },
        "id": "avB2OYIaB_1c",
        "outputId": "c7cdd1a9-0d32-41f5-ef82-bf417f6e0c64"
      },
      "execution_count": 16,
      "outputs": [
        {
          "output_type": "stream",
          "name": "stdout",
          "text": [
            "1 2 3 4 5 6 7 8 9 10 \n",
            "2 4 6 8 10 12 14 16 18 20 \n",
            "3 6 9 12 15 18 21 24 27 30 \n",
            "4 8 12 16 20 24 28 32 36 40 \n",
            "5 10 15 20 25 30 35 40 45 50 \n",
            "6 12 18 24 30 36 42 48 54 60 \n",
            "7 14 21 28 35 42 49 56 63 70 \n",
            "8 16 24 32 40 48 56 64 72 80 \n",
            "9 18 27 36 45 54 63 72 81 90 \n",
            "10 20 30 40 50 60 70 80 90 100 \n",
            "11 22 33 44 55 66 77 88 99 110 \n",
            "12 24 36 48 60 72 84 96 108 120 \n",
            "13 26 39 52 65 78 91 104 117 130 \n",
            "14 28 42 56 70 84 98 112 126 140 \n",
            "15 30 45 60 75 90 105 120 135 150 \n",
            "16 32 48 64 80 96 112 128 144 160 \n",
            "17 34 51 68 85 102 119 136 153 170 \n",
            "18 36 54 72 90 108 126 144 162 180 \n",
            "19 38 57 76 95 114 133 152 171 190 \n",
            "20 40 60 80 100 120 140 160 180 200 \n"
          ]
        }
      ]
    },
    {
      "cell_type": "code",
      "source": [
        "for letter in 'Python':     # First Example \n",
        "   if letter == 'h': \n",
        "      break \n",
        "   print ('Current Letter :', letter) \n",
        "   \n",
        "var = 10                    # Second Example \n",
        "while var > 0:               \n",
        "   print ('Current variable value :', var) \n",
        "   var = var -1 \n",
        "   if var == 5: \n",
        "      break \n",
        " \n",
        "print (\"Good bye!\") "
      ],
      "metadata": {
        "colab": {
          "base_uri": "https://localhost:8080/"
        },
        "id": "evQpD3wnCaae",
        "outputId": "1d05897a-7748-4456-9239-f43be37ccc92"
      },
      "execution_count": 18,
      "outputs": [
        {
          "output_type": "stream",
          "name": "stdout",
          "text": [
            "Current Letter : P\n",
            "Current Letter : y\n",
            "Current Letter : t\n",
            "Current variable value : 10\n",
            "Current variable value : 9\n",
            "Current variable value : 8\n",
            "Current variable value : 7\n",
            "Current variable value : 6\n",
            "Good bye!\n"
          ]
        }
      ]
    },
    {
      "cell_type": "code",
      "source": [
        " \n",
        "for letter in 'Python':     # First Example \n",
        "   if letter == 'h': \n",
        "      # continue \n",
        "      # break\n",
        "      pass\n",
        "   print ('Current Letter :', letter) \n",
        " \n",
        "var = 10                    # Second Example \n",
        "while var > 0:               \n",
        "   var = var -1 \n",
        "   if var == 5: \n",
        "      continue \n",
        "   print ('Current variable value :', var) \n",
        "print (\"Good bye!\") "
      ],
      "metadata": {
        "colab": {
          "base_uri": "https://localhost:8080/"
        },
        "id": "89PanIQcDxZ3",
        "outputId": "da9874dc-d7a3-4867-f34c-9b5786b871e7"
      },
      "execution_count": 21,
      "outputs": [
        {
          "output_type": "stream",
          "name": "stdout",
          "text": [
            "Current Letter : P\n",
            "Current Letter : y\n",
            "Current Letter : t\n",
            "Current Letter : h\n",
            "Current Letter : o\n",
            "Current Letter : n\n",
            "Current variable value : 9\n",
            "Current variable value : 8\n",
            "Current variable value : 7\n",
            "Current variable value : 6\n",
            "Current variable value : 4\n",
            "Current variable value : 3\n",
            "Current variable value : 2\n",
            "Current variable value : 1\n",
            "Current variable value : 0\n",
            "Good bye!\n"
          ]
        }
      ]
    },
    {
      "cell_type": "code",
      "source": [
        "x=1\n",
        "print (\"number\"+'\\t'+ \"square\")\n",
        "while x <=10:\n",
        "  print(str(x)+\"\\t\"+str (x**2))\n",
        "  x=x+1"
      ],
      "metadata": {
        "colab": {
          "base_uri": "https://localhost:8080/"
        },
        "id": "S6lh-v5SeFIj",
        "outputId": "09e0f945-80b9-4861-b6b6-a37abb111e2e"
      },
      "execution_count": 28,
      "outputs": [
        {
          "output_type": "stream",
          "name": "stdout",
          "text": [
            "number\tsquare\n",
            "1\t1\n",
            "2\t4\n",
            "3\t9\n",
            "4\t16\n",
            "5\t25\n",
            "6\t36\n",
            "7\t49\n",
            "8\t64\n",
            "9\t81\n",
            "10\t100\n"
          ]
        }
      ]
    },
    {
      "cell_type": "code",
      "source": [
        "s1='112233445566'\n",
        "while s1:\n",
        "  print(s1)\n",
        "  s1=s1[2:]"
      ],
      "metadata": {
        "colab": {
          "base_uri": "https://localhost:8080/"
        },
        "id": "s1q1T5bgf7HB",
        "outputId": "3893fb52-d335-450c-8867-f04b7188b92c"
      },
      "execution_count": 29,
      "outputs": [
        {
          "output_type": "stream",
          "name": "stdout",
          "text": [
            "112233445566\n",
            "2233445566\n",
            "33445566\n",
            "445566\n",
            "5566\n",
            "66\n"
          ]
        }
      ]
    },
    {
      "cell_type": "code",
      "source": [
        "str=input('enter a string: \\n')\n",
        "x=0\n",
        "while x< len(str)-1:\n",
        "  if str[x]=='e':\n",
        "    print(str)\n",
        "    break\n",
        "  else:\n",
        "    print(str)\n",
        "  x=x+1"
      ],
      "metadata": {
        "colab": {
          "base_uri": "https://localhost:8080/"
        },
        "id": "lzC_DzQhguq0",
        "outputId": "22763ec5-4f61-4dbe-d760-c1499d016c3b"
      },
      "execution_count": 33,
      "outputs": [
        {
          "output_type": "stream",
          "name": "stdout",
          "text": [
            "enter a string: \n",
            "drty\n",
            "drty\n",
            "drty\n",
            "drty\n"
          ]
        }
      ]
    },
    {
      "cell_type": "code",
      "source": [
        "mystr=input('input a string: \\n')\n",
        "x=-1\n",
        "new_str=''\n",
        "while x< len(str)-1:\n",
        "  x=x+1\n",
        "  if mystr[x] in ['a','e','i','o','u']:\n",
        "    new_str=new_str+'#'\n",
        "    continue\n",
        "  new_str=mystr+mystr[x]\n",
        "print(new_str)\n"
      ],
      "metadata": {
        "colab": {
          "base_uri": "https://localhost:8080/"
        },
        "id": "pLF4oliZj9AV",
        "outputId": "3840d1b7-9929-46c6-8625-6476791bd8e8"
      },
      "execution_count": 45,
      "outputs": [
        {
          "output_type": "stream",
          "name": "stdout",
          "text": [
            "input a string: \n",
            "The quick brown fox jumps over the lazy dog\n",
            "The quick brown fox jumps over the lazy dogq\n"
          ]
        }
      ]
    },
    {
      "cell_type": "code",
      "source": [
        ""
      ],
      "metadata": {
        "id": "5-9IIKAWlNG4"
      },
      "execution_count": null,
      "outputs": []
    }
  ]
}