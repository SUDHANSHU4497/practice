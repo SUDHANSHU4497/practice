{
  "nbformat": 4,
  "nbformat_minor": 0,
  "metadata": {
    "colab": {
      "name": "loop in python.ipynb",
      "provenance": [],
      "authorship_tag": "ABX9TyO9Bh/PpGXH8NYiL75w8Bo1",
      "include_colab_link": true
    },
    "kernelspec": {
      "name": "python3",
      "display_name": "Python 3"
    },
    "language_info": {
      "name": "python"
    }
  },
  "cells": [
    {
      "cell_type": "markdown",
      "metadata": {
        "id": "view-in-github",
        "colab_type": "text"
      },
      "source": [
        "<a href=\"https://colab.research.google.com/github/SUDHANSHU4497/practice/blob/main/loop_in_python.ipynb\" target=\"_parent\"><img src=\"https://colab.research.google.com/assets/colab-badge.svg\" alt=\"Open In Colab\"/></a>"
      ]
    },
    {
      "cell_type": "code",
      "execution_count": 4,
      "metadata": {
        "colab": {
          "base_uri": "https://localhost:8080/"
        },
        "id": "TmaP5hT-_yhO",
        "outputId": "1c9cae93-a378-4cb6-9d02-f842cd038a1e"
      },
      "outputs": [
        {
          "output_type": "stream",
          "name": "stdout",
          "text": [
            "The count is: 0\n",
            "The count is: 1\n",
            "The count is: 2\n",
            "The count is: 3\n",
            "The count is: 4\n",
            "The count is: 5\n",
            "The count is: 6\n",
            "The count is: 7\n",
            "The count is: 8\n",
            "Good bye!\n"
          ]
        }
      ],
      "source": [
        "count = 0 \n",
        "while (count < 9): \n",
        "   print ('The count is:', count) \n",
        "   count = count + 1 \n",
        " \n",
        "print (\"Good bye!\") "
      ]
    },
    {
      "cell_type": "code",
      "source": [
        "count = 20\n",
        "while (count > 0): \n",
        "   print ('The count is:', count) \n",
        "   count = count - 1 \n",
        " \n",
        "print (\"Good bye!\") "
      ],
      "metadata": {
        "colab": {
          "base_uri": "https://localhost:8080/"
        },
        "id": "1T0THP3OAQxV",
        "outputId": "8204110b-9bfe-4dc3-c7a3-f43e8b38b7cb"
      },
      "execution_count": 5,
      "outputs": [
        {
          "output_type": "stream",
          "name": "stdout",
          "text": [
            "The count is: 20\n",
            "The count is: 19\n",
            "The count is: 18\n",
            "The count is: 17\n",
            "The count is: 16\n",
            "The count is: 15\n",
            "The count is: 14\n",
            "The count is: 13\n",
            "The count is: 12\n",
            "The count is: 11\n",
            "The count is: 10\n",
            "The count is: 9\n",
            "The count is: 8\n",
            "The count is: 7\n",
            "The count is: 6\n",
            "The count is: 5\n",
            "The count is: 4\n",
            "The count is: 3\n",
            "The count is: 2\n",
            "The count is: 1\n",
            "Good bye!\n"
          ]
        }
      ]
    },
    {
      "cell_type": "code",
      "source": [
        ""
      ],
      "metadata": {
        "id": "JffsarAW_5Va"
      },
      "execution_count": null,
      "outputs": []
    }
  ]
}