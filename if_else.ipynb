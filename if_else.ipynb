{
  "nbformat": 4,
  "nbformat_minor": 0,
  "metadata": {
    "colab": {
      "name": "if-else.ipynb",
      "provenance": [],
      "collapsed_sections": [],
      "authorship_tag": "ABX9TyMLiJ6U5lm6D95nMoVOtJDe",
      "include_colab_link": true
    },
    "kernelspec": {
      "name": "python3",
      "display_name": "Python 3"
    },
    "language_info": {
      "name": "python"
    }
  },
  "cells": [
    {
      "cell_type": "markdown",
      "metadata": {
        "id": "view-in-github",
        "colab_type": "text"
      },
      "source": [
        "<a href=\"https://colab.research.google.com/github/SUDHANSHU4497/practice/blob/main/if_else.ipynb\" target=\"_parent\"><img src=\"https://colab.research.google.com/assets/colab-badge.svg\" alt=\"Open In Colab\"/></a>"
      ]
    },
    {
      "cell_type": "code",
      "execution_count": 2,
      "metadata": {
        "colab": {
          "base_uri": "https://localhost:8080/"
        },
        "id": "k8-P2a5T3hSD",
        "outputId": "554e1f59-1fd1-4ced-ab89-0e0cb3025a5a"
      },
      "outputs": [
        {
          "output_type": "stream",
          "name": "stdout",
          "text": [
            "enter your emailabc@gmail.com\n",
            "enter your password1234\n",
            "welcome\n"
          ]
        }
      ],
      "source": [
        "email=input(\"enter your email\")\n",
        "password=input(\"enter your password\")\n",
        "if email==\"abc@gmail.com\" and password==\"1234\":\n",
        "    print(\"welcome\")\n",
        "else:\n",
        "    print(\"invalid credencial\")"
      ]
    }
  ]
}