{
  "nbformat": 4,
  "nbformat_minor": 0,
  "metadata": {
    "colab": {
      "name": "5 python.ipynb",
      "provenance": [],
      "authorship_tag": "ABX9TyO/E4ApByjls9QETI4WJKGO",
      "include_colab_link": true
    },
    "kernelspec": {
      "name": "python3",
      "display_name": "Python 3"
    },
    "language_info": {
      "name": "python"
    }
  },
  "cells": [
    {
      "cell_type": "markdown",
      "metadata": {
        "id": "view-in-github",
        "colab_type": "text"
      },
      "source": [
        "<a href=\"https://colab.research.google.com/github/SUDHANSHU4497/practice/blob/main/5_python.ipynb\" target=\"_parent\"><img src=\"https://colab.research.google.com/assets/colab-badge.svg\" alt=\"Open In Colab\"/></a>"
      ]
    },
    {
      "cell_type": "code",
      "execution_count": 1,
      "metadata": {
        "colab": {
          "base_uri": "https://localhost:8080/"
        },
        "id": "zIEE603wHp1O",
        "outputId": "727aee98-911f-4b09-c66b-5dba65f7b8ad"
      },
      "outputs": [
        {
          "output_type": "stream",
          "name": "stdout",
          "text": [
            "100\n",
            "1000.0\n",
            "John\n"
          ]
        }
      ],
      "source": [
        "counter = 100          # An integer assignment \n",
        "miles   = 1000.0       # A floating point \n",
        "name    = \"John\"       # A string \n",
        "print (counter) \n",
        "print (miles) \n",
        "print (name) "
      ]
    },
    {
      "cell_type": "code",
      "source": [
        "str = 'Hello World!' \n",
        "print (str)          # Prints complete string \n",
        "print (str[0])       # Prints first character of the string \n",
        "print (str[2:5])     # Prints characters starting from 3rd to 5th \n",
        "print (str[2:])      # Prints string starting from 3rd character \n",
        "print (str * 2)      # Prints string two times \n",
        "print (str + \"TEST\") # Prints concatenated string "
      ],
      "metadata": {
        "colab": {
          "base_uri": "https://localhost:8080/"
        },
        "id": "jXWy1tF2HwKJ",
        "outputId": "8b71777e-e4f4-463d-9fa1-9130839fc9cf"
      },
      "execution_count": 2,
      "outputs": [
        {
          "output_type": "stream",
          "name": "stdout",
          "text": [
            "Hello World!\n",
            "H\n",
            "llo\n",
            "llo World!\n",
            "Hello World!Hello World!\n",
            "Hello World!TEST\n"
          ]
        }
      ]
    },
    {
      "cell_type": "code",
      "source": [
        "list = [ 'abcd', 786 , 2.23, 'john', 70.2 ] \n",
        "tinylist = [123, 'john'] \n",
        "print (list)          # Prints complete list \n",
        "print (list[0])       # Prints first element of the list \n",
        "print (list[1:3])     # Prints elements starting from 2nd till 3rd  \n",
        "print (list[2:])      # Prints elements starting from 3rd element \n",
        "print (tinylist * 2)  # Prints list two times \n",
        "print (list + tinylist) # Prints concatenated lists "
      ],
      "metadata": {
        "colab": {
          "base_uri": "https://localhost:8080/"
        },
        "id": "R1ekLYtEIDLe",
        "outputId": "e02ad6a3-4c76-4d47-f317-b01e1aa15789"
      },
      "execution_count": 3,
      "outputs": [
        {
          "output_type": "stream",
          "name": "stdout",
          "text": [
            "['abcd', 786, 2.23, 'john', 70.2]\n",
            "abcd\n",
            "[786, 2.23]\n",
            "[2.23, 'john', 70.2]\n",
            "[123, 'john', 123, 'john']\n",
            "['abcd', 786, 2.23, 'john', 70.2, 123, 'john']\n"
          ]
        }
      ]
    },
    {
      "cell_type": "code",
      "source": [
        "tuple = ( 'abcd', 786 , 2.23, 'john', 70.2  ) \n",
        "tinytuple = (123, 'john') \n",
        "print (tuple)           # Prints complete tuple \n",
        "print (tuple[0])        # Prints first element of the tuple \n",
        "print (tuple[1:3])      # Prints elements starting from 2nd till 3rd  \n",
        "print (tuple[2:])       # Prints elements starting from 3rd element \n",
        "print (tinytuple * 2)   # Prints tuple two times \n",
        "print (tuple + tinytuple) # Prints concatenated tuple "
      ],
      "metadata": {
        "colab": {
          "base_uri": "https://localhost:8080/"
        },
        "id": "aKMgxCPZIJmF",
        "outputId": "0aa90944-0db2-4c3d-cef5-79d711c4d269"
      },
      "execution_count": 4,
      "outputs": [
        {
          "output_type": "stream",
          "name": "stdout",
          "text": [
            "('abcd', 786, 2.23, 'john', 70.2)\n",
            "abcd\n",
            "(786, 2.23)\n",
            "(2.23, 'john', 70.2)\n",
            "(123, 'john', 123, 'john')\n",
            "('abcd', 786, 2.23, 'john', 70.2, 123, 'john')\n"
          ]
        }
      ]
    },
    {
      "cell_type": "code",
      "source": [
        "tuple = ( 'abcd', 786 , 2.23, 'john', 70.2  ) \n",
        "list = [ 'abcd', 786 , 2.23, 'john', 70.2  ] \n",
        "tuple[2] = 1000    # Invalid syntax with tuple \n",
        "list[2] = 1000     # Valid syntax with list "
      ],
      "metadata": {
        "colab": {
          "base_uri": "https://localhost:8080/",
          "height": 218
        },
        "id": "KMRjUGYVIPDb",
        "outputId": "355ff907-97f4-4ff3-a521-6bcf92101eec"
      },
      "execution_count": 5,
      "outputs": [
        {
          "output_type": "error",
          "ename": "TypeError",
          "evalue": "ignored",
          "traceback": [
            "\u001b[0;31m---------------------------------------------------------------------------\u001b[0m",
            "\u001b[0;31mTypeError\u001b[0m                                 Traceback (most recent call last)",
            "\u001b[0;32m<ipython-input-5-be8d7133b6de>\u001b[0m in \u001b[0;36m<module>\u001b[0;34m()\u001b[0m\n\u001b[1;32m      1\u001b[0m \u001b[0mtuple\u001b[0m \u001b[0;34m=\u001b[0m \u001b[0;34m(\u001b[0m \u001b[0;34m'abcd'\u001b[0m\u001b[0;34m,\u001b[0m \u001b[0;36m786\u001b[0m \u001b[0;34m,\u001b[0m \u001b[0;36m2.23\u001b[0m\u001b[0;34m,\u001b[0m \u001b[0;34m'john'\u001b[0m\u001b[0;34m,\u001b[0m \u001b[0;36m70.2\u001b[0m  \u001b[0;34m)\u001b[0m\u001b[0;34m\u001b[0m\u001b[0;34m\u001b[0m\u001b[0m\n\u001b[1;32m      2\u001b[0m \u001b[0mlist\u001b[0m \u001b[0;34m=\u001b[0m \u001b[0;34m[\u001b[0m \u001b[0;34m'abcd'\u001b[0m\u001b[0;34m,\u001b[0m \u001b[0;36m786\u001b[0m \u001b[0;34m,\u001b[0m \u001b[0;36m2.23\u001b[0m\u001b[0;34m,\u001b[0m \u001b[0;34m'john'\u001b[0m\u001b[0;34m,\u001b[0m \u001b[0;36m70.2\u001b[0m  \u001b[0;34m]\u001b[0m\u001b[0;34m\u001b[0m\u001b[0;34m\u001b[0m\u001b[0m\n\u001b[0;32m----> 3\u001b[0;31m \u001b[0mtuple\u001b[0m\u001b[0;34m[\u001b[0m\u001b[0;36m2\u001b[0m\u001b[0;34m]\u001b[0m \u001b[0;34m=\u001b[0m \u001b[0;36m1000\u001b[0m    \u001b[0;31m# Invalid syntax with tuple\u001b[0m\u001b[0;34m\u001b[0m\u001b[0;34m\u001b[0m\u001b[0m\n\u001b[0m\u001b[1;32m      4\u001b[0m \u001b[0mlist\u001b[0m\u001b[0;34m[\u001b[0m\u001b[0;36m2\u001b[0m\u001b[0;34m]\u001b[0m \u001b[0;34m=\u001b[0m \u001b[0;36m1000\u001b[0m     \u001b[0;31m# Valid syntax with list\u001b[0m\u001b[0;34m\u001b[0m\u001b[0;34m\u001b[0m\u001b[0m\n",
            "\u001b[0;31mTypeError\u001b[0m: 'tuple' object does not support item assignment"
          ]
        }
      ]
    },
    {
      "cell_type": "code",
      "source": [
        "dict = {} \n",
        "dict['one'] = \"This is one\" \n",
        "dict[2]     = \"This is two\" \n",
        "tinydict = {'name': 'john','code':6734, 'dept': 'sales'} \n",
        "print (dict['one'])       # Prints value for 'one' key \n",
        "print (dict[2])           # Prints value for 2 key \n",
        "print (tinydict)          # Prints complete dictionary \n",
        "print (tinydict.keys())   # Prints all the keys \n",
        "print (dict.values()) # Prints all the values \n",
        "print (dict.keys())   # Prints all the keys \n",
        "print (tinydict.values()) # Prints all the values "
      ],
      "metadata": {
        "colab": {
          "base_uri": "https://localhost:8080/"
        },
        "id": "SKJYcHf8IUj0",
        "outputId": "c4d0077c-8879-4d8e-b27a-26351fcc14b0"
      },
      "execution_count": 7,
      "outputs": [
        {
          "output_type": "stream",
          "name": "stdout",
          "text": [
            "This is one\n",
            "This is two\n",
            "{'name': 'john', 'code': 6734, 'dept': 'sales'}\n",
            "dict_keys(['name', 'code', 'dept'])\n",
            "dict_values(['This is one', 'This is two'])\n",
            "dict_keys(['one', 2])\n",
            "dict_values(['john', 6734, 'sales'])\n"
          ]
        }
      ]
    }
  ]
}