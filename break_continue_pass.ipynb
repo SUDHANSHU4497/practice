{
  "nbformat": 4,
  "nbformat_minor": 0,
  "metadata": {
    "colab": {
      "name": "break_continue_pass.ipynb",
      "provenance": [],
      "collapsed_sections": [],
      "authorship_tag": "ABX9TyMCY5+SxOD+jh58R3BoxG+J",
      "include_colab_link": true
    },
    "kernelspec": {
      "name": "python3",
      "display_name": "Python 3"
    },
    "language_info": {
      "name": "python"
    }
  },
  "cells": [
    {
      "cell_type": "markdown",
      "metadata": {
        "id": "view-in-github",
        "colab_type": "text"
      },
      "source": [
        "<a href=\"https://colab.research.google.com/github/SUDHANSHU4497/practice/blob/main/break_continue_pass.ipynb\" target=\"_parent\"><img src=\"https://colab.research.google.com/assets/colab-badge.svg\" alt=\"Open In Colab\"/></a>"
      ]
    },
    {
      "cell_type": "markdown",
      "source": [
        "**Break Statement**\n",
        "* use for linear searching\n",
        "* when we want to search particular element,and we find that after that we want to my code is not executed anymore."
      ],
      "metadata": {
        "id": "k8z8qTNEiz8y"
      }
    },
    {
      "cell_type": "code",
      "execution_count": 1,
      "metadata": {
        "colab": {
          "base_uri": "https://localhost:8080/"
        },
        "id": "Mq110PY_iyn9",
        "outputId": "276996f2-beb5-4cae-f0ca-3d69b9d893b4"
      },
      "outputs": [
        {
          "output_type": "stream",
          "name": "stdout",
          "text": [
            "1\n",
            "2\n",
            "3\n",
            "4\n"
          ]
        }
      ],
      "source": [
        "# Break Statement\n",
        "# i want to search 5\n",
        "for i in range(1,11):\n",
        "    if i == 5:\n",
        "        break\n",
        "    print(i)"
      ]
    },
    {
      "cell_type": "markdown",
      "source": [
        "**continue Statement**\n",
        "* when we want to skip program for particular output "
      ],
      "metadata": {
        "id": "rZc1Joe-jmJz"
      }
    },
    {
      "cell_type": "code",
      "source": [
        "# Continue Statement\n",
        "\n",
        "for i in range(1,11):\n",
        "    if i == 5:\n",
        "        continue\n",
        "    print(i)\n",
        "    print(\"Hello\")"
      ],
      "metadata": {
        "colab": {
          "base_uri": "https://localhost:8080/"
        },
        "id": "FDcJQ4Jbj4vB",
        "outputId": "8bf86ce8-b077-4073-eaa3-6794aebba2e3"
      },
      "execution_count": 2,
      "outputs": [
        {
          "output_type": "stream",
          "name": "stdout",
          "text": [
            "1\n",
            "Hello\n",
            "2\n",
            "Hello\n",
            "3\n",
            "Hello\n",
            "4\n",
            "Hello\n",
            "6\n",
            "Hello\n",
            "7\n",
            "Hello\n",
            "8\n",
            "Hello\n",
            "9\n",
            "Hello\n",
            "10\n",
            "Hello\n"
          ]
        }
      ]
    },
    {
      "cell_type": "markdown",
      "source": [
        "**pass statement**\n",
        "* it is use to pass the block of code which are not completed"
      ],
      "metadata": {
        "id": "9rahGbmakAMQ"
      }
    },
    {
      "cell_type": "code",
      "source": [
        "# Pass Statement\n",
        "\n",
        "for i in range(1,11):\n",
        "    pass   "
      ],
      "metadata": {
        "id": "eMpoR4f8kUju"
      },
      "execution_count": 3,
      "outputs": []
    }
  ]
}