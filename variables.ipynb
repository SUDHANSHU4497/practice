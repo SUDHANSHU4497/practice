{
  "nbformat": 4,
  "nbformat_minor": 0,
  "metadata": {
    "colab": {
      "name": "variables.ipynb",
      "provenance": [],
      "collapsed_sections": [],
      "authorship_tag": "ABX9TyNiVuiF6Rv6C+AYnXiYIbE3",
      "include_colab_link": true
    },
    "kernelspec": {
      "name": "python3",
      "display_name": "Python 3"
    },
    "language_info": {
      "name": "python"
    }
  },
  "cells": [
    {
      "cell_type": "markdown",
      "metadata": {
        "id": "view-in-github",
        "colab_type": "text"
      },
      "source": [
        "<a href=\"https://colab.research.google.com/github/SUDHANSHU4497/practice/blob/main/variables.ipynb\" target=\"_parent\"><img src=\"https://colab.research.google.com/assets/colab-badge.svg\" alt=\"Open In Colab\"/></a>"
      ]
    },
    {
      "cell_type": "markdown",
      "source": [
        "Variable are container for future use"
      ],
      "metadata": {
        "id": "Y8utOb0Vj8YB"
      }
    },
    {
      "cell_type": "code",
      "execution_count": null,
      "metadata": {
        "id": "jo9FwNKsjYIp"
      },
      "outputs": [],
      "source": [
        "# no variable declaration \n",
        "# in python, when we create variable,it automatically understand their datatype this is called dynamic typing"
      ]
    },
    {
      "cell_type": "code",
      "source": [
        "name=\"hello world\"\n",
        "print(name)"
      ],
      "metadata": {
        "colab": {
          "base_uri": "https://localhost:8080/"
        },
        "id": "ssEqEqLDldBQ",
        "outputId": "ed38c8a5-eaec-43ce-e992-fdba2fc960ad"
      },
      "execution_count": 1,
      "outputs": [
        {
          "output_type": "stream",
          "name": "stdout",
          "text": [
            "hello world\n"
          ]
        }
      ]
    },
    {
      "cell_type": "code",
      "source": [
        "name=4\n",
        "print(name)"
      ],
      "metadata": {
        "colab": {
          "base_uri": "https://localhost:8080/"
        },
        "id": "a3aKdny4llZ0",
        "outputId": "a8d77e7b-0349-49b2-d9d3-8adf7137307b"
      },
      "execution_count": 5,
      "outputs": [
        {
          "output_type": "stream",
          "name": "stdout",
          "text": [
            "4\n"
          ]
        }
      ]
    },
    {
      "cell_type": "code",
      "source": [
        "name=True\n",
        "print(name)"
      ],
      "metadata": {
        "colab": {
          "base_uri": "https://localhost:8080/"
        },
        "id": "kU37nPvlluio",
        "outputId": "69a67bee-88f8-4fd1-dfbd-9c6026f41cc2"
      },
      "execution_count": 4,
      "outputs": [
        {
          "output_type": "stream",
          "name": "stdout",
          "text": [
            "True\n"
          ]
        }
      ]
    },
    {
      "cell_type": "markdown",
      "source": [
        "**dynamic binding--- when a variable store multiple datatype**"
      ],
      "metadata": {
        "id": "3XBsk_4DmUHc"
      }
    },
    {
      "cell_type": "code",
      "source": [
        " # special syntax\n",
        " a=5; b=6 ;c=7\n",
        " print(a)\n",
        " print(b)\n",
        " print(c)"
      ],
      "metadata": {
        "colab": {
          "base_uri": "https://localhost:8080/"
        },
        "id": "Br1kRcgWmTw6",
        "outputId": "38d26a40-cbd6-4e46-d3e2-c4a47b8921a1"
      },
      "execution_count": 6,
      "outputs": [
        {
          "output_type": "stream",
          "name": "stdout",
          "text": [
            "5\n",
            "6\n",
            "7\n"
          ]
        }
      ]
    },
    {
      "cell_type": "code",
      "source": [
        " a,b,c=4,5,6\n",
        " print(a)\n",
        " print(b)\n",
        " print(c)"
      ],
      "metadata": {
        "colab": {
          "base_uri": "https://localhost:8080/"
        },
        "id": "uFARDNJflyNI",
        "outputId": "50230c33-f6f6-4ecc-a909-a4193d270121"
      },
      "execution_count": 7,
      "outputs": [
        {
          "output_type": "stream",
          "name": "stdout",
          "text": [
            "4\n",
            "5\n",
            "6\n"
          ]
        }
      ]
    },
    {
      "cell_type": "code",
      "source": [
        " a=b=c=6\n",
        " print(a)\n",
        " print(b)\n",
        " print(c)"
      ],
      "metadata": {
        "colab": {
          "base_uri": "https://localhost:8080/"
        },
        "id": "HCwuWgQ9nVeZ",
        "outputId": "693398a6-7619-4912-c1d3-0f18aa8c15bd"
      },
      "execution_count": 8,
      "outputs": [
        {
          "output_type": "stream",
          "name": "stdout",
          "text": [
            "6\n",
            "6\n",
            "6\n"
          ]
        }
      ]
    },
    {
      "cell_type": "code",
      "source": [
        ""
      ],
      "metadata": {
        "id": "62p31rAanZqP"
      },
      "execution_count": null,
      "outputs": []
    }
  ]
}