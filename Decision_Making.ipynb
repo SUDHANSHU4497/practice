{
  "nbformat": 4,
  "nbformat_minor": 0,
  "metadata": {
    "colab": {
      "name": " Decision Making.ipynb",
      "provenance": [],
      "authorship_tag": "ABX9TyOV8jV4sMKl3+uj9vLWnnRH",
      "include_colab_link": true
    },
    "kernelspec": {
      "name": "python3",
      "display_name": "Python 3"
    },
    "language_info": {
      "name": "python"
    }
  },
  "cells": [
    {
      "cell_type": "markdown",
      "metadata": {
        "id": "view-in-github",
        "colab_type": "text"
      },
      "source": [
        "<a href=\"https://colab.research.google.com/github/SUDHANSHU4497/practice/blob/main/Decision_Making.ipynb\" target=\"_parent\"><img src=\"https://colab.research.google.com/assets/colab-badge.svg\" alt=\"Open In Colab\"/></a>"
      ]
    },
    {
      "cell_type": "code",
      "execution_count": 5,
      "metadata": {
        "colab": {
          "base_uri": "https://localhost:8080/"
        },
        "id": "ZPlt8nOeslt-",
        "outputId": "5c937300-c21c-4523-f2ce-fb5575519360"
      },
      "outputs": [
        {
          "output_type": "stream",
          "name": "stdout",
          "text": [
            "1 - Got a true expression value\n",
            "100\n",
            "Good bye!\n"
          ]
        }
      ],
      "source": [
        "var1 = 100 \n",
        "if var1: \n",
        "   print (\"1 - Got a true expression value\") \n",
        "   print (var1) \n",
        "var2 = 0\n",
        "if var2: \n",
        "   print (\"2 - Got a true expression value\") \n",
        "   print (var2) \n",
        "print (\"Good bye!\") "
      ]
    },
    {
      "cell_type": "code",
      "source": [
        "amount=int(input(\"Enter amount: \")) \n",
        "if amount<1000: \n",
        "    discount=amount*0.05 \n",
        "    print (\"Discount\",discount) \n",
        "else: \n",
        "    discount=amount*0.10 \n",
        "    print (\"Discount\",discount) \n",
        "     \n",
        "print (\"Net payable:\",amount-discount) "
      ],
      "metadata": {
        "colab": {
          "base_uri": "https://localhost:8080/"
        },
        "id": "jGrcl7wKtsMB",
        "outputId": "6e0785c9-52d2-4c29-852f-fa2055e2800c"
      },
      "execution_count": 6,
      "outputs": [
        {
          "output_type": "stream",
          "name": "stdout",
          "text": [
            "Enter amount: 500\n",
            "Discount 25.0\n",
            "Net payable: 475.0\n"
          ]
        }
      ]
    },
    {
      "cell_type": "code",
      "source": [
        "amount=int(input(\"enter amount\"))\n",
        "if amount<500:\n",
        "  si=amount*5*5/100\n",
        "  print(si)\n",
        "else:\n",
        "  si=amount*5*4/100\n",
        "  print(si)"
      ],
      "metadata": {
        "colab": {
          "base_uri": "https://localhost:8080/"
        },
        "id": "k6GxlzhouIMk",
        "outputId": "e230af6b-d5bc-4082-87a4-9544ca9bf5b8"
      },
      "execution_count": 7,
      "outputs": [
        {
          "output_type": "stream",
          "name": "stdout",
          "text": [
            "enter amount400\n",
            "100.0\n"
          ]
        }
      ]
    },
    {
      "cell_type": "code",
      "source": [
        "amount=int(input(\"Enter amount: \")) \n",
        " \n",
        "if amount<1000: \n",
        "    discount=amount*0.05 \n",
        "    print (\"Discount\",discount) \n",
        "elif amount<5000: \n",
        "    discount=amount*0.10 \n",
        "    print (\"Discount\",discount) \n",
        "else: \n",
        "    discount=amount*0.15 \n",
        "    print (\"Discount\",discount) \n",
        "print (\"Net payable:\",amount-discount) "
      ],
      "metadata": {
        "colab": {
          "base_uri": "https://localhost:8080/"
        },
        "id": "gXTi5Ba8uzb5",
        "outputId": "6461f2a5-e26e-4201-ce5a-c98f4143f7d6"
      },
      "execution_count": 8,
      "outputs": [
        {
          "output_type": "stream",
          "name": "stdout",
          "text": [
            "Enter amount: 500\n",
            "Discount 25.0\n",
            "Net payable: 475.0\n"
          ]
        }
      ]
    },
    {
      "cell_type": "code",
      "source": [
        "amount=int(input(\"Enter amount: \")) \n",
        " \n",
        "if amount<1000: \n",
        "    SI=amount*0.05*5\n",
        "    print (\"SI\",SI) \n",
        "elif amount<5000: \n",
        "    SI=amount*0.10*4\n",
        "    print (\"SI\",SI) \n",
        "else: \n",
        "    SI=amount*0.15*3 \n",
        "    print (\"SI\",SI) \n",
        "print (\"Net payable:\",amount+SI) "
      ],
      "metadata": {
        "colab": {
          "base_uri": "https://localhost:8080/"
        },
        "id": "77WlegqDvOmx",
        "outputId": "dc6665eb-c5d8-4f55-bb2b-df7241e04cfe"
      },
      "execution_count": 10,
      "outputs": [
        {
          "output_type": "stream",
          "name": "stdout",
          "text": [
            "Enter amount: 400\n",
            "SI 100.0\n",
            "Net payable: 500.0\n"
          ]
        }
      ]
    }
  ]
}