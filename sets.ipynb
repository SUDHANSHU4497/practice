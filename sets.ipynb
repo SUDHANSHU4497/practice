{
  "nbformat": 4,
  "nbformat_minor": 0,
  "metadata": {
    "colab": {
      "name": "sets.ipynb",
      "provenance": [],
      "authorship_tag": "ABX9TyOMOAoxcS3BC8qdb1ojHn96",
      "include_colab_link": true
    },
    "kernelspec": {
      "name": "python3",
      "display_name": "Python 3"
    },
    "language_info": {
      "name": "python"
    }
  },
  "cells": [
    {
      "cell_type": "markdown",
      "metadata": {
        "id": "view-in-github",
        "colab_type": "text"
      },
      "source": [
        "<a href=\"https://colab.research.google.com/github/SUDHANSHU4497/practice/blob/main/sets.ipynb\" target=\"_parent\"><img src=\"https://colab.research.google.com/assets/colab-badge.svg\" alt=\"Open In Colab\"/></a>"
      ]
    },
    {
      "cell_type": "markdown",
      "source": [
        "**sets**\n",
        "* sets donot allow duplicates\n",
        "* set have no indexing/slicing\n",
        "* set donot allow mutable data types\n",
        "* set itself is a mutable data types"
      ],
      "metadata": {
        "id": "LidEJnRBMlpD"
      }
    },
    {
      "cell_type": "code",
      "source": [
        "# create\n",
        "# S1={}   # IT WILL FORM DICT NOT SET\n",
        "# EMPTY SET\n",
        "S1=set()"
      ],
      "metadata": {
        "id": "Px9GHvR5NSAn"
      },
      "execution_count": 4,
      "outputs": []
    },
    {
      "cell_type": "code",
      "source": [
        "S1"
      ],
      "metadata": {
        "colab": {
          "base_uri": "https://localhost:8080/"
        },
        "id": "ie8tncMLNaaz",
        "outputId": "c20b1255-1c32-4ac9-daf4-fb6da264b948"
      },
      "execution_count": 2,
      "outputs": [
        {
          "output_type": "execute_result",
          "data": {
            "text/plain": [
              "{}"
            ]
          },
          "metadata": {},
          "execution_count": 2
        }
      ]
    },
    {
      "cell_type": "code",
      "source": [
        " type(S1)"
      ],
      "metadata": {
        "colab": {
          "base_uri": "https://localhost:8080/"
        },
        "id": "aIL9BCCaNfdG",
        "outputId": "6ae352b5-6183-4c9e-9a5f-11f64f51692a"
      },
      "execution_count": 5,
      "outputs": [
        {
          "output_type": "execute_result",
          "data": {
            "text/plain": [
              "set"
            ]
          },
          "metadata": {},
          "execution_count": 5
        }
      ]
    },
    {
      "cell_type": "code",
      "source": [
        "# access items\n",
        "# not possible\n",
        "# we cant edit\n",
        "# we can add items"
      ],
      "metadata": {
        "id": "eS2cxvy4N8GU"
      },
      "execution_count": null,
      "outputs": []
    },
    {
      "cell_type": "markdown",
      "source": [
        "**Delete**\n",
        "* del\n",
        "* remove\n",
        "* pop"
      ],
      "metadata": {
        "id": "YCqDW23fPOKz"
      }
    },
    {
      "cell_type": "code",
      "source": [
        "S1=[2,3,100,5,4,6,7]"
      ],
      "metadata": {
        "id": "9gCLNp7tPMkg"
      },
      "execution_count": 13,
      "outputs": []
    },
    {
      "cell_type": "code",
      "source": [
        "S1.remove(100)\n",
        "S1"
      ],
      "metadata": {
        "colab": {
          "base_uri": "https://localhost:8080/"
        },
        "id": "7QDUMaxuPnpF",
        "outputId": "8b7e1926-af35-486f-f3d3-c967f33bc5f7"
      },
      "execution_count": 11,
      "outputs": [
        {
          "output_type": "execute_result",
          "data": {
            "text/plain": [
              "[2, 3, 5, 4, 6, 7]"
            ]
          },
          "metadata": {},
          "execution_count": 11
        }
      ]
    },
    {
      "cell_type": "code",
      "source": [
        "S1.pop()\n"
      ],
      "metadata": {
        "colab": {
          "base_uri": "https://localhost:8080/"
        },
        "id": "mnidB69LPs0-",
        "outputId": "b3d7b768-ada8-4bdb-ea59-956925c4bda8"
      },
      "execution_count": 15,
      "outputs": [
        {
          "output_type": "execute_result",
          "data": {
            "text/plain": [
              "6"
            ]
          },
          "metadata": {},
          "execution_count": 15
        }
      ]
    },
    {
      "cell_type": "code",
      "source": [
        ""
      ],
      "metadata": {
        "id": "ax6qcWRQQBPU"
      },
      "execution_count": null,
      "outputs": []
    },
    {
      "cell_type": "code",
      "source": [
        ""
      ],
      "metadata": {
        "id": "CX72Du94QTnC"
      },
      "execution_count": null,
      "outputs": []
    },
    {
      "cell_type": "markdown",
      "source": [
        "**set operation**\n"
      ],
      "metadata": {
        "id": "xAA-vcZcQN7V"
      }
    },
    {
      "cell_type": "code",
      "source": [
        ""
      ],
      "metadata": {
        "id": "zJ0RW_QCQUSR"
      },
      "execution_count": null,
      "outputs": []
    }
  ]
}