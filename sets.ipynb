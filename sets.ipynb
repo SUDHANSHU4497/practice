{
  "nbformat": 4,
  "nbformat_minor": 0,
  "metadata": {
    "colab": {
      "name": "sets.ipynb",
      "provenance": [],
      "authorship_tag": "ABX9TyMoRuskGtGrO+aZuyyv4SFd",
      "include_colab_link": true
    },
    "kernelspec": {
      "name": "python3",
      "display_name": "Python 3"
    },
    "language_info": {
      "name": "python"
    }
  },
  "cells": [
    {
      "cell_type": "markdown",
      "metadata": {
        "id": "view-in-github",
        "colab_type": "text"
      },
      "source": [
        "<a href=\"https://colab.research.google.com/github/SUDHANSHU4497/practice/blob/main/sets.ipynb\" target=\"_parent\"><img src=\"https://colab.research.google.com/assets/colab-badge.svg\" alt=\"Open In Colab\"/></a>"
      ]
    },
    {
      "cell_type": "code",
      "execution_count": 3,
      "metadata": {
        "colab": {
          "base_uri": "https://localhost:8080/"
        },
        "id": "n0mXZHsprNGD",
        "outputId": "4bae4954-915e-4974-e669-38d63b8dcd8e"
      },
      "outputs": [
        {
          "output_type": "stream",
          "name": "stdout",
          "text": [
            "Initial blank Set:  set()\n"
          ]
        }
      ],
      "source": [
        "# Python program to demonstrate\n",
        "# Creation of Set in Python\n",
        "\n",
        "# Creating a Set\n",
        "set1 = set()\n",
        "print(\"Initial blank Set: \",end=\" \")\n",
        "print(set1)\n",
        "\n"
      ]
    },
    {
      "cell_type": "code",
      "source": [
        "# Creating a Set with\n",
        "# the use of Constructor\n",
        "# (Using object to Store String)\n",
        "String = 'nitpatna'\n",
        "set1 = set(String)\n",
        "print(\"\\nSet with the use of an Object: \" ) # extracting unique letter only\n",
        "print(set1)"
      ],
      "metadata": {
        "colab": {
          "base_uri": "https://localhost:8080/"
        },
        "id": "npwTtM9urVfc",
        "outputId": "5c44a7a5-3d50-495d-bc50-6fe62bcaf4bd"
      },
      "execution_count": 5,
      "outputs": [
        {
          "output_type": "stream",
          "name": "stdout",
          "text": [
            "\n",
            "Set with the use of an Object: \n",
            "{'p', 'a', 't', 'i', 'n'}\n"
          ]
        }
      ]
    },
    {
      "cell_type": "code",
      "source": [
        ""
      ],
      "metadata": {
        "id": "dx6ymOyDrXyZ"
      },
      "execution_count": null,
      "outputs": []
    },
    {
      "cell_type": "code",
      "source": [
        ""
      ],
      "metadata": {
        "id": "JKhAdq9wrZdJ"
      },
      "execution_count": null,
      "outputs": []
    },
    {
      "cell_type": "code",
      "source": [
        ""
      ],
      "metadata": {
        "id": "X6EMI5X_rePn"
      },
      "execution_count": null,
      "outputs": []
    }
  ]
}