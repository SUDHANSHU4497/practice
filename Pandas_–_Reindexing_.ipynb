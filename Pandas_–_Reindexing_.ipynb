{
  "nbformat": 4,
  "nbformat_minor": 0,
  "metadata": {
    "colab": {
      "name": "Pandas – Reindexing .ipynb",
      "provenance": [],
      "authorship_tag": "ABX9TyOyxlc/FGtbYmXb+rjtbzvG",
      "include_colab_link": true
    },
    "kernelspec": {
      "name": "python3",
      "display_name": "Python 3"
    },
    "language_info": {
      "name": "python"
    }
  },
  "cells": [
    {
      "cell_type": "markdown",
      "metadata": {
        "id": "view-in-github",
        "colab_type": "text"
      },
      "source": [
        "<a href=\"https://colab.research.google.com/github/SUDHANSHU4497/practice/blob/main/Pandas_%E2%80%93_Reindexing_.ipynb\" target=\"_parent\"><img src=\"https://colab.research.google.com/assets/colab-badge.svg\" alt=\"Open In Colab\"/></a>"
      ]
    },
    {
      "cell_type": "code",
      "execution_count": 1,
      "metadata": {
        "colab": {
          "base_uri": "https://localhost:8080/"
        },
        "id": "xJD9gBZssOEG",
        "outputId": "d643c0ab-1933-4e33-d49a-fd05c6cad2b2"
      },
      "outputs": [
        {
          "output_type": "stream",
          "name": "stdout",
          "text": [
            "           A       C   B\n",
            "0 2016-01-01     Low NaN\n",
            "2 2016-01-03  Medium NaN\n",
            "5 2016-01-06     Low NaN\n"
          ]
        }
      ],
      "source": [
        "import pandas as pd \n",
        "import numpy as np \n",
        " \n",
        "N=20 \n",
        " \n",
        "df = pd.DataFrame({ \n",
        "    'A': pd.date_range(start='2016-01-01',periods=N,freq='D'), \n",
        "    'x': np.linspace(0,stop=N-1,num=N), \n",
        "    'y': np.random.rand(N), \n",
        "    'C': np.random.choice(['Low','Medium','High'],N).tolist(), \n",
        "    'D': np.random.normal(100, 10, size=(N)).tolist() \n",
        "    }) \n",
        " \n",
        "#reindex the DataFrame \n",
        "df_reindexed = df.reindex(index=[0,2,5], columns=['A', 'C', 'B']) \n",
        " \n",
        "print( df_reindexed )"
      ]
    }
  ]
}