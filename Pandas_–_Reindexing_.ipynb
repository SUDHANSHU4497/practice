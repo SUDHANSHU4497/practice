{
  "nbformat": 4,
  "nbformat_minor": 0,
  "metadata": {
    "colab": {
      "name": "Pandas – Reindexing .ipynb",
      "provenance": [],
      "authorship_tag": "ABX9TyPKMNfoEGDApozXAiXY5PbY",
      "include_colab_link": true
    },
    "kernelspec": {
      "name": "python3",
      "display_name": "Python 3"
    },
    "language_info": {
      "name": "python"
    }
  },
  "cells": [
    {
      "cell_type": "markdown",
      "metadata": {
        "id": "view-in-github",
        "colab_type": "text"
      },
      "source": [
        "<a href=\"https://colab.research.google.com/github/SUDHANSHU4497/practice/blob/main/Pandas_%E2%80%93_Reindexing_.ipynb\" target=\"_parent\"><img src=\"https://colab.research.google.com/assets/colab-badge.svg\" alt=\"Open In Colab\"/></a>"
      ]
    },
    {
      "cell_type": "code",
      "execution_count": 1,
      "metadata": {
        "colab": {
          "base_uri": "https://localhost:8080/"
        },
        "id": "xJD9gBZssOEG",
        "outputId": "d643c0ab-1933-4e33-d49a-fd05c6cad2b2"
      },
      "outputs": [
        {
          "output_type": "stream",
          "name": "stdout",
          "text": [
            "           A       C   B\n",
            "0 2016-01-01     Low NaN\n",
            "2 2016-01-03  Medium NaN\n",
            "5 2016-01-06     Low NaN\n"
          ]
        }
      ],
      "source": [
        "import pandas as pd \n",
        "import numpy as np \n",
        " \n",
        "N=20 \n",
        " \n",
        "df = pd.DataFrame({ \n",
        "    'A': pd.date_range(start='2016-01-01',periods=N,freq='D'), \n",
        "    'x': np.linspace(0,stop=N-1,num=N), \n",
        "    'y': np.random.rand(N), \n",
        "    'C': np.random.choice(['Low','Medium','High'],N).tolist(), \n",
        "    'D': np.random.normal(100, 10, size=(N)).tolist() \n",
        "    }) \n",
        " \n",
        "#reindex the DataFrame \n",
        "df_reindexed = df.reindex(index=[0,2,5], columns=['A', 'C', 'B']) \n",
        " \n",
        "print( df_reindexed )"
      ]
    },
    {
      "cell_type": "code",
      "source": [
        "df1=pd.DataFrame(np.random.randn(10,3),columns=['col1','col2','col3']) \n",
        "df2=pd.DataFrame(np.random.randn(7,3),columns=['col1','col2','col3']) \n",
        " \n",
        "df1 = df1.reindex_like(df2) \n",
        "print( df1 )"
      ],
      "metadata": {
        "colab": {
          "base_uri": "https://localhost:8080/"
        },
        "id": "ldt6zEbItVRk",
        "outputId": "56d2dfd8-d8bb-4813-aba6-44ea125deaf4"
      },
      "execution_count": 2,
      "outputs": [
        {
          "output_type": "stream",
          "name": "stdout",
          "text": [
            "       col1      col2      col3\n",
            "0 -0.781094  0.538043  0.305110\n",
            "1  0.656366  1.182418  0.728976\n",
            "2 -0.530303 -1.361983  1.432430\n",
            "3 -0.235251 -0.087702  1.400682\n",
            "4 -0.161702 -1.381009 -0.505433\n",
            "5 -0.247755 -1.631620 -0.067719\n",
            "6  0.961903  0.739802 -1.891240\n"
          ]
        }
      ]
    },
    {
      "cell_type": "code",
      "source": [
        "df1=pd.DataFrame(np.random.randn(6,3),columns=['col1','col2','col3']) \n",
        "df2=pd.DataFrame(np.random.randn(2,3),columns=['col1','col2','col3']) \n",
        " \n",
        "# Padding NAN's \n",
        "print (df2.reindex_like(df1) )\n",
        " \n",
        "# Now Fill the NAN's with preceding Values \n",
        "print (\"Data Frame with Forward Fill:\") \n",
        "print (df2.reindex_like(df1,method='ffill')) "
      ],
      "metadata": {
        "colab": {
          "base_uri": "https://localhost:8080/"
        },
        "id": "IFHS21Y-tYZA",
        "outputId": "25cdcbca-573a-4991-ed96-09eea57bcbfd"
      },
      "execution_count": 4,
      "outputs": [
        {
          "output_type": "stream",
          "name": "stdout",
          "text": [
            "       col1      col2      col3\n",
            "0  0.224108  0.445339 -0.697102\n",
            "1 -1.849296 -1.340779 -0.291597\n",
            "2       NaN       NaN       NaN\n",
            "3       NaN       NaN       NaN\n",
            "4       NaN       NaN       NaN\n",
            "5       NaN       NaN       NaN\n",
            "Data Frame with Forward Fill:\n",
            "       col1      col2      col3\n",
            "0  0.224108  0.445339 -0.697102\n",
            "1 -1.849296 -1.340779 -0.291597\n",
            "2 -1.849296 -1.340779 -0.291597\n",
            "3 -1.849296 -1.340779 -0.291597\n",
            "4 -1.849296 -1.340779 -0.291597\n",
            "5 -1.849296 -1.340779 -0.291597\n"
          ]
        }
      ]
    }
  ]
}