{
  "nbformat": 4,
  "nbformat_minor": 0,
  "metadata": {
    "colab": {
      "name": "factorial.ipynb",
      "provenance": [],
      "authorship_tag": "ABX9TyP4N2WjvmJaqPO8uJ7Xy9hl",
      "include_colab_link": true
    },
    "kernelspec": {
      "name": "python3",
      "display_name": "Python 3"
    },
    "language_info": {
      "name": "python"
    }
  },
  "cells": [
    {
      "cell_type": "markdown",
      "metadata": {
        "id": "view-in-github",
        "colab_type": "text"
      },
      "source": [
        "<a href=\"https://colab.research.google.com/github/SUDHANSHU4497/practice/blob/main/factorial.ipynb\" target=\"_parent\"><img src=\"https://colab.research.google.com/assets/colab-badge.svg\" alt=\"Open In Colab\"/></a>"
      ]
    },
    {
      "cell_type": "code",
      "execution_count": 1,
      "metadata": {
        "id": "XoIG0YKHwTd6"
      },
      "outputs": [],
      "source": [
        "# using math library\n",
        "import math\n",
        " \n",
        "def factorial(n):\n",
        "    return(math.factorial(n))"
      ]
    },
    {
      "cell_type": "code",
      "source": [
        "factorial(5)"
      ],
      "metadata": {
        "colab": {
          "base_uri": "https://localhost:8080/"
        },
        "id": "7g94DL9Owjqb",
        "outputId": "f3b9e5e1-051f-4a31-ef8a-b8a682dff2ca"
      },
      "execution_count": 2,
      "outputs": [
        {
          "output_type": "execute_result",
          "data": {
            "text/plain": [
              "120"
            ]
          },
          "metadata": {},
          "execution_count": 2
        }
      ]
    },
    {
      "cell_type": "code",
      "source": [
        ""
      ],
      "metadata": {
        "id": "xqM8EuSuwlsZ"
      },
      "execution_count": null,
      "outputs": []
    }
  ]
}