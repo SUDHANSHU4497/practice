{
  "nbformat": 4,
  "nbformat_minor": 0,
  "metadata": {
    "colab": {
      "name": "variable type python.ipynb",
      "provenance": [],
      "authorship_tag": "ABX9TyOoGp5XebhpospeOaeINP0Q",
      "include_colab_link": true
    },
    "kernelspec": {
      "name": "python3",
      "display_name": "Python 3"
    },
    "language_info": {
      "name": "python"
    }
  },
  "cells": [
    {
      "cell_type": "markdown",
      "metadata": {
        "id": "view-in-github",
        "colab_type": "text"
      },
      "source": [
        "<a href=\"https://colab.research.google.com/github/SUDHANSHU4497/practice/blob/main/variable_type_python.ipynb\" target=\"_parent\"><img src=\"https://colab.research.google.com/assets/colab-badge.svg\" alt=\"Open In Colab\"/></a>"
      ]
    },
    {
      "cell_type": "code",
      "execution_count": 1,
      "metadata": {
        "colab": {
          "base_uri": "https://localhost:8080/"
        },
        "id": "ZI55SbnqvqLO",
        "outputId": "3575c88f-c310-4688-dc0f-a248838aa385"
      },
      "outputs": [
        {
          "output_type": "stream",
          "name": "stdout",
          "text": [
            "Hello World!\n",
            "H\n",
            "llo\n",
            "llo World!\n",
            "Hello World!Hello World!\n",
            "Hello World!TEST\n"
          ]
        }
      ],
      "source": [
        "\n",
        "str = 'Hello World!' \n",
        "print (str)          # Prints complete string \n",
        "print (str[0])       # Prints first character of the string \n",
        "print (str[2:5])     # Prints characters starting from 3rd to 5th \n",
        "print (str[2:])      # Prints string starting from 3rd character \n",
        "print (str * 2)      # Prints string two times \n",
        "print (str + \"TEST\") # Prints concatenated string "
      ]
    },
    {
      "cell_type": "code",
      "source": [
        "list = [ 'abcd', 786 , 2.23, 'john', 70.2 ] \n",
        "tinylist = [123, 'john'] \n",
        "print (list)          # Prints complete list \n",
        "print (list[0])       # Prints first element of the list \n",
        "print (list[1:3])     # Prints elements starting from 2nd till 3rd  \n",
        "print (list[2:])      # Prints elements starting from 3rd element \n",
        "print (tinylist * 2)  # Prints list two times \n",
        "print (list + tinylist) # Prints concatenated lists "
      ],
      "metadata": {
        "colab": {
          "base_uri": "https://localhost:8080/"
        },
        "id": "_oJV54RpxV8W",
        "outputId": "98abf1dd-fd05-4d49-89ea-bd4a93ae9d2e"
      },
      "execution_count": 9,
      "outputs": [
        {
          "output_type": "stream",
          "name": "stdout",
          "text": [
            "['abcd', 786, 2.23, 'john', 70.2]\n",
            "abcd\n",
            "[786, 2.23]\n",
            "[2.23, 'john', 70.2]\n",
            "[123, 'john', 123, 'john']\n",
            "['abcd', 786, 2.23, 'john', 70.2, 123, 'john']\n"
          ]
        }
      ]
    },
    {
      "cell_type": "code",
      "source": [
        "tuple = ( 'abcd', 786 , 2.23, 'john', 70.2  ) \n",
        "tinytuple = (123, 'john') \n",
        "print (tuple)           # Prints complete tuple \n",
        "print (tuple[0])        # Prints first element of the tuple \n",
        "print (tuple[1:3])      # Prints elements starting from 2nd till 3rd  \n",
        "print (tuple[2:])       # Prints elements starting from 3rd element \n",
        "print (tinytuple * 2)   # Prints tuple two times \n",
        "print (tuple + tinytuple) # Prints concatenated tuple \n",
        "\n",
        "tinytuple=tinytuple*2\n",
        "tinytuple\n",
        "# del tinytuple[0]\n",
        "tinytuple[2]=100"
      ],
      "metadata": {
        "colab": {
          "base_uri": "https://localhost:8080/",
          "height": 305
        },
        "id": "n5hT2irYx5aX",
        "outputId": "46d18d0c-6c5f-4e24-f6ab-83a7164c8f75"
      },
      "execution_count": 19,
      "outputs": [
        {
          "output_type": "stream",
          "name": "stdout",
          "text": [
            "('abcd', 786, 2.23, 'john', 70.2)\n",
            "abcd\n",
            "(786, 2.23)\n",
            "(2.23, 'john', 70.2)\n",
            "(123, 'john', 123, 'john')\n",
            "('abcd', 786, 2.23, 'john', 70.2, 123, 'john')\n"
          ]
        },
        {
          "output_type": "error",
          "ename": "TypeError",
          "evalue": "ignored",
          "traceback": [
            "\u001b[0;31m---------------------------------------------------------------------------\u001b[0m",
            "\u001b[0;31mTypeError\u001b[0m                                 Traceback (most recent call last)",
            "\u001b[0;32m<ipython-input-19-04d464233ea7>\u001b[0m in \u001b[0;36m<module>\u001b[0;34m()\u001b[0m\n\u001b[1;32m     11\u001b[0m \u001b[0mtinytuple\u001b[0m\u001b[0;34m\u001b[0m\u001b[0;34m\u001b[0m\u001b[0m\n\u001b[1;32m     12\u001b[0m \u001b[0;31m# del tinytuple[0]\u001b[0m\u001b[0;34m\u001b[0m\u001b[0;34m\u001b[0m\u001b[0;34m\u001b[0m\u001b[0m\n\u001b[0;32m---> 13\u001b[0;31m \u001b[0mtinytuple\u001b[0m\u001b[0;34m[\u001b[0m\u001b[0;36m2\u001b[0m\u001b[0;34m]\u001b[0m\u001b[0;34m=\u001b[0m\u001b[0;36m100\u001b[0m\u001b[0;34m\u001b[0m\u001b[0;34m\u001b[0m\u001b[0m\n\u001b[0m",
            "\u001b[0;31mTypeError\u001b[0m: 'tuple' object does not support item assignment"
          ]
        }
      ]
    },
    {
      "cell_type": "code",
      "source": [
        "dict = {} \n",
        "dict['one'] = \"This is one\" \n",
        "dict[2]     = \"This is two\" \n",
        "tinydict = {'name': 'john','code':6734, 'dept': 'sales'} \n",
        "dict[3] = {'name': 'john','code':6734, 'dept': 'sales'} \n",
        "# print (dict['one'])       # Prints value for 'one' key \n",
        "# print (dict[2])           # Prints value for 2 key \n",
        "# print (tinydict)          # Prints complete dictionary \n",
        "print (dict.keys())   # Prints all the keys \n",
        "print (dict.values()) # Prints all the values \n",
        "print(dict)"
      ],
      "metadata": {
        "colab": {
          "base_uri": "https://localhost:8080/"
        },
        "id": "et1HjKV5zB4A",
        "outputId": "12d65d98-0270-440d-eecf-ae2d2df8006c"
      },
      "execution_count": 33,
      "outputs": [
        {
          "output_type": "stream",
          "name": "stdout",
          "text": [
            "dict_keys(['one', 2, 3])\n",
            "dict_values(['This is one', 'This is two', {'name': 'john', 'code': 6734, 'dept': 'sales'}])\n",
            "{'one': 'This is one', 2: 'This is two', 3: {'name': 'john', 'code': 6734, 'dept': 'sales'}}\n"
          ]
        }
      ]
    },
    {
      "cell_type": "code",
      "source": [
        "# Python 3 – Basic Operators \n",
        "\n"
      ],
      "metadata": {
        "id": "i9bEgLvwzL1N"
      },
      "execution_count": 26,
      "outputs": []
    }
  ]
}