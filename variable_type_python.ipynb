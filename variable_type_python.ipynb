{
  "nbformat": 4,
  "nbformat_minor": 0,
  "metadata": {
    "colab": {
      "name": "variable type python.ipynb",
      "provenance": [],
      "authorship_tag": "ABX9TyOe4PfRiasprXDvxU4m5H9y",
      "include_colab_link": true
    },
    "kernelspec": {
      "name": "python3",
      "display_name": "Python 3"
    },
    "language_info": {
      "name": "python"
    }
  },
  "cells": [
    {
      "cell_type": "markdown",
      "metadata": {
        "id": "view-in-github",
        "colab_type": "text"
      },
      "source": [
        "<a href=\"https://colab.research.google.com/github/SUDHANSHU4497/practice/blob/main/variable_type_python.ipynb\" target=\"_parent\"><img src=\"https://colab.research.google.com/assets/colab-badge.svg\" alt=\"Open In Colab\"/></a>"
      ]
    },
    {
      "cell_type": "code",
      "execution_count": 1,
      "metadata": {
        "colab": {
          "base_uri": "https://localhost:8080/"
        },
        "id": "ZI55SbnqvqLO",
        "outputId": "3575c88f-c310-4688-dc0f-a248838aa385"
      },
      "outputs": [
        {
          "output_type": "stream",
          "name": "stdout",
          "text": [
            "Hello World!\n",
            "H\n",
            "llo\n",
            "llo World!\n",
            "Hello World!Hello World!\n",
            "Hello World!TEST\n"
          ]
        }
      ],
      "source": [
        "\n",
        "str = 'Hello World!' \n",
        "print (str)          # Prints complete string \n",
        "print (str[0])       # Prints first character of the string \n",
        "print (str[2:5])     # Prints characters starting from 3rd to 5th \n",
        "print (str[2:])      # Prints string starting from 3rd character \n",
        "print (str * 2)      # Prints string two times \n",
        "print (str + \"TEST\") # Prints concatenated string "
      ]
    },
    {
      "cell_type": "code",
      "source": [
        "list = [ 'abcd', 786 , 2.23, 'john', 70.2 ] \n",
        "tinylist = [123, 'john'] \n",
        "print (list)          # Prints complete list \n",
        "print (list[0])       # Prints first element of the list \n",
        "print (list[1:3])     # Prints elements starting from 2nd till 3rd  \n",
        "print (list[2:])      # Prints elements starting from 3rd element \n",
        "print (tinylist * 2)  # Prints list two times \n",
        "print (list + tinylist) # Prints concatenated lists "
      ],
      "metadata": {
        "colab": {
          "base_uri": "https://localhost:8080/"
        },
        "id": "_oJV54RpxV8W",
        "outputId": "98abf1dd-fd05-4d49-89ea-bd4a93ae9d2e"
      },
      "execution_count": 9,
      "outputs": [
        {
          "output_type": "stream",
          "name": "stdout",
          "text": [
            "['abcd', 786, 2.23, 'john', 70.2]\n",
            "abcd\n",
            "[786, 2.23]\n",
            "[2.23, 'john', 70.2]\n",
            "[123, 'john', 123, 'john']\n",
            "['abcd', 786, 2.23, 'john', 70.2, 123, 'john']\n"
          ]
        }
      ]
    },
    {
      "cell_type": "code",
      "source": [
        "tuple = ( 'abcd', 786 , 2.23, 'john', 70.2  ) \n",
        "tinytuple = (123, 'john') \n",
        "print (tuple)           # Prints complete tuple \n",
        "print (tuple[0])        # Prints first element of the tuple \n",
        "print (tuple[1:3])      # Prints elements starting from 2nd till 3rd  \n",
        "print (tuple[2:])       # Prints elements starting from 3rd element \n",
        "print (tinytuple * 2)   # Prints tuple two times \n",
        "print (tuple + tinytuple) # Prints concatenated tuple \n",
        "\n",
        "tinytuple=tinytuple*2\n",
        "tinytuple\n",
        "# del tinytuple[0]\n",
        "tinytuple[2]=100"
      ],
      "metadata": {
        "colab": {
          "base_uri": "https://localhost:8080/",
          "height": 305
        },
        "id": "n5hT2irYx5aX",
        "outputId": "46d18d0c-6c5f-4e24-f6ab-83a7164c8f75"
      },
      "execution_count": 19,
      "outputs": [
        {
          "output_type": "stream",
          "name": "stdout",
          "text": [
            "('abcd', 786, 2.23, 'john', 70.2)\n",
            "abcd\n",
            "(786, 2.23)\n",
            "(2.23, 'john', 70.2)\n",
            "(123, 'john', 123, 'john')\n",
            "('abcd', 786, 2.23, 'john', 70.2, 123, 'john')\n"
          ]
        },
        {
          "output_type": "error",
          "ename": "TypeError",
          "evalue": "ignored",
          "traceback": [
            "\u001b[0;31m---------------------------------------------------------------------------\u001b[0m",
            "\u001b[0;31mTypeError\u001b[0m                                 Traceback (most recent call last)",
            "\u001b[0;32m<ipython-input-19-04d464233ea7>\u001b[0m in \u001b[0;36m<module>\u001b[0;34m()\u001b[0m\n\u001b[1;32m     11\u001b[0m \u001b[0mtinytuple\u001b[0m\u001b[0;34m\u001b[0m\u001b[0;34m\u001b[0m\u001b[0m\n\u001b[1;32m     12\u001b[0m \u001b[0;31m# del tinytuple[0]\u001b[0m\u001b[0;34m\u001b[0m\u001b[0;34m\u001b[0m\u001b[0;34m\u001b[0m\u001b[0m\n\u001b[0;32m---> 13\u001b[0;31m \u001b[0mtinytuple\u001b[0m\u001b[0;34m[\u001b[0m\u001b[0;36m2\u001b[0m\u001b[0;34m]\u001b[0m\u001b[0;34m=\u001b[0m\u001b[0;36m100\u001b[0m\u001b[0;34m\u001b[0m\u001b[0;34m\u001b[0m\u001b[0m\n\u001b[0m",
            "\u001b[0;31mTypeError\u001b[0m: 'tuple' object does not support item assignment"
          ]
        }
      ]
    },
    {
      "cell_type": "code",
      "source": [
        "dict = {} \n",
        "dict['one'] = \"This is one\" \n",
        "dict[2]     = \"This is two\" \n",
        "tinydict = {'name': 'john','code':6734, 'dept': 'sales'} \n",
        "dict[3] = {'name': 'john','code':6734, 'dept': 'sales'} \n",
        "# print (dict['one'])       # Prints value for 'one' key \n",
        "# print (dict[2])           # Prints value for 2 key \n",
        "# print (tinydict)          # Prints complete dictionary \n",
        "print (dict.keys())   # Prints all the keys \n",
        "print (dict.values()) # Prints all the values \n",
        "print(dict)"
      ],
      "metadata": {
        "colab": {
          "base_uri": "https://localhost:8080/"
        },
        "id": "et1HjKV5zB4A",
        "outputId": "12d65d98-0270-440d-eecf-ae2d2df8006c"
      },
      "execution_count": 33,
      "outputs": [
        {
          "output_type": "stream",
          "name": "stdout",
          "text": [
            "dict_keys(['one', 2, 3])\n",
            "dict_values(['This is one', 'This is two', {'name': 'john', 'code': 6734, 'dept': 'sales'}])\n",
            "{'one': 'This is one', 2: 'This is two', 3: {'name': 'john', 'code': 6734, 'dept': 'sales'}}\n"
          ]
        }
      ]
    },
    {
      "cell_type": "code",
      "source": [
        "# Python 3 – Basic Operators \n",
        "\n"
      ],
      "metadata": {
        "id": "i9bEgLvwzL1N"
      },
      "execution_count": 26,
      "outputs": []
    },
    {
      "cell_type": "markdown",
      "source": [
        "* Arithmetic Operators \n",
        "* Comparison (Relational) Operators \n",
        "* Assignment Operators \n",
        "* Logical Operators \n",
        "* Bitwise Operators \n",
        "* Membership Operators \n",
        "* Identity Operators "
      ],
      "metadata": {
        "id": "whYx0f_-0V0i"
      }
    },
    {
      "cell_type": "code",
      "source": [
        "a = 21 \n",
        "b = 10 \n",
        "c = 0 \n",
        "c = a + b \n",
        "print (\"Line 1 - Value of c is \", c) \n",
        " \n",
        "c = a - b \n",
        "print (\"Line 2 - Value of c is \", c ) \n",
        " \n",
        "c = a * b \n",
        "print (\"Line 3 - Value of c is \", c) \n",
        " \n",
        "c = a / b \n",
        "print (\"Line 4 - Value of c is \", c ) \n",
        "\n",
        "c = a//b \n",
        "c\n",
        "\n",
        "c = a % b \n",
        "print (\"Line 5 - Value of c is \", c) \n",
        " \n",
        "a = 2 \n",
        "b = 3 \n",
        "c = a**b  \n",
        "print (\"Line 6 - Value of c is \", c) \n",
        " \n",
        "a = 10 \n",
        "b = 5 \n",
        "c = a//b  \n",
        "print (\"Line 7 - Value of c is \", c) "
      ],
      "metadata": {
        "colab": {
          "base_uri": "https://localhost:8080/"
        },
        "id": "uRgJYOyC0ujo",
        "outputId": "6c8d8591-bec1-4eb6-c95a-a2a691986205"
      },
      "execution_count": 43,
      "outputs": [
        {
          "output_type": "stream",
          "name": "stdout",
          "text": [
            "Line 1 - Value of c is  31\n",
            "Line 2 - Value of c is  11\n",
            "Line 3 - Value of c is  210\n",
            "Line 4 - Value of c is  2.1\n",
            "Line 5 - Value of c is  1\n",
            "Line 6 - Value of c is  8\n",
            "Line 7 - Value of c is  2\n"
          ]
        }
      ]
    },
    {
      "cell_type": "code",
      "source": [
        "# a = 21 \n",
        "# b = 10 \n",
        "# if ( a == b ): \n",
        "#    print (\"Line 1 - a is equal to b\") \n",
        "# else: \n",
        "#    print (\"Line 1 - a is not equal to b\") \n",
        " \n",
        "# if ( a != b ): \n",
        "#    print (\"Line 2 - a is not equal to b\") \n",
        "# else: \n",
        "#    print (\"Line 2 - a is equal to b\") \n",
        " \n",
        "# if ( a < b ): \n",
        "#    print (\"Line 3 - a is less than b\" ) \n",
        "# else: \n",
        "#    print (\"Line 3 - a is not less than b\") \n",
        " \n",
        "# if ( a > b ): \n",
        "#    print (\"Line 4 - a is greater than b\") \n",
        "# else: \n",
        "#    print (\"Line 4 - a is not greater than b\") \n",
        "a = 21 \n",
        "b = 10 \n",
        "a,b=b,a #values of a and b swapped. a becomes 10, b becomes 21 \n",
        " \n",
        "if ( a <= b ): \n",
        "   print (\"Line 5 - a is either less than or equal to  b\") \n",
        "else: \n",
        "   print (\"Line 5 - a is neither less than nor equal to  b\") \n",
        " \n",
        "if ( b >= a ): \n",
        "   print (\"Line 6 - b is either greater than  or equal to b\") \n",
        "else: \n",
        "   print (\"Line 6 - b is neither greater than  nor equal to b\") "
      ],
      "metadata": {
        "colab": {
          "base_uri": "https://localhost:8080/"
        },
        "id": "PH0Ieuk-07PC",
        "outputId": "6432acb5-d6a2-42dc-f654-6358db154e2e"
      },
      "execution_count": 45,
      "outputs": [
        {
          "output_type": "stream",
          "name": "stdout",
          "text": [
            "Line 5 - a is either less than or equal to  b\n",
            "Line 6 - b is either greater than  or equal to b\n"
          ]
        }
      ]
    },
    {
      "cell_type": "markdown",
      "source": [
        "# Python Assignment Operators "
      ],
      "metadata": {
        "id": "JchX1nqf3iwh"
      }
    },
    {
      "cell_type": "code",
      "source": [
        "a = 21 \n",
        "b = 10 \n",
        "c = 0 \n",
        " \n",
        "# c = a + b \n",
        "# print (\"Line 1 - Value of c is \", c) \n",
        " \n",
        "# c += a \n",
        "# print (\"Line 2 - Value of c is \", c ) \n",
        " \n",
        "c *= a \n",
        "print (\"Line 3 - Value of c is \", c ) \n",
        "\n",
        "c /= a  \n",
        "print (\"Line 4 - Value of c is \", c ) \n",
        " \n",
        "c  = 2\n",
        "\n",
        "c %= a \n",
        "print (\"Line 5 - Value of c is \", c) \n",
        "\n",
        "c **= a \n",
        "print (\"Line 6 - Value of c is \", c) \n",
        " \n",
        "c=50\n",
        "a=6\n",
        "c //= a \n",
        "print (\"Line 7 - Value of c is \", c) "
      ],
      "metadata": {
        "colab": {
          "base_uri": "https://localhost:8080/"
        },
        "id": "oYL54Izy31us",
        "outputId": "bcc9797f-f1ae-41c8-d754-fef2d2a99130"
      },
      "execution_count": 55,
      "outputs": [
        {
          "output_type": "stream",
          "name": "stdout",
          "text": [
            "Line 3 - Value of c is  0\n",
            "Line 4 - Value of c is  0.0\n",
            "Line 5 - Value of c is  2\n",
            "Line 6 - Value of c is  2097152\n",
            "Line 7 - Value of c is  8\n"
          ]
        }
      ]
    },
    {
      "cell_type": "code",
      "source": [
        "a = 10 \n",
        "b = 20 \n",
        "list = [1, 2, 3, 4, 5 ] \n",
        " \n",
        "if ( a in list ): \n",
        "   print (\"Line 1 - a is available in the given list\") \n",
        "else: \n",
        "   print (\"Line 1 - a is not available in the given list\") \n",
        " \n",
        "if ( b not in list ): \n",
        "   print (\"Line 2 - b is not available in the given list\") \n",
        "else: \n",
        "   print (\"Line 2 - b is available in the given list\") \n",
        " \n",
        "c=b/a \n",
        "if ( c in list ): \n",
        "   print (\"Line 3 - c is available in the given list\") \n",
        "else: \n",
        "  print (\"Line 3 - c is not available in the given list\") "
      ],
      "metadata": {
        "colab": {
          "base_uri": "https://localhost:8080/"
        },
        "id": "dTgBfXnj3-P6",
        "outputId": "d4858344-254d-464c-95b9-0b1600eb5d3a"
      },
      "execution_count": 60,
      "outputs": [
        {
          "output_type": "stream",
          "name": "stdout",
          "text": [
            "Line 1 - a is not available in the given list\n",
            "Line 2 - b is not available in the given list\n",
            "Line 3 - c is available in the given list\n"
          ]
        }
      ]
    },
    {
      "cell_type": "code",
      "source": [
        "a = 20 \n",
        "b = 20 \n",
        "print ('Line 1','a=',a,':',id(a), 'b=',b,':',id(b)) \n",
        " \n",
        "if ( a is b ): \n",
        "   print (\"Line 2 - a and b have same identity\") \n",
        "else: \n",
        "   print (\"Line 2 - a and b do not have same identity\") \n",
        " \n",
        "if ( id(a) == id(b) ): \n",
        "   print (\"Line 3 - a and b have same identity\") \n",
        "else: \n",
        "   print (\"Line 3 - a and b do not have same identity\") \n",
        "b = 30 \n",
        "print ('Line 4','a=',a,':',id(a), 'b=',b,':',id(b)) \n",
        " \n",
        "if ( a is not b ): \n",
        "   print (\"Line 5 - a and b do not have same identity\") \n",
        "else: \n",
        "   print (\"Line 5 - a and b have same identity\") "
      ],
      "metadata": {
        "colab": {
          "base_uri": "https://localhost:8080/"
        },
        "id": "DXcxHQXC6hou",
        "outputId": "3b731a9d-7b83-4525-9792-3803c6b0cae4"
      },
      "execution_count": 65,
      "outputs": [
        {
          "output_type": "stream",
          "name": "stdout",
          "text": [
            "Line 1 a= 20 : 11256672 b= 20 : 11256672\n",
            "Line 2 - a and b have same identity\n",
            "Line 3 - a and b have same identity\n",
            "Line 4 a= 20 : 11256672 b= 30 : 11256992\n",
            "Line 5 - a and b do not have same identity\n"
          ]
        }
      ]
    },
    {
      "cell_type": "code",
      "source": [
        ""
      ],
      "metadata": {
        "id": "4S0rYwgf8UQw"
      },
      "execution_count": null,
      "outputs": []
    }
  ]
}